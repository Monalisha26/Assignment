{
 "cells": [
  {
   "cell_type": "markdown",
   "id": "3f789fe3",
   "metadata": {},
   "source": [
    "## 1"
   ]
  },
  {
   "cell_type": "code",
   "execution_count": 3,
   "id": "b12d5b77",
   "metadata": {},
   "outputs": [
    {
     "name": "stdout",
     "output_type": "stream",
     "text": [
      "0     4\n",
      "1     8\n",
      "2    15\n",
      "3    16\n",
      "4    23\n",
      "5    42\n",
      "dtype: int64\n"
     ]
    }
   ],
   "source": [
    "import pandas as pd\n",
    "\n",
    "data = [4, 8, 15, 16, 23, 42]\n",
    "series = pd.Series(data)\n",
    "\n",
    "print(series)\n"
   ]
  },
  {
   "cell_type": "markdown",
   "id": "e5d568b8",
   "metadata": {},
   "source": [
    "## 2"
   ]
  },
  {
   "cell_type": "code",
   "execution_count": 4,
   "id": "6b8a74ff",
   "metadata": {},
   "outputs": [
    {
     "name": "stdout",
     "output_type": "stream",
     "text": [
      "0     10\n",
      "1     20\n",
      "2     30\n",
      "3     40\n",
      "4     50\n",
      "5     60\n",
      "6     70\n",
      "7     80\n",
      "8     90\n",
      "9    100\n",
      "dtype: int64\n"
     ]
    }
   ],
   "source": [
    "import pandas as pd\n",
    "my_list = [10, 20, 30, 40, 50, 60, 70, 80, 90, 100]\n",
    "my_series = pd.Series(my_list)\n",
    "print(my_series)\n"
   ]
  },
  {
   "cell_type": "markdown",
   "id": "be49b4b5",
   "metadata": {},
   "source": [
    "## 3"
   ]
  },
  {
   "cell_type": "code",
   "execution_count": 5,
   "id": "3c161dbe",
   "metadata": {},
   "outputs": [
    {
     "name": "stdout",
     "output_type": "stream",
     "text": [
      "     Name  Age  Gender\n",
      "0   Alice   25  Female\n",
      "1     Bob   30    Male\n",
      "2  Claire   27  Female\n"
     ]
    }
   ],
   "source": [
    "import pandas as pd\n",
    "\n",
    "data = {\n",
    "    'Name': ['Alice', 'Bob', 'Claire'],\n",
    "    'Age': [25, 30, 27],\n",
    "    'Gender': ['Female', 'Male', 'Female']\n",
    "}\n",
    "\n",
    "df = pd.DataFrame(data)\n",
    "\n",
    "print(df)\n"
   ]
  },
  {
   "cell_type": "markdown",
   "id": "af349d8f",
   "metadata": {},
   "source": [
    "## 4"
   ]
  },
  {
   "cell_type": "markdown",
   "id": "86f0d236",
   "metadata": {},
   "source": [
    "In Pandas, both DataFrame and Series are fundamental data structures for handling and analyzing tabular data, but they have different characteristics and use cases:\n",
    "\n",
    "DataFrame:\n",
    "- A DataFrame is a two-dimensional, labeled data structure that resembles a table or spreadsheet with rows and columns.\n",
    "- It can store heterogeneous data types in different columns.\n",
    "- Each column in a DataFrame is essentially a Pandas Series.\n",
    "- DataFrames are useful for working with structured, tabular data where we need to perform operations on multiple columns simultaneously.\n",
    "- DataFrames can be thought of as a collection of Pandas Series that share a common index.\n",
    "- They have both row and column labels, making it easy to select, filter, and manipulate data."
   ]
  },
  {
   "cell_type": "code",
   "execution_count": 1,
   "id": "75c5a13e",
   "metadata": {},
   "outputs": [
    {
     "name": "stdout",
     "output_type": "stream",
     "text": [
      "     Name  Age  Gender\n",
      "0   Alice   25  Female\n",
      "1     Bob   30    Male\n",
      "2  Claire   27  Female\n"
     ]
    }
   ],
   "source": [
    "import pandas as pd\n",
    "\n",
    "data = {\n",
    "    'Name': ['Alice', 'Bob', 'Claire'],\n",
    "    'Age': [25, 30, 27],\n",
    "    'Gender': ['Female', 'Male', 'Female']\n",
    "}\n",
    "\n",
    "df = pd.DataFrame(data)\n",
    "print(df)"
   ]
  },
  {
   "cell_type": "markdown",
   "id": "6efb36ed",
   "metadata": {},
   "source": [
    "Series:\n",
    "- A Series is a one-dimensional labeled array that can hold data of any data type (e.g., integers, strings, floats, etc.).\n",
    "- It is like a single column from a DataFrame.\n",
    "- Series are useful for representing and manipulating one-dimensional data.\n",
    "- They have a label (index) associated with each data point."
   ]
  },
  {
   "cell_type": "code",
   "execution_count": 2,
   "id": "ca40079f",
   "metadata": {},
   "outputs": [
    {
     "name": "stdout",
     "output_type": "stream",
     "text": [
      "0    25\n",
      "1    30\n",
      "2    27\n",
      "dtype: int64\n"
     ]
    }
   ],
   "source": [
    "import pandas as pd\n",
    "\n",
    "ages = pd.Series([25, 30, 27])\n",
    "print(ages)"
   ]
  },
  {
   "cell_type": "markdown",
   "id": "f8bb7fc9",
   "metadata": {},
   "source": [
    "In this example, `ages` is a Pandas Series with integer values and an automatically generated numeric index.\n",
    "\n",
    "In summary, while both DataFrames and Series are essential components of Pandas, DataFrames are used for two-dimensional tabular data with multiple columns, whereas Series are used for one-dimensional data, such as a single column or row from a DataFrame. DataFrames can be thought of as collections of Series that share the same index, and they provide powerful tools for data manipulation and analysis on structured data."
   ]
  },
  {
   "cell_type": "markdown",
   "id": "8055c9f6",
   "metadata": {},
   "source": [
    "## 5"
   ]
  },
  {
   "cell_type": "markdown",
   "id": "0e3faaf4",
   "metadata": {},
   "source": [
    "Pandas is a popular Python library for data manipulation and analysis, and it provides a wide range of functions and methods to manipulate data within a DataFrame. Here are some common functions we can use to manipulate data in a Pandas DataFrame, along with examples of when we might use them:\n",
    "\n",
    "1.Filtering Data\n",
    "`df[df['column_name'] > value]`: Use this to filter rows based on a condition. For example, filtering a DataFrame to include only rows where a specific column's values are greater than a certain value."
   ]
  },
  {
   "cell_type": "code",
   "execution_count": 5,
   "id": "ff66296f",
   "metadata": {},
   "outputs": [
    {
     "name": "stdout",
     "output_type": "stream",
     "text": [
      "   A  B\n",
      "2  3  7\n",
      "3  4  8\n"
     ]
    }
   ],
   "source": [
    "import pandas as pd\n",
    "data = {'A': [1, 2, 3, 4], 'B': [5, 6, 7, 8]}\n",
    "df = pd.DataFrame(data)\n",
    "filtered_df = df[df['A'] > 2]\n",
    "print(filtered_df)"
   ]
  },
  {
   "cell_type": "markdown",
   "id": "f77d2dfd",
   "metadata": {},
   "source": [
    "\n",
    "2.Sorting Data:\n",
    "df.sort_values(by='column_name'): Sort the DataFrame by the values in a specific column.\n",
    "\n",
    "   sorted_df = df.sort_values(by='A')\n",
    "\n",
    "\n",
    "3.Grouping Data:\n",
    "df.groupby('column_name'): Group rows based on unique values in a specific column. We can then apply aggregation functions to each group.\n",
    "\n",
    "\n",
    "   grouped = df.groupby('B')\n",
    "   avg_values = grouped['A'].mean()\n",
    " \n",
    "\n",
    "4.Aggregating Data:\n",
    "df.groupby('column_name').agg({'agg_column': 'agg_function'}): Calculate aggregate statistics for groups created using `groupby`. For example, finding the mean of a column for each group.\n",
    "\n",
    "agg_df = df.groupby('B').agg({'A': 'mean'})\n",
    "\n",
    "\n",
    "5.Merging and Joining Data:\n",
    "pd.merge(df1, df2, on='key_column'): Merge two DataFrames based on a common key column.\n",
    "merged_df = pd.merge(df1, df2, on='key_column')\n",
    "\n",
    "6.Pivoting Data:\n",
    "df.pivot(index='index_column', columns='column_to_pivot'): Reshape data by pivoting rows into columns based on index and column values.\n",
    "\n",
    "   pivoted_df = df.pivot(index='A', columns='B', values='C')\n",
    "\n",
    "\n",
    "7.Handling Missing Data:\n",
    "df.dropna(): Remove rows with missing values.\n",
    "df.fillna(value): Replace missing values with a specified value.\n",
    "\n",
    "   cleaned_df = df.dropna()\n",
    "   filled_df = df.fillna(0)\n",
    "\n",
    "\n",
    "8.Applying Functions:\n",
    "df.apply(func): Apply a function to each element or row/column of the DataFrame.\n",
    "\n",
    "   def square(x):\n",
    "       return x ** 2\n",
    "\n",
    "   squared_values = df['A'].apply(square)\n",
    "\n",
    "9.Reshaping Data:\n",
    " pd.melt(df, id_vars=['id_columns'], value_vars=['value_columns']): Unpivot a DataFrame from wide to long format.\n",
    "\n",
    "   melted_df = pd.melt(df, id_vars=['ID'], value_vars=['Var1', 'Var2'])"
   ]
  },
  {
   "cell_type": "markdown",
   "id": "a9cd44b3",
   "metadata": {},
   "source": [
    "## 6"
   ]
  },
  {
   "cell_type": "markdown",
   "id": "b4669bd4",
   "metadata": {},
   "source": [
    "Series and Dataframe are mutable.A pandas Series is mutable, which means we can modify its elements after it is created. We can change values at specific indices, add or remove elements, and perform various operations to alter the Series and pandas DataFrame is also mutable. We can modify its columns, add or remove rows or columns, update values, and perform various data manipulation tasks on it."
   ]
  },
  {
   "cell_type": "markdown",
   "id": "322f2722",
   "metadata": {},
   "source": [
    "## 7"
   ]
  },
  {
   "cell_type": "code",
   "execution_count": 6,
   "id": "f9b4e9f2",
   "metadata": {},
   "outputs": [
    {
     "name": "stdout",
     "output_type": "stream",
     "text": [
      "   Column_A Column_B  Column_C\n",
      "0         1    apple      10.5\n",
      "1         2   banana      20.2\n",
      "2         3   cherry       5.0\n",
      "3         4     date      15.8\n"
     ]
    }
   ],
   "source": [
    "import pandas as pd\n",
    "\n",
    "s1 = pd.Series([1, 2, 3, 4], name='A')\n",
    "s2 = pd.Series(['apple', 'banana', 'cherry', 'date'], name='B')\n",
    "s3 = pd.Series([10.5, 20.2, 5.0, 15.8], name='C')\n",
    "\n",
    "# Combine the Series into a DataFrame\n",
    "df = pd.DataFrame({'Column_A': s1, 'Column_B': s2, 'Column_C': s3})\n",
    "\n",
    "\n",
    "print(df)\n"
   ]
  },
  {
   "cell_type": "code",
   "execution_count": null,
   "id": "b6dd044f",
   "metadata": {},
   "outputs": [],
   "source": []
  }
 ],
 "metadata": {
  "kernelspec": {
   "display_name": "Python 3 (ipykernel)",
   "language": "python",
   "name": "python3"
  },
  "language_info": {
   "codemirror_mode": {
    "name": "ipython",
    "version": 3
   },
   "file_extension": ".py",
   "mimetype": "text/x-python",
   "name": "python",
   "nbconvert_exporter": "python",
   "pygments_lexer": "ipython3",
   "version": "3.11.3"
  }
 },
 "nbformat": 4,
 "nbformat_minor": 5
}
