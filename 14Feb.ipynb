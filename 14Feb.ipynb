{
 "cells": [
  {
   "cell_type": "markdown",
   "id": "07aeed60",
   "metadata": {},
   "source": [
    "## 1"
   ]
  },
  {
   "cell_type": "markdown",
   "id": "6106a70c",
   "metadata": {},
   "source": [
    "Multithreading in Python refers to the ability of a program to execute multiple threads concurrently, where each thread represents a separate sequence of instructions that can be scheduled and run independently by the operating system. These threads share the same memory space within a process, allowing them to access and modify the same data.\n",
    "\n",
    "Multithreading is used to improve the efficiency of programs that involve I/O-bound operations, such as network communication, file I/O, and database access. When a program performs such operations, it often spends a significant amount of time waiting for data to be fetched or transmitted, during which the CPU is relatively idle. By using threads to perform these operations concurrently, the program can make better use of the available CPU time and potentially achieve faster overall execution.\n",
    "\n",
    "The threading module is used in Python to handle threads. This module provides classes and functions to work with threads, allowing us to create, manage, and control thread execution"
   ]
  },
  {
   "cell_type": "code",
   "execution_count": 1,
   "id": "089b61db",
   "metadata": {},
   "outputs": [
    {
     "name": "stdout",
     "output_type": "stream",
     "text": [
      "Thread-0 is downloading image from ['https://fastly.picsum.photos/id/10/2500/1667.jpg?hmac=J04WWC_ebchx3WwzbM-Z4_KC_LeLBWr5LZMaAkWkF68', 'https://fastly.picsum.photos/id/6/5000/3333.jpg?hmac=pq9FRpg2xkAQ7J9JTrBtyFcp9-qvlu8ycAi7bUHlL7I', 'https://fastly.picsum.photos/id/13/2500/1667.jpg?hmac=SoX9UoHhN8HyklRA4A3vcCWJMVtiBXUg0W4ljWTor7s']\n",
      "\n",
      "Thread-1 is downloading image from ['https://fastly.picsum.photos/id/10/2500/1667.jpg?hmac=J04WWC_ebchx3WwzbM-Z4_KC_LeLBWr5LZMaAkWkF68', 'https://fastly.picsum.photos/id/6/5000/3333.jpg?hmac=pq9FRpg2xkAQ7J9JTrBtyFcp9-qvlu8ycAi7bUHlL7I', 'https://fastly.picsum.photos/id/13/2500/1667.jpg?hmac=SoX9UoHhN8HyklRA4A3vcCWJMVtiBXUg0W4ljWTor7s']\n",
      "\n",
      "Thread-2 is downloading image from ['https://fastly.picsum.photos/id/10/2500/1667.jpg?hmac=J04WWC_ebchx3WwzbM-Z4_KC_LeLBWr5LZMaAkWkF68', 'https://fastly.picsum.photos/id/6/5000/3333.jpg?hmac=pq9FRpg2xkAQ7J9JTrBtyFcp9-qvlu8ycAi7bUHlL7I', 'https://fastly.picsum.photos/id/13/2500/1667.jpg?hmac=SoX9UoHhN8HyklRA4A3vcCWJMVtiBXUg0W4ljWTor7s']\n",
      "\n"
     ]
    }
   ],
   "source": [
    "import threading\n",
    "import time\n",
    "\n",
    "def download_image(image_url, thread_num):\n",
    "    print(f\"Thread-{thread_num} is downloading image from {image_url}\\n\")\n",
    "    time.sleep(2) \n",
    "    print(f\"Thread-{thread_num} has finished downloading image from {image_url}\\n\")\n",
    "\n",
    "url = [\"https://fastly.picsum.photos/id/10/2500/1667.jpg?hmac=J04WWC_ebchx3WwzbM-Z4_KC_LeLBWr5LZMaAkWkF68\",\n",
    "    \"https://fastly.picsum.photos/id/6/5000/3333.jpg?hmac=pq9FRpg2xkAQ7J9JTrBtyFcp9-qvlu8ycAi7bUHlL7I\",\n",
    "    \"https://fastly.picsum.photos/id/13/2500/1667.jpg?hmac=SoX9UoHhN8HyklRA4A3vcCWJMVtiBXUg0W4ljWTor7s\"]\n",
    "\n",
    "threads = [threading.Thread(target=download_image , args = (url,i) ) for i in range(3)]  \n",
    "\n",
    "for thread in threads:\n",
    "    thread.start()\n",
    "\n"
   ]
  },
  {
   "cell_type": "markdown",
   "id": "9c27f561",
   "metadata": {},
   "source": [
    "## 2"
   ]
  },
  {
   "cell_type": "markdown",
   "id": "d6f78abc",
   "metadata": {},
   "source": [
    "The threading module in Python is used to create and manage threads for concurrent execution within a single process. It provides a higher-level interface for working with threads compared to the lower-level `_thread` module. The `threading` module allows us to create, start, manage, and control threads, making it easier to work with threads in a multi-threaded environment.\n",
    "\n",
    "1.activeCount(): This function returns the number of Thread objects currently alive. A \"live\" thread is a thread that has been created but has not yet finished its execution or been terminated.\n",
    "\n",
    "2.currentThread():This function returns the Thread object corresponding to the caller's thread. The Thread object represents the currently executing thread and provides various methods and attributes to interact with the thread.\n",
    "\n",
    "3.enumerate():The enumerate() function returns a list of all Thread objects currently alive. Each Thread object represents an active thread in the program. This function is useful to get a list of all running threads, which can be helpful for debugging or monitoring purposes.\n"
   ]
  },
  {
   "cell_type": "code",
   "execution_count": 2,
   "id": "e297d47e",
   "metadata": {},
   "outputs": [
    {
     "name": "stdout",
     "output_type": "stream",
     "text": [
      "Thread-8 (test) has started.\n",
      "Thread-9 (test) has started.\n",
      "Thread-10 (test) has started.\n"
     ]
    },
    {
     "name": "stderr",
     "output_type": "stream",
     "text": [
      "C:\\Users\\monal\\AppData\\Local\\Temp\\ipykernel_6356\\3749491734.py:5: DeprecationWarning: currentThread() is deprecated, use current_thread() instead\n",
      "  print(f\"{threading.currentThread().name} has started.\")\n"
     ]
    },
    {
     "name": "stdout",
     "output_type": "stream",
     "text": [
      "Thread-0 has finished downloading image from ['https://fastly.picsum.photos/id/10/2500/1667.jpg?hmac=J04WWC_ebchx3WwzbM-Z4_KC_LeLBWr5LZMaAkWkF68', 'https://fastly.picsum.photos/id/6/5000/3333.jpg?hmac=pq9FRpg2xkAQ7J9JTrBtyFcp9-qvlu8ycAi7bUHlL7I', 'https://fastly.picsum.photos/id/13/2500/1667.jpg?hmac=SoX9UoHhN8HyklRA4A3vcCWJMVtiBXUg0W4ljWTor7s']\n",
      "\n",
      "Thread-1 has finished downloading image from ['https://fastly.picsum.photos/id/10/2500/1667.jpg?hmac=J04WWC_ebchx3WwzbM-Z4_KC_LeLBWr5LZMaAkWkF68', 'https://fastly.picsum.photos/id/6/5000/3333.jpg?hmac=pq9FRpg2xkAQ7J9JTrBtyFcp9-qvlu8ycAi7bUHlL7I', 'https://fastly.picsum.photos/id/13/2500/1667.jpg?hmac=SoX9UoHhN8HyklRA4A3vcCWJMVtiBXUg0W4ljWTor7s']\n",
      "\n",
      "Thread-2 has finished downloading image from ['https://fastly.picsum.photos/id/10/2500/1667.jpg?hmac=J04WWC_ebchx3WwzbM-Z4_KC_LeLBWr5LZMaAkWkF68', 'https://fastly.picsum.photos/id/6/5000/3333.jpg?hmac=pq9FRpg2xkAQ7J9JTrBtyFcp9-qvlu8ycAi7bUHlL7I', 'https://fastly.picsum.photos/id/13/2500/1667.jpg?hmac=SoX9UoHhN8HyklRA4A3vcCWJMVtiBXUg0W4ljWTor7s']\n",
      "\n",
      "Thread-9 (test) has finished.\n",
      "Thread-8 (test) has finished.\n",
      "Thread-10 (test) has finished.\n",
      "Number of active threads: 6\n",
      "Thread information:\n",
      "Thread name: MainThread\n",
      "Thread name: IOPub\n",
      "Thread name: Heartbeat\n",
      "Thread name: Control\n",
      "Thread name: IPythonHistorySavingThread\n",
      "Thread name: Thread-4\n",
      "Main thread has finished.\n"
     ]
    },
    {
     "name": "stderr",
     "output_type": "stream",
     "text": [
      "C:\\Users\\monal\\AppData\\Local\\Temp\\ipykernel_6356\\3749491734.py:7: DeprecationWarning: currentThread() is deprecated, use current_thread() instead\n",
      "  print(f\"{threading.currentThread().name} has finished.\")\n",
      "C:\\Users\\monal\\AppData\\Local\\Temp\\ipykernel_6356\\3749491734.py:17: DeprecationWarning: activeCount() is deprecated, use active_count() instead\n",
      "  active_count = threading.activeCount()\n"
     ]
    }
   ],
   "source": [
    "import threading\n",
    "import time\n",
    "\n",
    "def test():\n",
    "    print(f\"{threading.currentThread().name} has started.\")\n",
    "    time.sleep(4)\n",
    "    print(f\"{threading.currentThread().name} has finished.\")\n",
    "\n",
    "threads = [threading.Thread(target=test) for i in  range(3)]\n",
    "\n",
    "for thread in threads:\n",
    "    thread.start()\n",
    "    \n",
    "for thread in threads:\n",
    "    thread.join()\n",
    "\n",
    "active_count = threading.activeCount()\n",
    "print(f\"Number of active threads: {active_count}\")\n",
    "\n",
    "print(\"Thread information:\")\n",
    "for thread in threading.enumerate():\n",
    "    print(f\"Thread name: {thread.name}\")\n",
    "\n",
    "print(\"Main thread has finished.\")\n"
   ]
  },
  {
   "cell_type": "markdown",
   "id": "47b152c8",
   "metadata": {},
   "source": [
    "## 3"
   ]
  },
  {
   "cell_type": "markdown",
   "id": "313949a2",
   "metadata": {},
   "source": [
    "run():This method is not typically called directly by the user. Instead, it's invoked when a Thread instance is started using the start() method. The run() method contains the code that the thread will execute.\n",
    "\n",
    "start() :This method is used to begin the execution of a thread. It creates a new thread and invokes the run() method of the thread. The new thread runs concurrently with the main thread.\n",
    "\n",
    "join():This method is used to wait for a thread to complete its execution. When the join() method is called on a thread, the calling thread (usually the main thread) blocks until the thread being joined completes its execution.\n",
    "\n",
    "isAlive(): This attribute is a boolean that indicates whether a thread is currently executing or not. It's True if the thread is active (has started but not yet finished), and False if the thread has completed.\n"
   ]
  },
  {
   "cell_type": "code",
   "execution_count": 3,
   "id": "acf66242",
   "metadata": {},
   "outputs": [
    {
     "name": "stderr",
     "output_type": "stream",
     "text": [
      "C:\\Users\\monal\\AppData\\Local\\Temp\\ipykernel_6356\\909631381.py:5: DeprecationWarning: currentThread() is deprecated, use current_thread() instead\n",
      "  print(f\"{threading.currentThread().name} started.\")\n"
     ]
    },
    {
     "name": "stdout",
     "output_type": "stream",
     "text": [
      "Is thread alive before join? True\n",
      "\n",
      "Thread-11 (test) started.\n",
      "Thread-11 (test) finished.\n",
      "Is thread alive after join? False\n",
      "\n",
      "Main thread finished.\n"
     ]
    },
    {
     "name": "stderr",
     "output_type": "stream",
     "text": [
      "C:\\Users\\monal\\AppData\\Local\\Temp\\ipykernel_6356\\909631381.py:7: DeprecationWarning: currentThread() is deprecated, use current_thread() instead\n",
      "  print(f\"{threading.currentThread().name} finished.\")\n"
     ]
    }
   ],
   "source": [
    "import threading\n",
    "import time\n",
    "\n",
    "def test():\n",
    "    print(f\"{threading.currentThread().name} started.\")\n",
    "    time.sleep(2)\n",
    "    print(f\"{threading.currentThread().name} finished.\")\n",
    "\n",
    "thread = threading.Thread(target=test)\n",
    "\n",
    "\n",
    "thread.start()\n",
    "\n",
    "print(f\"Is thread alive before join? {thread.is_alive()}\\n\")\n",
    "\n",
    "thread.join()\n",
    "print(f\"Is thread alive after join? {thread.is_alive()}\\n\")\n",
    "\n",
    "print(\"Main thread finished.\")"
   ]
  },
  {
   "cell_type": "markdown",
   "id": "c059fdc7",
   "metadata": {},
   "source": [
    "## 4"
   ]
  },
  {
   "cell_type": "code",
   "execution_count": 4,
   "id": "59fc3b59",
   "metadata": {},
   "outputs": [
    {
     "name": "stdout",
     "output_type": "stream",
     "text": [
      "Calculating squares:\n",
      "Square of 0: 0\n",
      "Calculating squares:\n",
      "Square of 1: 1\n",
      "Calculating squares:\n",
      "Square of 2: 4\n",
      "Calculating squares:\n",
      "Square of 3: 9\n",
      "Calculating squares:\n",
      "Square of 4: 16\n",
      "Calculating cubes:\n",
      "Cube of 0: 0\n",
      "Calculating cubes:\n",
      "Cube of 1: 1\n",
      "Calculating cubes:\n",
      "Cube of 2: 8\n",
      "Calculating cubes:\n",
      "Cube of 3: 27\n",
      "Calculating cubes:\n",
      "Cube of 4: 64\n",
      "Both threads have finished.\n"
     ]
    }
   ],
   "source": [
    "import threading\n",
    "\n",
    "def calc_square(num):\n",
    "    print(\"Calculating squares:\")\n",
    "    for i in num:\n",
    "        print(f\"Square of {i}: {i ** 2}\")\n",
    "\n",
    "def calc_cube(num):\n",
    "    print(\"Calculating cubes:\")\n",
    "    for j in num:\n",
    "        print(f\"Cube of {j}: {j ** 3}\")\n",
    "\n",
    "\n",
    "thread1 = [threading.Thread(target=calc_square,args=([i],))for i in range(5)]\n",
    "thread2 = [threading.Thread(target=calc_cube,args=([j],))for j in range(5)]\n",
    "\n",
    "\n",
    "for t in thread1:\n",
    "    t.start()\n",
    "for j in thread2:\n",
    "    j.start()\n",
    "\n",
    "for l in thread1:\n",
    "    l.join()\n",
    "for k in thread2:\n",
    "    k.join()\n",
    "\n",
    "print(\"Both threads have finished.\")\n"
   ]
  },
  {
   "cell_type": "markdown",
   "id": "4f193e08",
   "metadata": {},
   "source": [
    "## 5"
   ]
  },
  {
   "cell_type": "markdown",
   "id": "9141edee",
   "metadata": {},
   "source": [
    "Multithreading offers improved concurrency and can enhance performance in certain scenarios, especially those involving I/O-bound operations. However, it also introduces complexity and challenges related to synchronization and resource management.\n",
    "\n",
    "Advantages of Multithreading:\n",
    "\n",
    "Concurrency:Multithreading allows multiple threads to run concurrently within a single process, improving the overall performance and responsiveness of a program.\n",
    "\n",
    "Parallelism:While Python's Global Interpreter Lock (GIL) limits true parallel execution for CPU-bound tasks, multithreading can still provide parallelism for I/O-bound tasks, making better use of available CPU cores.\n",
    "\n",
    "Efficient Resource Utilization:Threads share the same memory space, which makes memory sharing and communication between threads more efficient than processes that have separate memory spaces.\n",
    "\n",
    "Faster Task ExecutionMultithreading can lead to faster execution of tasks that involve waiting for external resources, such as I/O operations, by allowing other threads to continue execution during the wait.\n",
    "\n",
    "Responsive User Interfaces:Multithreading is often used in graphical user interfaces (GUIs) to ensure that the interface remains responsive while other tasks are performed in the background.\n",
    "\n",
    "Resource Sharing:Threads can easily share data and resources within the same process, allowing efficient communication and coordination between tasks.\n",
    "\n",
    "Disadvantages of Multithreading:\n",
    "\n",
    "Complexity:Multithreaded programs can be more complex to design, implement, and debug than single-threaded programs due to potential issues like race conditions, deadlocks, and synchronization problems.\n",
    "\n",
    "Race Conditions:Race conditions occur when multiple threads access shared data concurrently, leading to unpredictable and undesirable behavior if not properly managed through synchronization mechanisms.\n",
    "\n",
    "Synchronization Overhead:Synchronizing access to shared resources using locks, semaphores, and other synchronization primitives can introduce overhead and potentially degrade performance.\n",
    "\n",
    "Deadlocks:Deadlocks can occur when two or more threads are blocked indefinitely, each waiting for a resource held by the other thread, preventing any progress.\n",
    "\n",
    "Debugging Challenges:Debugging multithreaded programs can be challenging due to non-deterministic behavior, making it difficult to reproduce and diagnose issues consistently.\n"
   ]
  },
  {
   "cell_type": "markdown",
   "id": "6a2c7d97",
   "metadata": {},
   "source": [
    "## 6"
   ]
  },
  {
   "cell_type": "markdown",
   "id": "73739987",
   "metadata": {},
   "source": [
    "Deadlock:Deadlock occurs when two or more threads are blocked, each waiting for a resource that another thread holds, resulting in a situation where none of the threads can proceed."
   ]
  },
  {
   "cell_type": "markdown",
   "id": "b6ba6e40",
   "metadata": {},
   "source": [
    "import threading\n",
    "\n",
    "\n",
    "resource1 = threading.Lock()\n",
    "\n",
    "resource2 = threading.Lock()\n",
    "\n",
    "def thread1():\n",
    "    with resource1:\n",
    "        print(\"Thread 1 acquired resource 1\")\n",
    "        threading.Event().wait()\n",
    "        with resource2:\n",
    "            print(\"Thread 1 acquired resource 2\")\n",
    "\n",
    "def thread2():\n",
    "    with resource2:\n",
    "        print(\"Thread 2 acquired resource 2\")\n",
    "        threading.Event().wait()\n",
    "        with resource1:\n",
    "            print(\"Thread 2 acquired resource 1\")\n",
    "\n",
    "\n",
    "t1 = threading.Thread(target=thread1)\n",
    "t2 = threading.Thread(target=thread2)\n",
    "t1.start()\n",
    "t2.start()\n",
    "\n",
    "t1.join()\n",
    "t2.join()\n",
    "\n",
    "print(\"Both threads have finished.\") "
   ]
  },
  {
   "cell_type": "markdown",
   "id": "eda86e49",
   "metadata": {},
   "source": [
    "Race Condition:A race condition occurs when multiple threads access shared data concurrently, and at least one of the threads modifies the data. The final outcome of the data depends on the order of thread execution, leading to unexpected behavior. "
   ]
  },
  {
   "cell_type": "code",
   "execution_count": 14,
   "id": "bc46339b",
   "metadata": {},
   "outputs": [
    {
     "name": "stdout",
     "output_type": "stream",
     "text": [
      "counter=20\n",
      "\n",
      "counter=6\n",
      "\n",
      "The final counter is 6\n"
     ]
    }
   ],
   "source": [
    "from threading import Thread\n",
    "from time import sleep\n",
    "\n",
    "\n",
    "counter = 0\n",
    "\n",
    "def increase(by):\n",
    "    global counter\n",
    "\n",
    "    local_counter = counter\n",
    "    local_counter += by\n",
    "\n",
    "    sleep(2)\n",
    "\n",
    "    counter = local_counter\n",
    "    print(f'counter={counter}\\n')\n",
    "\n",
    "t1 = Thread(target=increase, args=(20,))\n",
    "t2 = Thread(target=increase, args=(6,))\n",
    "t1.start()\n",
    "t2.start()\n",
    "t1.join()\n",
    "t2.join()\n",
    "\n",
    "\n",
    "print(f'The final counter is {counter}') #here if thread 1 execution completed first then counter value different and if thread 2 execution completed later then different"
   ]
  },
  {
   "cell_type": "code",
   "execution_count": null,
   "id": "7e36b3fa",
   "metadata": {},
   "outputs": [],
   "source": []
  }
 ],
 "metadata": {
  "kernelspec": {
   "display_name": "Python 3 (ipykernel)",
   "language": "python",
   "name": "python3"
  },
  "language_info": {
   "codemirror_mode": {
    "name": "ipython",
    "version": 3
   },
   "file_extension": ".py",
   "mimetype": "text/x-python",
   "name": "python",
   "nbconvert_exporter": "python",
   "pygments_lexer": "ipython3",
   "version": "3.11.3"
  }
 },
 "nbformat": 4,
 "nbformat_minor": 5
}
