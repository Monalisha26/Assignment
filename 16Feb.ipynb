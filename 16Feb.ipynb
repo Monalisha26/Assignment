{
 "cells": [
  {
   "cell_type": "markdown",
   "id": "c6810859",
   "metadata": {},
   "source": [
    "## 1"
   ]
  },
  {
   "cell_type": "markdown",
   "id": "b2cae5b5",
   "metadata": {},
   "source": [
    "A database is a structured collection of data that is organized, stored, and managed in a way that allows efficient retrieval, updating, and manipulation of information. Databases are used to store and manage large volumes of data for various applications, ranging from simple data storage to complex business processes.\n",
    "\n",
    "Difference between SQL and NoSQL databases are:\n",
    "\n",
    "1.SQL (Structured Query Language) databases, also known as relational databases, are based on the relational model, which represents data in the form of tables with rows and columns while NoSQL (Not Only SQL) databases are  non-relational databases which includes a variety of database systems that differ from traditional relational databases in terms of data models, query languages, and storage architectures.\n",
    "\n",
    "2.In SQL data is organized into structured tables with predefined schemas while NoSQL databases can handle dynamic and evolving data structures without predefined schemas.\n",
    "\n",
    "3.In SQL  data is consistent and follows strict integrity rules defined by the schema while NoSQL databases often prioritize availability and partition tolerance over immediate consistency.\n",
    "\n",
    "4.SQL uses normalized data structure while NoSQL uses denormalized data structure\n",
    "\n",
    "5.SQL follows ACID properties (Atomicity, Consistency, Isolation, Durability) for transaction management while NoSQL doesn't.\n",
    "\n",
    "6.SQL supports joins and complex queries while NoSQL doesn't.\n",
    "\n",
    "7.SQL requires vertical scaling to handle large volumes of data while NoSQL requires horizontal scaling to handle large volumes of data\n",
    "\n",
    "8.Examples of SQL databases:MySQL, PostgreSQL, Oracle, SQL Server, Microsoft SQL Server\n",
    "Examples of NoSQL databases:MongoDB, Cassandra, Couchbase, Amazon DynamoDB, Redis"
   ]
  },
  {
   "cell_type": "markdown",
   "id": "28794830",
   "metadata": {},
   "source": [
    "## 2"
   ]
  },
  {
   "cell_type": "markdown",
   "id": "79c56281",
   "metadata": {},
   "source": [
    "DDL (Data Definition Language) is a subset of SQL (Structured Query Language) used for defining and managing the structure of a database, including creating, modifying, and deleting database objects such as tables, indexes, and constraints. DDL statements do not manipulate the data within the tables; instead, they focus on the structure and organization of the data.\n",
    "\n",
    "CREATE:\n",
    "The CREATE statement is used to create new database objects, such as tables, indexes, views, and schemas. It defines the structure and attributes of the object being created."
   ]
  },
  {
   "cell_type": "markdown",
   "id": "2fa9b84f",
   "metadata": {},
   "source": [
    "Ex:--CREATE TABLE Employees (\n",
    "    EmployeeID INT PRIMARY KEY,\n",
    "    FirstName VARCHAR(20),\n",
    "    LastName VARCHAR(20),\n",
    "    Department VARCHAR(30)\n",
    ");"
   ]
  },
  {
   "cell_type": "markdown",
   "id": "d2ab8ddf",
   "metadata": {},
   "source": [
    "DROP: The DROP statement is used to remove existing database objects, such as tables, indexes, views, or even entire databases. This permanently deletes the object and its associated data."
   ]
  },
  {
   "cell_type": "markdown",
   "id": "33ccef45",
   "metadata": {},
   "source": [
    "Ex:- dropping employees table- DROP TABLE Employees;"
   ]
  },
  {
   "cell_type": "markdown",
   "id": "0fd3f2b8",
   "metadata": {},
   "source": [
    "ALTER:The ALTER statement is used to modify the structure of an existing database object. It can be used to add, modify, or delete columns, constraints, and other object attributes."
   ]
  },
  {
   "cell_type": "markdown",
   "id": "5b264903",
   "metadata": {},
   "source": [
    "Ex:--altering employees table-adding email field\n",
    "\n",
    "ALTER TABLE Employees\n",
    "ADD Email VARCHAR(30);"
   ]
  },
  {
   "cell_type": "markdown",
   "id": "9a4c07c2",
   "metadata": {},
   "source": [
    "TRUNCATE:The TRUNCATE statement is used to remove all rows from a table, effectively resetting it to an empty state. Unlike the DELETE statement, which removes rows one by one and can be rolled back, TRUNCATE is more efficient and cannot be rolled back."
   ]
  },
  {
   "cell_type": "markdown",
   "id": "4f03bda4",
   "metadata": {},
   "source": [
    "Ex:TRUNCATE TABLE Employees;--will remove all rows from employees table"
   ]
  },
  {
   "cell_type": "markdown",
   "id": "736551c1",
   "metadata": {},
   "source": [
    "## 3"
   ]
  },
  {
   "cell_type": "markdown",
   "id": "0ce561fb",
   "metadata": {},
   "source": [
    "DML (Data Manipulation Language) is a subset of SQL (Structured Query Language) that deals with the manipulation and processing of data within a database. DML statements are used to insert, update, retrieve, and delete data from database tables."
   ]
  },
  {
   "cell_type": "markdown",
   "id": "2041057c",
   "metadata": {},
   "source": [
    "INSERT:The INSERT statement is used to add new records (rows) to a table. It specifies the table's name and the values to be inserted into the columns."
   ]
  },
  {
   "cell_type": "markdown",
   "id": "f2eeb616",
   "metadata": {},
   "source": [
    "Ex:-INSERT INTO Employees (EmployeeID, FirstName, LastName, Department)\n",
    "VALUES (1, 'Monalisha', 'Pati', 'Tech');\n",
    "\n",
    "INSERT INTO Employees (EmployeeID, FirstName, LastName, Department)\n",
    "VALUES (2, 'ABc', 'Test', 'Tech');\n",
    "\n",
    "---So here two rows entered in table employees"
   ]
  },
  {
   "cell_type": "markdown",
   "id": "891659f1",
   "metadata": {},
   "source": [
    "|EmployeeID|FirstName |LastName|Department|\n",
    "|:--------:|:--------:|:------:|---------:|\n",
    "|1         |Monalisha |Pati    |Tech      |\n",
    "|2         |ABc       |Test    |Tech      |"
   ]
  },
  {
   "cell_type": "markdown",
   "id": "39091fa9",
   "metadata": {},
   "source": [
    "UPDATE :The UPDATE statement is used to modify existing records in a table. It allows us to change the values of specific columns in one or more rows that match a given condition."
   ]
  },
  {
   "cell_type": "markdown",
   "id": "e2120aca",
   "metadata": {},
   "source": [
    "Ex:-UPDATE Employees\n",
    "SET Department = 'Support'\n",
    "WHERE EmployeeID = 1; --After executing this statement those records will be updated where employee id is 1.\n",
    "\n",
    "final result after this in db--"
   ]
  },
  {
   "cell_type": "markdown",
   "id": "7e43ceb1",
   "metadata": {},
   "source": [
    "|Col 1|Col 2    |Col 3|Col 4  |\n",
    "|:---:|:-------:|:---:|------:|\n",
    "|1    |Monalisha|Pati |Support|\n",
    "|2    |ABc      |Test |Tech   |"
   ]
  },
  {
   "cell_type": "markdown",
   "id": "1b33b000",
   "metadata": {},
   "source": [
    "DELETE :The DELETE statement is used to remove records from a table based on a specified condition. It deletes entire rows that meet the specified criteria."
   ]
  },
  {
   "cell_type": "markdown",
   "id": "8edb837d",
   "metadata": {},
   "source": [
    "Ex:-DELETE FROM Employees\n",
    "WHERE EmployeeID = 1;--After executing this statement those records will be deleted where employee id is 1.\n",
    "\n",
    "final result after this in db--"
   ]
  },
  {
   "cell_type": "markdown",
   "id": "e5ece9dd",
   "metadata": {},
   "source": [
    "|EmployeeID|FirstName |LastName|Department|\n",
    "|:--------:|:--------:|:------:|---------:|\n",
    "|2         |ABc       |Test    |Tech      |"
   ]
  },
  {
   "cell_type": "markdown",
   "id": "45353477",
   "metadata": {},
   "source": [
    "## 4"
   ]
  },
  {
   "cell_type": "markdown",
   "id": "ad0de630",
   "metadata": {},
   "source": [
    "DQL (Data Query Language) is a subset of SQL (Structured Query Language) that is primarily concerned with retrieving data from a database. DQL statements are used to query and retrieve specific information from one or more tables within a database. The most common and fundamental DQL statement is the SELECT statement."
   ]
  },
  {
   "cell_type": "markdown",
   "id": "5ae949f3",
   "metadata": {},
   "source": [
    "SELECT Statement:The SELECT statement is used to retrieve data from one or more tables in a database. It allows us to specify which columns we want to retrieve, the table(s) we want to retrieve the data from, and optional conditions to filter the data."
   ]
  },
  {
   "cell_type": "markdown",
   "id": "c11005ab",
   "metadata": {},
   "source": [
    "SELECT EmployeeID, FirstName, LastName, Department\n",
    "FROM Employees\n",
    "WHERE Department = 'Tech';"
   ]
  },
  {
   "cell_type": "markdown",
   "id": "2d936e43",
   "metadata": {},
   "source": [
    "In this example, the SELECT statement retrieves the \"EmployeeID,\" \"FirstName,\" \"LastName,\" and \"Department\" columns from the \"Employees\" table. The WHERE clause filters the results to only include employees from the \"Tech\" department."
   ]
  },
  {
   "cell_type": "markdown",
   "id": "e76d732a",
   "metadata": {},
   "source": [
    "## 5"
   ]
  },
  {
   "cell_type": "markdown",
   "id": "3c9e3244",
   "metadata": {},
   "source": [
    "Primary Key:A primary key is a unique identifier for a record in a database table. It uniquely identifies each row within the table, and no two rows can have the same primary key value. The primary key enforces data integrity and ensures that each record can be uniquely identified. It also serves as a reference point for establishing relationships between different tables."
   ]
  },
  {
   "cell_type": "markdown",
   "id": "1f4ef828",
   "metadata": {},
   "source": [
    "Key characteristics of a primary key:\n",
    "\n",
    "Uniqueness: Each value in the primary key column must be unique within the table.\n",
    "\n",
    "Non-null: The primary key column cannot contain null values.\n",
    "\n",
    "Stability: The primary key value should not change for the lifetime of the record.\n",
    "\n",
    "Indexed: The primary key is often automatically indexed for fast retrieval."
   ]
  },
  {
   "cell_type": "markdown",
   "id": "4d25d6e9",
   "metadata": {},
   "source": [
    "Example:\n",
    "Consider an \"Employees\" table with an \"EmployeeID\" column as the primary key. Each employee has a unique employee ID that serves as the primary key for identifying individual employees in the table."
   ]
  },
  {
   "cell_type": "markdown",
   "id": "4b991d87",
   "metadata": {},
   "source": [
    "Foreign Key:A foreign key is a column or set of columns in a database table that establishes a link between the data in two tables. It creates a relationship between the tables based on the values in the foreign key column and the primary key column of another table. The purpose of foreign keys is to maintain referential integrity, ensuring that the data in related tables remains consistent."
   ]
  },
  {
   "cell_type": "markdown",
   "id": "6d582451",
   "metadata": {},
   "source": [
    "Key characteristics of a foreign key:\n",
    "\n",
    "References: A foreign key references the primary key of another table, establishing a relationship between them.\n",
    "\n",
    "Maintains Referential Integrity: The foreign key ensures that values in the referencing table (child table) correspond to valid values in the referenced table (parent table).\n",
    "\n",
    "May Allow Nulls: Depending on the design, a foreign key column might allow null values to represent missing or optional relationships.\n",
    "\n",
    "Enables Joins: Foreign keys enable the creation of joins between tables to retrieve related data.\n"
   ]
  },
  {
   "cell_type": "markdown",
   "id": "18e85872",
   "metadata": {},
   "source": [
    "Example:\n",
    "Continuing with the \"Employees\" example, let's assume there is another table called \"Departments\" with a primary key \"DepartmentID.\" We can establish a relationship between the \"Employees\" and \"Departments\" tables using a foreign key:\n",
    "\n",
    "In the \"Employees\" table:\n",
    "EmployeeID | FirstName | LastName | DepartmentID (Foreign Key)\n",
    "-----------|-----------|----------|-------------------------\n",
    "1          | Mona      |Pati      | 101\n",
    "2          | ABc       |Xyz       | 102\n",
    "\n",
    "In the \"Departments\" table:\n",
    "\n",
    "DepartmentID | DepartmentName\n",
    "-------------|---------------\n",
    "101          | Tech\n",
    "102          | Support\n",
    "\n",
    "In this example, the \"DepartmentID\" column in the \"Employees\" table is a foreign key that references the \"DepartmentID\" primary key column in the \"Departments\" table. This establishes a relationship between employees and their respective departments. The foreign key ensures that the \"DepartmentID\" values in the \"Employees\" table correspond to valid department IDs in the \"Departments\" table, maintaining referential integrity.\n"
   ]
  },
  {
   "cell_type": "markdown",
   "id": "7ccf6532",
   "metadata": {},
   "source": [
    "## 6"
   ]
  },
  {
   "cell_type": "raw",
   "id": "a94d241a",
   "metadata": {},
   "source": [
    "import mysql.connector\n",
    "\n",
    "#Establish a connection to the MySQL server\n",
    "mydb = mysql.connector.connect(\n",
    "  host=\"localhost\",\n",
    "  user=\"abc\",\n",
    "  password=\"pasword\",\n",
    "  database=\"database_name\"\n",
    ")\n",
    "\n",
    "# Create a cursor object to interact with the database\n",
    "mycursor = mydb.cursor()\n",
    "\n",
    "# Execute a SQL query using the execute() method\n",
    "query = \"SELECT * FROM Employees\"\n",
    "mycursor.execute(query)\n",
    "\n",
    "# Fetch the results using the fetchall() method\n",
    "results = mycursor.fetchall()\n",
    "\n",
    "# Display the fetched results\n",
    "for row in results:\n",
    "    print(row)\n",
    "\n",
    "# Close the cursor and the database connection\n",
    "mycursor.close()\n",
    "mydb.close()"
   ]
  },
  {
   "cell_type": "markdown",
   "id": "ae8594c8",
   "metadata": {},
   "source": [
    "The cursor() method is used to create a cursor object that allows us to interact with a database by executing SQL queries and fetching results. A cursor acts as a pointer or a handle to a specific location within the result set of a query. It provides methods for executing queries, fetching data, and managing transactions. \n",
    "\n",
    "The execute() method is used to execute SQL statements or queries through a cursor object. It takes an SQL statement as its argument and sends it to the MySQL server for execution. "
   ]
  },
  {
   "cell_type": "markdown",
   "id": "e75188c0",
   "metadata": {},
   "source": [
    "## 7"
   ]
  },
  {
   "cell_type": "markdown",
   "id": "1550da52",
   "metadata": {},
   "source": [
    "The order of execution of SQL clauses in a query generally follows a logical sequence, although it's important to note that the actual execution order might be optimized by the database management system's query optimizer."
   ]
  },
  {
   "cell_type": "markdown",
   "id": "fc3e983e",
   "metadata": {},
   "source": [
    "The typical order of execution for SQL clauses in a query:\n",
    "\n",
    "FROM: The FROM clause specifies the tables from which data will be retrieved. This is the starting point of the query and defines the source tables for the subsequent operations.\n",
    "\n",
    "JOIN: If the query involves joining multiple tables, the JOIN clauses specify how the tables are connected based on common columns. Different types of joins (INNER, LEFT, RIGHT, FULL) determine which records from the tables are included in the result set.\n",
    "\n",
    "WHERE: The WHERE clause filters the rows from the tables based on specified conditions. Only the rows that satisfy the conditions in the WHERE clause are included in the result set.\n",
    "\n",
    "GROUP BY: If grouping is required, the GROUP BY clause organizes rows into groups based on specified columns. Aggregation functions (such as SUM, COUNT, AVG) can be used on the grouped data.\n",
    "\n",
    "HAVING: The HAVING clause filters the groups created by the GROUP BY clause based on aggregate conditions. It's similar to the WHERE clause but operates on groups instead of individual rows.\n",
    "\n",
    "SELECT: The SELECT clause determines which columns from the tables or expressions are included in the result set. It comes after filtering, joining, grouping, and aggregating operations.\n",
    "\n",
    "DISTINCT: If the DISTINCT keyword is used, duplicate rows are removed from the result set.\n",
    "\n",
    "ORDER BY: The ORDER BY clause specifies the order in which the rows in the result set are presented. It comes after all other clauses to ensure that the final output is ordered as desired.\n",
    "\n",
    "LIMIT/OFFSET: If supported by the database, the LIMIT and OFFSET clauses restrict the number of rows returned and specify a starting point within the result set.\n",
    "\n",
    "The query optimizer of the database management system may reorder or optimize these clauses for performance reasons. This means that the order of execution might not exactly follow the logical sequence described above, but the end result will be the same as long as the query semantics are preserved."
   ]
  },
  {
   "cell_type": "code",
   "execution_count": null,
   "id": "7f592ad2",
   "metadata": {},
   "outputs": [],
   "source": []
  }
 ],
 "metadata": {
  "kernelspec": {
   "display_name": "Python 3 (ipykernel)",
   "language": "python",
   "name": "python3"
  },
  "language_info": {
   "codemirror_mode": {
    "name": "ipython",
    "version": 3
   },
   "file_extension": ".py",
   "mimetype": "text/x-python",
   "name": "python",
   "nbconvert_exporter": "python",
   "pygments_lexer": "ipython3",
   "version": "3.11.3"
  }
 },
 "nbformat": 4,
 "nbformat_minor": 5
}
