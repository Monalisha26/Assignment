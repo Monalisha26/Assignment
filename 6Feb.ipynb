{
 "cells": [
  {
   "cell_type": "markdown",
   "id": "ddb7d5ca",
   "metadata": {},
   "source": [
    "## 1"
   ]
  },
  {
   "cell_type": "code",
   "execution_count": 1,
   "id": "a459a47a",
   "metadata": {},
   "outputs": [
    {
     "name": "stdout",
     "output_type": "stream",
     "text": [
      "4134711838987085478833841242112000\n"
     ]
    }
   ],
   "source": [
    "list1 = [1,2,3,4, [44,55,66, True], False, (34,56,78,89,34), {1,2,3,3,2,1}, {1:34, \"key2\": [55, 67, 78, 89], 4: (45,\n",
    "22, 61, 34)}, [56, 'data science'], 'Machine Learning']\n",
    "def flat(list1):\n",
    "    flatList = []\n",
    "    for i in list1:\n",
    "        if (type(i) is list)or(type(i) is tuple)or(type(i) is set):\n",
    "            flatList=flatList+flat(i)\n",
    "        elif(type(i) is dict):\n",
    "            x=i.values()\n",
    "            y=i.keys()\n",
    "            for j in x:\n",
    "                 if (type(j) is list)or(type(j) is tuple)or(type(j) is set):\n",
    "                    flatList=flatList+flat(j)\n",
    "                 else:\n",
    "                    flatList.append(j)\n",
    "            for j in y:\n",
    "                 if (type(j) is list)or(type(j) is tuple)or(type(j) is set):\n",
    "                    \n",
    "                    flatList=flatList+flat(j)\n",
    "                 else:\n",
    "                    flatList.append(j)\n",
    "            \n",
    "        else:\n",
    "            flatList.append(i)\n",
    "    return flatList\n",
    "m=flat(list1) # change complete list to flatlist\n",
    "p=1\n",
    "for i in m:\n",
    "    if(type(i)==int):\n",
    "        p=p*i\n",
    "print(p)\n"
   ]
  },
  {
   "cell_type": "markdown",
   "id": "88a1216a",
   "metadata": {},
   "source": [
    "## 2"
   ]
  },
  {
   "cell_type": "code",
   "execution_count": 3,
   "id": "06ea35ff",
   "metadata": {},
   "outputs": [
    {
     "name": "stdout",
     "output_type": "stream",
     "text": [
      "i$wznt$to$yexome$z$dztz$sxientist.\n"
     ]
    }
   ],
   "source": [
    "def encrypt(code):\n",
    "    x=\"\"\n",
    "    for i in code:\n",
    "        if(i=='a'):\n",
    "            i='z'\n",
    "        elif(i=='b'):\n",
    "            i='y'\n",
    "        elif(i=='c'):\n",
    "            i='x'\n",
    "        elif(i==' '):\n",
    "            i='$'\n",
    "        x=x+i\n",
    "    return x\n",
    "input_1=\"I want to become a Data Scientist.\"\n",
    "code=input_1.lower()\n",
    "output=encrypt(code)\n",
    "print(output)"
   ]
  },
  {
   "cell_type": "code",
   "execution_count": null,
   "id": "9f0119a5",
   "metadata": {},
   "outputs": [],
   "source": []
  }
 ],
 "metadata": {
  "kernelspec": {
   "display_name": "Python 3 (ipykernel)",
   "language": "python",
   "name": "python3"
  },
  "language_info": {
   "codemirror_mode": {
    "name": "ipython",
    "version": 3
   },
   "file_extension": ".py",
   "mimetype": "text/x-python",
   "name": "python",
   "nbconvert_exporter": "python",
   "pygments_lexer": "ipython3",
   "version": "3.11.3"
  }
 },
 "nbformat": 4,
 "nbformat_minor": 5
}
