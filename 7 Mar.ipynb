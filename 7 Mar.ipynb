{
 "cells": [
  {
   "cell_type": "markdown",
   "id": "6d7b3b13",
   "metadata": {},
   "source": [
    "## 1"
   ]
  },
  {
   "cell_type": "markdown",
   "id": "49a314b1",
   "metadata": {},
   "source": [
    "The three measures of central tendency are:\n",
    "\n",
    "1. **Mean (Average):** The mean is calculated by adding up all the values in a data set and then dividing the sum by the number of values. It is the most common measure of central tendency.\n",
    "\n",
    "2. **Median:** The median is the middle value in a data set when it is ordered from least to greatest. If there is an even number of values, the median is the average of the two middle values.\n",
    "\n",
    "3. **Mode:** The mode is the value that appears most frequently in a data set. A data set may have one mode (unimodal), more than one mode (multimodal), or no mode if all values occur with the same frequency.\n",
    "\n",
    "These measures provide different perspectives on the central tendency of a data set and are useful for different types of data distributions."
   ]
  },
  {
   "cell_type": "markdown",
   "id": "1eb7091f",
   "metadata": {},
   "source": [
    "## 2"
   ]
  },
  {
   "cell_type": "markdown",
   "id": "49fca5ed",
   "metadata": {},
   "source": [
    "Mean, median, and mode are measures of central tendency, which describe the center or average of a dataset. Each of these measures provides a different perspective on the typical or central value of a set of numbers.\n",
    "\n",
    "1. **Mean:**\n",
    "   - The mean, also known as the average, is calculated by adding up all the values in a dataset and then dividing the sum by the number of values.\n",
    "   - Formula: Mean = Sum of values/Number of values\n",
    "   - The mean is sensitive to extreme values (outliers), and it may not accurately represent the center if the dataset has extreme values.\n",
    "\n",
    "2. **Median:**\n",
    "   - The median is the middle value of a dataset when it is ordered from least to greatest. If there is an even number of observations, the median is the average of the two middle values.\n",
    "   - To find the median, we first need to order the data. If \\(n\\) is odd, the median is the \\((n+1)/2\\)-th value. If \\(n\\) is even, the median is the average of the \\(n/2\\)-th and \\((n/2)+1\\)-th values.\n",
    "\n",
    "3. **Mode:**\n",
    "   - The mode is the value that appears most frequently in a dataset. A dataset may have one mode, more than one mode (multimodal), or no mode at all (if all values are unique).\n",
    "   - Unlike the mean and median, the mode is not affected by extreme values.\n",
    "\n",
    "**Use in Measuring Central Tendency:**\n",
    "- **Mean:**\n",
    "  - Pros: Provides a precise measure of central tendency.\n",
    "  - Cons: Sensitive to outliers.\n",
    "\n",
    "- **Median:**\n",
    "  - Pros: Not affected by extreme values; useful for skewed distributions.\n",
    "  - Cons: May not represent the typical value in some cases.\n",
    "\n",
    "- **Mode:**\n",
    "  - Pros: Represents the most frequently occurring value.\n",
    "  - Cons: Not always applicable, and a dataset can have no mode or multiple modes.\n",
    "\n",
    "The choice of which measure to use depends on the nature of the data and the specific goals of analysis. In a symmetrical, bell-shaped distribution, the mean, median, and mode are approximately equal. In skewed distributions or datasets with outliers, the median or mode may provide a more robust measure of central tendency."
   ]
  },
  {
   "cell_type": "markdown",
   "id": "f80089b9",
   "metadata": {},
   "source": [
    "## 3"
   ]
  },
  {
   "cell_type": "markdown",
   "id": "77cb535b",
   "metadata": {},
   "source": [
    "The three measures of central tendency are mean, median, and mode.\n",
    "\n",
    "1. **Mean (Average):**\n",
    "   {Mean} = {{Sum of all heights}/{Number of heights}}\n",
    "   \n",
    "\n",
    "   {Mean} = {178 + 177 + 176 + 177 + 178.2 + 178 + 175 + 179 + 180 + 175 + 178.9 + 176.2 + 177 + 172.5 + 178 + 176.5}/{16}\n",
    "\n",
    "   \n",
    "   {Mean} = {2816.3}/{16} =176.02\n",
    "\n",
    "   Therefore, the mean height is approximately 176.02 units.\n",
    "\n",
    "2. **Median:**\n",
    "   To find the median, we first need to arrange the heights in ascending order:\n",
    "   \\[\n",
    "   172.5, 175, 175, 176, 176, 176.2, 177, 177, 178, 178, 178, 178.2, 178.9, 179, 180\n",
    "   \\]\n",
    "\n",
    "   Since there are 16 heights, the median is the average of the 8th and 9th values:\n",
    "   \\[\n",
    "   \\text{Median} = \\frac{177 + 178}{2} = 177.5\n",
    "   \\]\n",
    "\n",
    "   Therefore, the median height is 177.5 units.\n",
    "\n",
    "3. **Mode:**\n",
    "   The mode is the value that appears most frequently. In this data set, there is no height that appears more than once, so it is considered to have no mode.\n",
    "\n",
    "In summary:\n",
    "- Mean: approximately 176.02 units\n",
    "- Median: 177.5 units\n",
    "- Mode: No mode"
   ]
  },
  {
   "cell_type": "markdown",
   "id": "a3891518",
   "metadata": {},
   "source": [
    "## 4"
   ]
  },
  {
   "cell_type": "code",
   "execution_count": 2,
   "id": "4eea9a0f",
   "metadata": {},
   "outputs": [
    {
     "name": "stdout",
     "output_type": "stream",
     "text": [
      "Standard Deviation: 1.7885814036548633\n"
     ]
    }
   ],
   "source": [
    "import numpy as np\n",
    "\n",
    "# Given data\n",
    "data = [178, 177, 176, 177, 178.2, 178, 175, 179, 180, 175, 178.9, 176.2, 177, 172.5, 178, 176.5]\n",
    "\n",
    "# Calculate the standard deviation\n",
    "std_deviation = np.std(data)\n",
    "\n",
    "# Print the result\n",
    "print(\"Standard Deviation:\", std_deviation)"
   ]
  },
  {
   "cell_type": "markdown",
   "id": "8e598877",
   "metadata": {},
   "source": [
    "## 5"
   ]
  },
  {
   "cell_type": "markdown",
   "id": "398484c6",
   "metadata": {},
   "source": [
    "Measures of dispersion, such as range, variance, and standard deviation, are used to quantify the extent to which data points in a dataset vary or spread out from the central tendency (mean, median, or mode). They provide valuable insights into the distribution of the data and help to understand how scattered or concentrated the values are.\n",
    "\n",
    "1. **Range:**\n",
    "   - **Definition:** The range is the simplest measure of dispersion and represents the difference between the maximum and minimum values in a dataset.\n",
    "   - **Calculation:** Range = Maximum Value - Minimum Value\n",
    "   - **Example:**\n",
    "     ```python\n",
    "     data = [15, 20, 22, 25, 30, 35, 40]\n",
    "     data_range = max(data) - min(data)\n",
    "     print(f\"Range: {data_range}\")\n",
    "     ```\n",
    "\n",
    "2. **Variance:**\n",
    "   - **Definition:** Variance measures the average squared deviation of each data point from the mean. It gives a more comprehensive understanding of the overall spread.\n",
    "   - **Calculation:** Variance = Σ((xi - mean)^2) / N, where xi is each data point, mean is the mean of the dataset, and N is the number of data points.\n",
    "   - **Example:**\n",
    "     ```python\n",
    "     import statistics\n",
    "     data = [15, 20, 22, 25, 30, 35, 40]\n",
    "     data_variance = statistics.variance(data)\n",
    "     print(f\"Variance: {data_variance}\")\n",
    "     ```\n",
    "\n",
    "3. **Standard Deviation:**\n",
    "   - **Definition:** The standard deviation is the square root of the variance. It provides a more interpretable measure of the spread, as it is in the same units as the original data.\n",
    "   - **Calculation:** Standard Deviation = sqrt(Variance)\n",
    "   - **Example:**\n",
    "     ```python\n",
    "     import statistics\n",
    "     data = [15, 20, 22, 25, 30, 35, 40]\n",
    "     data_std_dev = statistics.stdev(data)\n",
    "     print(f\"Standard Deviation: {data_std_dev}\")\n",
    "     ```\n",
    "\n",
    "**Example Explanation:**\n",
    "Suppose we have two datasets:\n",
    "\n",
    "- Dataset A: [10, 12, 15, 18, 20]\n",
    "- Dataset B: [5, 10, 15, 20, 25]\n",
    "\n",
    "Both datasets have the same mean (15), but they differ in terms of dispersion.\n",
    "\n",
    "- The range of Dataset A is 20 - 10 = 10, while the range of Dataset B is 25 - 5 = 20. This indicates that Dataset B has a larger spread.\n",
    "- The variance and standard deviation calculations would further quantify and highlight the differences in the spread between the two datasets."
   ]
  },
  {
   "cell_type": "markdown",
   "id": "73300c32",
   "metadata": {},
   "source": [
    "## 6"
   ]
  },
  {
   "cell_type": "markdown",
   "id": "39d40592",
   "metadata": {},
   "source": [
    "A Venn diagram is a graphical representation that uses circles (or other shapes) to depict the relationships between different sets or groups. The overlapping circles show commonalities, intersections, and differences among the sets. The primary purpose of a Venn diagram is to visually represent the logical relationships between these sets.\n",
    "\n",
    "Here are the key elements of a Venn diagram:\n",
    "\n",
    "1. **Circles or Shapes:** Each set is typically represented by a circle or some other closed shape. The circles are often drawn in proximity to each other to show the relationships.\n",
    "\n",
    "2. **Overlap:** The overlapping regions of the circles represent the elements that are common to both sets. The degree of overlap indicates the extent of the intersection between the sets.\n",
    "\n",
    "3. **Non-overlapping Regions:** The parts of the circles that do not overlap represent the elements that are unique to each set.\n",
    "\n",
    "4. **Labels:** Sets are usually labeled with letters or descriptive names, and sometimes the individual elements in the sets are listed inside or outside the circles.\n",
    "\n",
    "Venn diagrams are useful for illustrating concepts related to set theory, logic, and probability. They are commonly used in various fields, including mathematics, statistics, computer science, and business, to help visualize and analyze relationships between different categories or groups."
   ]
  },
  {
   "cell_type": "markdown",
   "id": "5e3a317e",
   "metadata": {},
   "source": [
    "## 7"
   ]
  },
  {
   "cell_type": "code",
   "execution_count": 3,
   "id": "21729812",
   "metadata": {},
   "outputs": [
    {
     "name": "stdout",
     "output_type": "stream",
     "text": [
      "A ∩ B: {2, 6}\n",
      "A ⋃ B: {0, 2, 3, 4, 5, 6, 7, 8, 10}\n"
     ]
    }
   ],
   "source": [
    "# Given sets\n",
    "A = {2, 3, 4, 5, 6, 7}\n",
    "B = {0, 2, 6, 8, 10}\n",
    "\n",
    "# (i) Intersection of A and B (A ∩ B)\n",
    "intersection_result = A.intersection(B)\n",
    "print(f'A ∩ B: {intersection_result}')\n",
    "\n",
    "# (ii) Union of A and B (A ⋃ B)\n",
    "union_result = A.union(B)\n",
    "print(f'A ⋃ B: {union_result}')\n"
   ]
  },
  {
   "cell_type": "markdown",
   "id": "dbf314d3",
   "metadata": {},
   "source": [
    "## 8"
   ]
  },
  {
   "cell_type": "markdown",
   "id": "3253fdaa",
   "metadata": {},
   "source": [
    "Skewness is a statistical measure that describes the asymmetry or lack of symmetry in a distribution of data. In other words, it quantifies the degree and direction of skew (departure from horizontal symmetry) in a dataset. A distribution is said to be skewed if it is not symmetrical.\n",
    "\n",
    "There are three types of skewness:\n",
    "\n",
    "1. **Positive Skewness (Right Skewness):** \n",
    "   - The right tail (larger values) of the distribution is longer or fatter than the left tail.\n",
    "   - The majority of the data points are concentrated on the left side.\n",
    "   - The mean is typically greater than the median.\n",
    "\n",
    "2. **Negative Skewness (Left Skewness):**\n",
    "   - The left tail (smaller values) of the distribution is longer or fatter than the right tail.\n",
    "   - The majority of the data points are concentrated on the right side.\n",
    "   - The mean is typically less than the median.\n",
    "\n",
    "3. **Zero Skewness:**\n",
    "   - The distribution is perfectly symmetrical.\n",
    "   - The mean is equal to the median, and the tails on both sides are of equal length."
   ]
  },
  {
   "cell_type": "markdown",
   "id": "740d95c8",
   "metadata": {},
   "source": [
    "## 9"
   ]
  },
  {
   "cell_type": "markdown",
   "id": "b5a0ed0c",
   "metadata": {},
   "source": [
    "In a right-skewed distribution (positively skewed), the right tail is longer or fatter than the left tail. This means that there are more extreme values on the right side of the distribution. In such a distribution:\n",
    "\n",
    "1. The **mean** is typically greater than the **median**.\n",
    "\n",
    "2. The median is positioned to the left of the mean.\n",
    "\n",
    "The reason behind this relationship is that the mean is influenced by extreme values (outliers), and in a right-skewed distribution, these higher values on the right side pull the mean in that direction. On the other hand, the median is less affected by extreme values because it is the middle value when the data is ordered, and extreme values on one side do not affect its position as much.\n",
    "\n",
    "So, in summary:\n",
    "- For a right-skewed distribution: Mean > Median\n",
    "- The median is to the left of the mean."
   ]
  },
  {
   "cell_type": "markdown",
   "id": "ee61d05a",
   "metadata": {},
   "source": [
    "## 10"
   ]
  },
  {
   "cell_type": "markdown",
   "id": "4c130d76",
   "metadata": {},
   "source": [
    "**Covariance and correlation** are both measures that describe the relationship between two variables in statistics, but they have some key differences.\n",
    "\n",
    "1. **Covariance:**\n",
    "   - **Definition:** Covariance measures how much two variables change together. It indicates the direction of the linear relationship between two variables (positive or negative) but does not provide the strength of the relationship.\n",
    "   - **Formula:** \n",
    "\n",
    "$$\n",
    "\\text{Cov}(X,Y) = \\frac{1}{n} \\sum_{i=1}^{n} (X_i - \\bar{X})(Y_i - \\bar{Y})\n",
    "$$\n",
    "\n",
    "where:\n",
    "\n",
    "- \\(X_i\\) and \\(Y_i\\)are individual data points,\n",
    "- \\(\\bar{X}\\) and \\(\\bar{Y}\\) are the means of \\(X\\) and \\(Y\\), respectively.\n",
    "\n",
    "   [{Cov}(X, Y) = {sum_{i=1}^{n} (X_i - \\bar{X})(Y_i - \\bar{Y})}{n} \\]\n",
    "     where \\(X_i\\) and \\(Y_i\\) are individual data points, and \\(\\bar{X}\\) and \\(\\bar{Y}\\) are the means of \\(X\\) and \\(Y\\).\n",
    "\n",
    "   - **Interpretation:**\n",
    "     - Positive covariance indicates a positive relationship (both variables tend to increase or decrease together).\n",
    "     - Negative covariance indicates a negative relationship (one variable tends to increase as the other decreases).\n",
    "\n",
    "2. **Correlation:**\n",
    "   - **Definition:** Correlation is a standardized measure of the strength and direction of the linear relationship between two variables. It is a unitless quantity, which makes it easier to interpret and compare across different datasets.\n",
    "   - **Formula:** \n",
    "   $$\n",
    "     [ \\text{Corr}(X, Y) = \\frac{\\text{Cov}(X, Y)}{\\sqrt{\\text{Var}(X) \\cdot \\text{Var}(Y)}} ]\n",
    "   $$\n",
    "     where \\(\\text{Var}(X)\\) and \\(\\text{Var}(Y)\\) are the variances of \\(X\\) and \\(Y\\).\n",
    "   - **Interpretation:**\n",
    "     - Correlation values range from -1 to 1.\n",
    "     - \\(+1\\) indicates a perfect positive linear relationship.\n",
    "     - \\(-1\\) indicates a perfect negative linear relationship.\n",
    "     - \\(0\\) indicates no linear relationship.\n",
    "\n",
    "**Use in Statistical Analysis:**\n",
    "- **Covariance:**\n",
    "  - Covariance is used to understand the direction of the relationship between two variables.\n",
    "  - It is not easily interpretable due to being in the original units of the variables.\n",
    "  - The magnitude of covariance is influenced by the scale of the variables, making it challenging to compare covariances across different datasets.\n",
    "\n",
    "- **Correlation:**\n",
    "  - Correlation is widely used because it provides a standardized measure, allowing for easier interpretation and comparison.\n",
    "  - The correlation coefficient is not affected by the scale of the variables.\n",
    "  - It helps in identifying the strength and direction of the linear relationship between two variables.\n",
    "  - Correlation is particularly useful when comparing relationships between variables that have different units or scales.\n",
    "\n",
    "In summary, while covariance indicates the direction of the relationship between two variables, correlation provides a standardized measure of both the direction and strength of the relationship, making it a more widely used and interpretable metric in statistical analysis."
   ]
  },
  {
   "cell_type": "markdown",
   "id": "8c5f2ad5",
   "metadata": {},
   "source": [
    "## 11"
   ]
  },
  {
   "cell_type": "markdown",
   "id": "f6b87e09",
   "metadata": {},
   "source": [
    "The formula for calculating the sample mean $$(\\bar{X})$$ is:\n",
    "$$\n",
    "[ \\bar{X} = \\frac{\\sum_{i=1}^{n} X_i}{n} ]\n",
    "$$\n",
    "Here, $$(\\bar{X})$$ is the sample mean, (X_i) represents each individual value in the dataset, and \\(n\\) is the number of observations in the sample.\n",
    "\n",
    "Let's go through an example calculation using a dataset:\n",
    "\n",
    "Consider the dataset: \\([15, 18, 20, 22, 25]\\)\n",
    "\n",
    "$$[ \\bar{X} = \\frac{15 + 18 + 20 + 22 + 25}{5} ]$$\n",
    "\n",
    "$$[ \\bar{X} = \\frac{100}{5} ]$$\n",
    "\n",
    "$$[ \\bar{X} = 20 ]$$\n",
    "\n",
    "So, the sample mean for this dataset is 20."
   ]
  },
  {
   "cell_type": "markdown",
   "id": "c0784972",
   "metadata": {},
   "source": [
    "## 12"
   ]
  },
  {
   "cell_type": "markdown",
   "id": "528a8e3d",
   "metadata": {},
   "source": [
    "For a normal distribution, the three measures of central tendency (mean, median, and mode) have an interesting relationship:\n",
    "\n",
    "1. **Mean (μ):**\n",
    "   - In a normal distribution, the mean is located at the center of the distribution. The mean is the balancing point of the distribution, and for a perfectly symmetrical normal distribution, the mean is equal to the median.\n",
    "   - In a normal distribution, the mean is the point of maximum likelihood, and the distribution is symmetrically centered around it.\n",
    "\n",
    "2. **Median:**\n",
    "   - For a perfectly symmetrical normal distribution, the median is equal to the mean. This is a characteristic of symmetric distributions.\n",
    "   - The median of a normal distribution is located exactly at the center, where the distribution is symmetrically divided into two equal halves.\n",
    "\n",
    "3. **Mode:**\n",
    "   - In a normal distribution, the mode is also equal to the mean and median. For a normal distribution, there is only one mode, and it occurs at the peak of the distribution.\n",
    "   - The mode, mean, and median are all centered at the same point in a perfectly symmetrical normal distribution.\n",
    "\n",
    "In summary, for a normal distribution:\n",
    "\n",
    "Mean =Median = Mode\n",
    "\n",
    "This equality holds true for a perfectly symmetrical normal distribution. In practice, real-world data may exhibit some skewness or deviations from perfect symmetry, but the central tendency measures in a normal distribution are still closely related and tend to be near each other."
   ]
  },
  {
   "cell_type": "markdown",
   "id": "c89ad25a",
   "metadata": {},
   "source": [
    "## 13"
   ]
  },
  {
   "cell_type": "markdown",
   "id": "f6317cbd",
   "metadata": {},
   "source": [
    "Covariance and correlation are both measures that describe the relationship between two variables, but they have some key differences:\n",
    "\n",
    "1. **Definition:**\n",
    "   - **Covariance:** Covariance measures how much two variables change together. It indicates the direction of the linear relationship between two variables (positive or negative) but does not provide the strength of the relationship. The units of covariance are the product of the units of the two variables.\n",
    "   - **Correlation:** Correlation is a standardized measure of the strength and direction of the linear relationship between two variables. It is a unitless quantity, making it easier to interpret and compare across different datasets.\n",
    "\n",
    "2. **Scale:**\n",
    "   - **Covariance:** The magnitude of covariance is influenced by the scale of the variables. Therefore, it is not easily interpretable, and comparing covariances across different datasets with different scales can be challenging.\n",
    "   - **Correlation:** Correlation is not affected by the scale of the variables. It is always between -1 and 1, providing a standardized measure that allows for easier interpretation and comparison.\n",
    "\n",
    "3. **Interpretation:**\n",
    "   - **Covariance:** Positive covariance indicates a positive relationship (both variables tend to increase or decrease together), and negative covariance indicates a negative relationship (one variable tends to increase as the other decreases). However, the magnitude of covariance is not easily interpretable.\n",
    "   - **Correlation:** Correlation values range from -1 to 1. A correlation of +1 indicates a perfect positive linear relationship, -1 indicates a perfect negative linear relationship, and 0 indicates no linear relationship. The magnitude of the correlation coefficient provides information about the strength of the relationship.\n",
    "\n",
    "4. **Normalization:**\n",
    "   - **Covariance:** Covariance is not normalized, meaning it doesn't have a standardized scale. The covariance values depend on the units of the variables.\n",
    "   - **Correlation:** Correlation is normalized, making it a more suitable measure for comparing the strength of relationships across different datasets.\n",
    "\n",
    "In summary, while covariance and correlation both measure the relationship between two variables, correlation provides a more interpretable and standardized measure that is independent of the scale of the variables. Correlation is widely used in statistical analysis because of its ease of interpretation and comparability."
   ]
  },
  {
   "cell_type": "markdown",
   "id": "7f2b81c2",
   "metadata": {},
   "source": [
    "## 14"
   ]
  },
  {
   "cell_type": "markdown",
   "id": "623b8248",
   "metadata": {},
   "source": [
    "Outliers can significantly impact measures of central tendency and dispersion in a dataset. Central tendency measures include the mean, median, and mode, while measures of dispersion include range, variance, and standard deviation. Here's how outliers affect these measures:\n",
    "\n",
    "1. **Central Tendency:**\n",
    "   - **Mean:** Outliers can have a substantial effect on the mean. Since the mean is the sum of all values divided by the number of values, outliers, especially if they are extreme, can pull the mean in their direction. This makes the mean sensitive to outliers.\n",
    "   - **Median:** The median is less affected by outliers because it is not influenced by extreme values. It is the middle value when the data is sorted, and outliers do not impact its position as much.\n",
    "   - **Mode:** The mode is generally not affected by outliers since it represents the most frequently occurring value(s), and it is less sensitive to extreme values.\n",
    "\n",
    "2. **Dispersion:**\n",
    "   - **Range:** Outliers can significantly affect the range, as it is the difference between the maximum and minimum values. If there are outliers, the range may be much larger than the spread of the bulk of the data.\n",
    "   - **Variance and Standard Deviation:** Outliers can have a substantial impact on variance and standard deviation because they are influenced by the squared differences between each data point and the mean. Outliers can result in larger squared differences, leading to an inflated variance and standard deviation.\n",
    "\n",
    "**Example:**\n",
    "Consider the dataset: \\([10, 12, 15, 18, 20, 100]\\)\n",
    "\n",
    "- **Without Outlier:**\n",
    "  - Mean: $$( \\frac{10+12+15+18+20}{5} = 15 )$$\n",
    "  - Median: ( 15 )\n",
    "  - Variance: $$( \\frac{(10-15)^2 + (12-15)^2 + (15-15)^2 + (18-15)^2 + (20-15)^2}{5} = 14 )$$\n",
    "  - Standard Deviation: $$( \\sqrt{14} \\approx 3.74 )$$\n",
    "\n",
    "- **With Outlier:**\n",
    "  - Mean: $$( \\frac{10+12+15+18+20+100}{6} = 28.33 )$$\n",
    "  - Median: $$( 16.5 )$$\n",
    "  - Variance: $$( \\frac{(10-28.33)^2 + (12-28.33)^2 + (15-28.33)^2 + (18-28.33)^2 + (20-28.33)^2 + (100-28.33)^2}{6} \\approx 969 )$$\n",
    "  - Standard Deviation: $$( \\sqrt{969} \\approx 31.12 )$$\n",
    "\n",
    "In this example, the outlier (100) significantly influenced the mean, making it much larger than the median. This, in turn, affected the measures of dispersion, with the variance and standard deviation being substantially higher when the outlier is included. The median, being less sensitive to outliers, remained closer to the central tendency of the majority of the data points."
   ]
  },
  {
   "cell_type": "code",
   "execution_count": null,
   "id": "819c5419",
   "metadata": {},
   "outputs": [],
   "source": []
  }
 ],
 "metadata": {
  "kernelspec": {
   "display_name": "Python 3 (ipykernel)",
   "language": "python",
   "name": "python3"
  },
  "language_info": {
   "codemirror_mode": {
    "name": "ipython",
    "version": 3
   },
   "file_extension": ".py",
   "mimetype": "text/x-python",
   "name": "python",
   "nbconvert_exporter": "python",
   "pygments_lexer": "ipython3",
   "version": "3.11.3"
  }
 },
 "nbformat": 4,
 "nbformat_minor": 5
}
