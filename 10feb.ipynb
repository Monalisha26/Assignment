{
 "cells": [
  {
   "cell_type": "markdown",
   "id": "0a2f6195",
   "metadata": {},
   "source": [
    "## 1"
   ]
  },
  {
   "cell_type": "markdown",
   "id": "44d6b99b",
   "metadata": {},
   "source": [
    "open() function is used to open a file.\n",
    "file = open(path, mode)\n",
    "\n",
    "Different modes of opening a file are:\n",
    "\n",
    "i)'r' (Read mode):This mode is used to open a file for reading. The file's contents can be read, but we cannot write or modify the file. If the file does not exist, it will raise a FileNotFoundError.\n",
    "\n",
    "ii)'w' (Write mode):This mode is used to open a file for writing. If the file already exists, its contents will be truncated (deleted), and the file will be treated as empty. If the file does not exist, a new file will be created.\n",
    "\n",
    "iii)'a' (Append mode):This mode is used to open a file for writing, but the data is appended at the end of the file. If the file doesn't exist, a new file will be created.\n",
    "\n",
    "iv)'x' (Exclusive creation mode):This mode is used to create a new file and open it for writing. If the file already exists, a FileExistsError will be raised.\n",
    "\n",
    "v)'b' (Binary mode):This mode is used in conjunction with other modes ('r', 'w', 'a', etc.) to open a file in binary mode, which is used for non-text files like images, audio, video, etc.\n",
    "\n",
    "vi)'t' (Text mode):This mode is the default and used in conjunction with other modes ('r', 'w', 'a', etc.) to open a file in text mode, which is used for text files.\n",
    "\n",
    "vii)'+' (Updating mode):This mode allows us to both read and write to the file. It is used in combination with other modes like 'r+', 'w+', or 'a+'.\n"
   ]
  },
  {
   "cell_type": "markdown",
   "id": "59a6cc29",
   "metadata": {},
   "source": [
    "## 2"
   ]
  },
  {
   "cell_type": "markdown",
   "id": "0bdcbe5c",
   "metadata": {},
   "source": [
    "The close() function is used to close a file that has been opened in the program. When we open a file, the operating system allocates certain resources to manage the communication between our program and the file on the storage device. These resources may include memory buffers, file pointers, and other data structures."
   ]
  },
  {
   "cell_type": "markdown",
   "id": "4eb51785",
   "metadata": {},
   "source": [
    "The close() function is essential for several reasons:\n",
    "Release of resources: When a file is opened, the operating system sets aside resources to handle the file operations. If the file is not closed properly, these resources may remain allocated, leading to inefficient memory usage. Closing the file releases these resources, making them available for other tasks in our program or other programs running on the system.\n",
    "\n",
    "Data integrity: When we write data to a file, it is often buffered in memory before being physically written to the storage device. If the file is not closed properly, some buffered data might not be written to the file, leading to data loss or corruption. Closing the file ensures that all buffered data is flushed to the file before it is closed.\n",
    "\n",
    "File locking: Some operating systems or file systems may impose restrictions on multiple processes or threads accessing the same file simultaneously. When we close a file, any locks associated with the file are released, allowing other processes or threads to access the file.\n",
    "\n",
    "Avoiding data loss: If our program writes important data to a file but fails to close it properly before terminating, the data may be lost or become inaccessible. Closing the file ensures that all data is safely stored on the disk before the program ends.\n",
    "\n",
    "Preventing resource leaks: Failure to close files properly can lead to resource leaks in your program. Resource leaks occur when resources, such as file handles, are not released when they are no longer needed. This can cause our program to consume more and more resources over time, eventually leading to performance issues and crashes.\n",
    "\n",
    "\n",
    "\n",
    "\n",
    "\n"
   ]
  },
  {
   "cell_type": "markdown",
   "id": "75f69434",
   "metadata": {},
   "source": [
    "## 3"
   ]
  },
  {
   "cell_type": "code",
   "execution_count": 1,
   "id": "465ae097",
   "metadata": {},
   "outputs": [],
   "source": [
    "f=open(\"new_file.txt\",\"w\")"
   ]
  },
  {
   "cell_type": "code",
   "execution_count": 2,
   "id": "fe9aa85d",
   "metadata": {},
   "outputs": [
    {
     "data": {
      "text/plain": [
       "33"
      ]
     },
     "execution_count": 2,
     "metadata": {},
     "output_type": "execute_result"
    }
   ],
   "source": [
    "f.write('I want to become a Data Scientist')"
   ]
  },
  {
   "cell_type": "code",
   "execution_count": 3,
   "id": "a37f842e",
   "metadata": {},
   "outputs": [],
   "source": [
    "f.close()"
   ]
  },
  {
   "cell_type": "code",
   "execution_count": 4,
   "id": "820c6bbe",
   "metadata": {},
   "outputs": [],
   "source": [
    "x=open(\"new_file.txt\",\"r\")"
   ]
  },
  {
   "cell_type": "code",
   "execution_count": 5,
   "id": "add15eb5",
   "metadata": {},
   "outputs": [],
   "source": [
    "x.read()\n",
    "x.close()"
   ]
  },
  {
   "cell_type": "markdown",
   "id": "470964e7",
   "metadata": {},
   "source": [
    "## 4"
   ]
  },
  {
   "cell_type": "markdown",
   "id": "61e8dc1a",
   "metadata": {},
   "source": [
    "read()--The read method reads the entire contents of a file and returns it as a string."
   ]
  },
  {
   "cell_type": "code",
   "execution_count": 6,
   "id": "91326c72",
   "metadata": {},
   "outputs": [
    {
     "name": "stdout",
     "output_type": "stream",
     "text": [
      "502\n"
     ]
    }
   ],
   "source": [
    "from lorem_text import lorem\n",
    "with open(\"new_file.txt\", \"a\") as file:\n",
    "    content = file.write(\"\\n\"+lorem.paragraph())\n",
    "    print(content)\n",
    "  "
   ]
  },
  {
   "cell_type": "code",
   "execution_count": 7,
   "id": "cba4e195",
   "metadata": {},
   "outputs": [
    {
     "name": "stdout",
     "output_type": "stream",
     "text": [
      "I want to become a Data Scientist\n",
      "Dolor ullam fuga voluptatum veniam id accusamus iste cumque incidunt ratione similique, possimus blanditiis temporibus, voluptas harum iure eligendi quas officiis minus necessitatibus aliquam sit fuga, nulla tenetur voluptatum porro quos, accusantium suscipit reiciendis dolores totam? Consequuntur maiores architecto labore voluptas quae atque accusantium beatae, ad sint adipisci? Corrupti in quis soluta dolores molestiae, aliquam veniam aperiam atque nostrum eligendi facilis, unde quisquam alias?\n"
     ]
    }
   ],
   "source": [
    "with open(\"new_file.txt\", \"r\") as file:\n",
    "    content = file.read() #here all content of file is read\n",
    "    print(content)\n"
   ]
  },
  {
   "cell_type": "markdown",
   "id": "e88a5f10",
   "metadata": {},
   "source": [
    "readline()--The readline method reads a single line from a file and returns it as a string. This means that if we use readline, we can read the contents of a file line by line, which can be useful for processing large files that do not fit in memory"
   ]
  },
  {
   "cell_type": "code",
   "execution_count": 8,
   "id": "19b8d176",
   "metadata": {},
   "outputs": [
    {
     "name": "stdout",
     "output_type": "stream",
     "text": [
      "I want to become a Data Scientist\n",
      "\n"
     ]
    }
   ],
   "source": [
    "with open(\"new_file.txt\", 'r') as file:\n",
    "    line1 = file.readline() # here only one line is read,if we want to read next line we need another readline\n",
    "    \n",
    "\n",
    "print(line1)\n",
    "\n"
   ]
  },
  {
   "cell_type": "markdown",
   "id": "b185614d",
   "metadata": {},
   "source": [
    "readlines()--This method reads all the lines of a file and returns them as a list of strings.The readline method reads a single line from a file and returns it as a string, while the readlines method reads the entire contents of a file and returns it as a list of strings, where each element of the list is a single line of the file."
   ]
  },
  {
   "cell_type": "code",
   "execution_count": 9,
   "id": "0562458e",
   "metadata": {},
   "outputs": [
    {
     "name": "stdout",
     "output_type": "stream",
     "text": [
      "['I want to become a Data Scientist\\n', 'Dolor ullam fuga voluptatum veniam id accusamus iste cumque incidunt ratione similique, possimus blanditiis temporibus, voluptas harum iure eligendi quas officiis minus necessitatibus aliquam sit fuga, nulla tenetur voluptatum porro quos, accusantium suscipit reiciendis dolores totam? Consequuntur maiores architecto labore voluptas quae atque accusantium beatae, ad sint adipisci? Corrupti in quis soluta dolores molestiae, aliquam veniam aperiam atque nostrum eligendi facilis, unde quisquam alias?']\n"
     ]
    }
   ],
   "source": [
    "with open(\"new_file.txt\", 'r') as file:\n",
    "    lines = file.readlines()\n",
    "\n",
    "print(lines)\n"
   ]
  },
  {
   "cell_type": "markdown",
   "id": "d2684e15",
   "metadata": {},
   "source": [
    "## 5"
   ]
  },
  {
   "cell_type": "markdown",
   "id": "8440eb24",
   "metadata": {},
   "source": [
    "In Python, with statement is used in exception handling to make the code cleaner and much more readable.. The `with` statement provides a context manager that ensures that certain operations are carried out before and after the block of code inside it. When used with the `open()` function, the `with` statement guarantees that the file is properly opened and closed, even if an exception occurs during the execution of the code block.\n",
    "\n",
    "The advantage of using the `with` statement  includes the following:\n",
    "\n",
    "Automatic file handling: When we use the `with` statement, we don't need to explicitly call the `close()` method on the file object. The `with` statement takes care of closing the file automatically after the indented block of code is executed. This helps prevent resource leaks and ensures proper management of file-related resources.\n",
    "\n",
    "Exception safety: If an exception occurs within the indented block of code, the `with` statement will still guarantee that the file is closed correctly. Without the `with` statement, we would need to handle exceptions manually and ensure that the file is closed even in case of an error."
   ]
  },
  {
   "cell_type": "code",
   "execution_count": 10,
   "id": "81911eca",
   "metadata": {},
   "outputs": [
    {
     "name": "stdout",
     "output_type": "stream",
     "text": [
      "I want to become a Data Scientist\n",
      "Dolor ullam fuga voluptatum veniam id accusamus iste cumque incidunt ratione similique, possimus blanditiis temporibus, voluptas harum iure eligendi quas officiis minus necessitatibus aliquam sit fuga, nulla tenetur voluptatum porro quos, accusantium suscipit reiciendis dolores totam? Consequuntur maiores architecto labore voluptas quae atque accusantium beatae, ad sint adipisci? Corrupti in quis soluta dolores molestiae, aliquam veniam aperiam atque nostrum eligendi facilis, unde quisquam alias?\n",
      "I want to become a Data Scientist\n",
      "Dolor ullam fuga voluptatum veniam id accusamus iste cumque incidunt ratione similique, possimus blanditiis temporibus, voluptas harum iure eligendi quas officiis minus necessitatibus aliquam sit fuga, nulla tenetur voluptatum porro quos, accusantium suscipit reiciendis dolores totam? Consequuntur maiores architecto labore voluptas quae atque accusantium beatae, ad sint adipisci? Corrupti in quis soluta dolores molestiae, aliquam veniam aperiam atque nostrum eligendi facilis, unde quisquam alias?\n"
     ]
    }
   ],
   "source": [
    "# Without using with statement\n",
    "file = open('new_file.txt', 'r')\n",
    "\n",
    "try:\n",
    "    content = file.read()\n",
    "    print(content)\n",
    "except Exception as e:\n",
    "    print(\"Error:\", e)\n",
    "finally:\n",
    "    file.close()\n",
    "\n",
    "# Using with statement\n",
    "file_path = 'new_file.txt'\n",
    "\n",
    "try:\n",
    "    with open(file_path, 'r') as file:\n",
    "        content = file.read()\n",
    "        print(content)\n",
    "except Exception as e:\n",
    "    print(\"Error:\", e)\n"
   ]
  },
  {
   "cell_type": "markdown",
   "id": "91da9023",
   "metadata": {},
   "source": [
    "## 6"
   ]
  },
  {
   "cell_type": "markdown",
   "id": "d0a47c52",
   "metadata": {},
   "source": [
    "write(): The write() function is used to write a string to a file. If the file is opened in text mode ('t'), we can only write strings to the file. If the file is opened in binary mode ('b'), we can write bytes."
   ]
  },
  {
   "cell_type": "code",
   "execution_count": 16,
   "id": "a1b14822",
   "metadata": {},
   "outputs": [],
   "source": [
    "with open('file.txt', 'w') as file:\n",
    "    file.write('Hello, world!\\n')"
   ]
  },
  {
   "cell_type": "code",
   "execution_count": 18,
   "id": "1be80166",
   "metadata": {},
   "outputs": [
    {
     "name": "stdout",
     "output_type": "stream",
     "text": [
      "Hello, world!\n",
      "\n"
     ]
    }
   ],
   "source": [
    "f=open('file.txt','r')\n",
    "x=f.read()\n",
    "print(x)\n",
    "f.close()"
   ]
  },
  {
   "cell_type": "markdown",
   "id": "805ee3d3",
   "metadata": {},
   "source": [
    "writelines(): The writelines() function is used to write multiple strings to a file at once. It takes an iterable (e.g., list, tuple) of strings as input and writes each string to the file."
   ]
  },
  {
   "cell_type": "code",
   "execution_count": 21,
   "id": "b82c0ff8",
   "metadata": {},
   "outputs": [],
   "source": [
    "with open('file.txt', 'w') as file:\n",
    "    x=['Line 1\\n', 'Line 2\\n', 'Line 3\\n']\n",
    "    file.writelines(x)"
   ]
  },
  {
   "cell_type": "code",
   "execution_count": 22,
   "id": "41e9477e",
   "metadata": {},
   "outputs": [
    {
     "name": "stdout",
     "output_type": "stream",
     "text": [
      "Line 1\n",
      "Line 2\n",
      "Line 3\n",
      "\n"
     ]
    }
   ],
   "source": [
    "f=open('file.txt','r')\n",
    "x=f.read()\n",
    "print(x)\n",
    "f.close()"
   ]
  },
  {
   "cell_type": "code",
   "execution_count": null,
   "id": "52a773c9",
   "metadata": {},
   "outputs": [],
   "source": []
  }
 ],
 "metadata": {
  "kernelspec": {
   "display_name": "Python 3 (ipykernel)",
   "language": "python",
   "name": "python3"
  },
  "language_info": {
   "codemirror_mode": {
    "name": "ipython",
    "version": 3
   },
   "file_extension": ".py",
   "mimetype": "text/x-python",
   "name": "python",
   "nbconvert_exporter": "python",
   "pygments_lexer": "ipython3",
   "version": "3.11.3"
  }
 },
 "nbformat": 4,
 "nbformat_minor": 5
}
