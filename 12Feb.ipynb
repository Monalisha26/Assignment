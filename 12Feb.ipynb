{
 "cells": [
  {
   "cell_type": "markdown",
   "id": "1d992192",
   "metadata": {},
   "source": [
    "## 1"
   ]
  },
  {
   "cell_type": "markdown",
   "id": "ab7f5995",
   "metadata": {},
   "source": [
    "In Python, an exception is an error or an unexpected event that occurs during the execution of a program, which disrupts the normal flow of the program. When an exceptional situation arises, Python raises an exception, and the program stops executing the current code and looks for an exception handler to deal with the situation gracefully."
   ]
  },
  {
   "cell_type": "markdown",
   "id": "ab47bf2b",
   "metadata": {},
   "source": [
    "Difference between exception and syntax error are:\n",
    "    1.Exceptions occur during the runtime of the program while Syntax errors occur during the parsing phase before the program begins executing.\n",
    "    2.Examples of exceptions include ZeroDivisionError, FileNotFoundError, TypeError, IndexError, ValueError, etc.while Examples of syntax errors include misspelled keywords, missing colons, mismatched parentheses, etc.\n",
    "    3.Exceptions can be caught and handled using try-except blocks to provide alternative code paths when an exception occurs while Syntax errors must be fixed before running the program; they cannot be caught and handled at runtime."
   ]
  },
  {
   "cell_type": "code",
   "execution_count": 7,
   "id": "ec200a53",
   "metadata": {},
   "outputs": [
    {
     "name": "stdout",
     "output_type": "stream",
     "text": [
      "Error: division by zero\n"
     ]
    }
   ],
   "source": [
    "# Example 1: Exception\n",
    "try:\n",
    "    x = 100 / 0 \n",
    "except ZeroDivisionError as e:\n",
    "    print(\"Error:\", e)"
   ]
  },
  {
   "cell_type": "code",
   "execution_count": 8,
   "id": "aef349be",
   "metadata": {},
   "outputs": [
    {
     "ename": "SyntaxError",
     "evalue": "unterminated string literal (detected at line 3) (3377603182.py, line 3)",
     "output_type": "error",
     "traceback": [
      "\u001b[1;36m  Cell \u001b[1;32mIn[8], line 3\u001b[1;36m\u001b[0m\n\u001b[1;33m    print(\"Hello, world!'\u001b[0m\n\u001b[1;37m          ^\u001b[0m\n\u001b[1;31mSyntaxError\u001b[0m\u001b[1;31m:\u001b[0m unterminated string literal (detected at line 3)\n"
     ]
    }
   ],
   "source": [
    "# Example 2: Syntax Error\n",
    "try:\n",
    "    print(\"Hello, world!' \n",
    "except SyntaxError as e:\n",
    "    print(\"Error:\", e)"
   ]
  },
  {
   "cell_type": "markdown",
   "id": "5600227d",
   "metadata": {},
   "source": [
    "## 2"
   ]
  },
  {
   "cell_type": "markdown",
   "id": "1287369a",
   "metadata": {},
   "source": [
    "When an exception is not handled in a Python program, it leads to an uncaught exception, causing the program to terminate abruptly. When an uncaught exception occurs, Python prints a traceback, which is a detailed report of the sequence of function calls that led to the exception. This traceback helps developers identify the location and cause of the exception in the code."
   ]
  },
  {
   "cell_type": "code",
   "execution_count": 10,
   "id": "3b90bc79",
   "metadata": {},
   "outputs": [
    {
     "ename": "SyntaxError",
     "evalue": "incomplete input (1644594430.py, line 3)",
     "output_type": "error",
     "traceback": [
      "\u001b[1;36m  Cell \u001b[1;32mIn[10], line 3\u001b[1;36m\u001b[0m\n\u001b[1;33m    print(\"xyz\")\u001b[0m\n\u001b[1;37m                ^\u001b[0m\n\u001b[1;31mSyntaxError\u001b[0m\u001b[1;31m:\u001b[0m incomplete input\n"
     ]
    }
   ],
   "source": [
    "try:\n",
    "    x = 100 / 0 \n",
    "    print(\"xyz\")"
   ]
  },
  {
   "cell_type": "markdown",
   "id": "16f918ca",
   "metadata": {},
   "source": [
    "Here we can see the ZeroDivisionError exception wasn't handled so the program termited abruptly and the statements after that couldn't be executed like the print xyz."
   ]
  },
  {
   "cell_type": "markdown",
   "id": "358ddec8",
   "metadata": {},
   "source": [
    "## 3"
   ]
  },
  {
   "cell_type": "markdown",
   "id": "1ad015ec",
   "metadata": {},
   "source": [
    "In Python, the try, except, else, and finally statements are used to catch and handle exceptions effectively. These statements form the basis of Python's exception handling mechanism, allowing developers to control the flow of the program and respond gracefully to exceptional situations.\n",
    "\n",
    "try: The try block is used to enclose the code that may raise an exception. When an exception occurs within the try block, Python looks for a matching except block to handle the exception.\n",
    "\n",
    "except: The except block follows the try block and specifies the code that should be executed if a particular exception occurs in the try block. We can have multiple except blocks to catch different types of exceptions.\n",
    "\n",
    "else: The else block is optional and follows the except block(s). It contains code that will be executed if no exception occurs in the try block. The else block is useful for performing actions that should be executed only when no exceptions are raised.\n",
    "\n",
    "finally: The finally block is also optional and is used to specify code that will be executed regardless of whether an exception occurred or not.It is typically used for cleanup tasks that must be performed, such as closing files or releasing resources."
   ]
  },
  {
   "cell_type": "code",
   "execution_count": 13,
   "id": "87868b16",
   "metadata": {},
   "outputs": [
    {
     "name": "stdout",
     "output_type": "stream",
     "text": [
      "Division successful. Result: 10.0\n",
      "Finally block executed.\n",
      "Error: Cannot divide by zero.\n",
      "Finally block executed.\n"
     ]
    }
   ],
   "source": [
    "def divide_numbers(a, b):\n",
    "    try:\n",
    "        res = a / b\n",
    "    except ZeroDivisionError as e:\n",
    "        print(\"Error: Cannot divide by zero.\")\n",
    "        res = None\n",
    "    else:\n",
    "        print(\"Division successful. Result:\", res)\n",
    "    finally:\n",
    "        print(\"Finally block executed.\")\n",
    "\n",
    "divide_numbers(20, 2)\n",
    "divide_numbers(10, 0)\n"
   ]
  },
  {
   "cell_type": "markdown",
   "id": "4b23c6bb",
   "metadata": {},
   "source": [
    "## 4"
   ]
  },
  {
   "cell_type": "markdown",
   "id": "0750ffb5",
   "metadata": {},
   "source": [
    "a.try and else:The try block is used to enclose the code that may raise an exception. When an exception occurs within the try block, Python looks for a matching except block to handle the exception.\n",
    " The else block is optional and follows the except block(s). It contains code that will be executed if no exception occurs in the try block. The else block is useful for performing actions that should be executed only when no exceptions are raised."
   ]
  },
  {
   "cell_type": "code",
   "execution_count": 18,
   "id": "1fe60a22",
   "metadata": {},
   "outputs": [
    {
     "name": "stdout",
     "output_type": "stream",
     "text": [
      "5.0\n",
      "No error\n",
      "Div by 0\n"
     ]
    }
   ],
   "source": [
    "def div(a,b):\n",
    "    try:\n",
    "        c=a/b\n",
    "        print(c)\n",
    "    except ZeroDivisionError as e:\n",
    "        print(\"Div by 0\")\n",
    "    else:\n",
    "        print(\"No error\")\n",
    "div(10,2)  #here no exception occured so else block executed\n",
    "div(4,0) #here exception raised so else block isn't executed"
   ]
  },
  {
   "cell_type": "markdown",
   "id": "0cdeeac5",
   "metadata": {},
   "source": [
    "b.finally:The finally block is optional and is used to specify code that will be executed regardless of whether an exception occurred or not.It is typically used for cleanup tasks that must be performed, such as closing files or releasing resources."
   ]
  },
  {
   "cell_type": "code",
   "execution_count": 21,
   "id": "f5c33574",
   "metadata": {},
   "outputs": [
    {
     "name": "stdout",
     "output_type": "stream",
     "text": [
      "5.0\n",
      "No error\n",
      "Final block\n",
      "Div by 0\n",
      "Final block\n"
     ]
    }
   ],
   "source": [
    "def div(a,b):\n",
    "    try:\n",
    "        c=a/b\n",
    "        print(c)\n",
    "    except ZeroDivisionError as e:\n",
    "        print(\"Div by 0\")\n",
    "    else:\n",
    "        print(\"No error\")\n",
    "    finally:\n",
    "        print(\"Final block\")\n",
    "div(10,2)  #here no exception occured still finally block executed\n",
    "div(4,0) #here exception raised and still finally block is executed"
   ]
  },
  {
   "cell_type": "markdown",
   "id": "7b150c1e",
   "metadata": {},
   "source": [
    "c.raise:In Python, the raise statement is used to deliberately raise an exception during the execution of a program. We can use the raise statement when we encounter a situation that we want to treat as an exceptional case, even if it does not fit into any pre-defined exception types. We can also use raise to re-raise an existing exception after performing some custom handling."
   ]
  },
  {
   "cell_type": "code",
   "execution_count": 27,
   "id": "aee50efb",
   "metadata": {},
   "outputs": [
    {
     "name": "stdout",
     "output_type": "stream",
     "text": [
      "Enter age:21\n",
      "Age below 30 not allowed\n"
     ]
    }
   ],
   "source": [
    "def validateage(age):\n",
    "    if age<30:\n",
    "        raise ValueError(\"Age below 30 not allowed\")\n",
    "    else:\n",
    "        print(age)\n",
    "try:\n",
    "    age=int(input(\"Enter age:\"))\n",
    "    validateage(age)\n",
    "except ValueError as e:\n",
    "    print(e)"
   ]
  },
  {
   "cell_type": "code",
   "execution_count": 30,
   "id": "e5053656",
   "metadata": {},
   "outputs": [
    {
     "name": "stdout",
     "output_type": "stream",
     "text": [
      "Error: Cannot divide by zero.\n",
      "Outer exception caught: division by zero\n"
     ]
    }
   ],
   "source": [
    "def divide_numbers(a, b):\n",
    "    try:\n",
    "        result = a / b\n",
    "    except ZeroDivisionError as e:\n",
    "        print(\"Error: Cannot divide by zero.\")\n",
    "        raise  # Re-raising the same ZeroDivisionError\n",
    "    return result\n",
    "\n",
    "try:\n",
    "    result = divide_numbers(10, 0)\n",
    "    print(\"Result:\", result)\n",
    "except ZeroDivisionError as e:\n",
    "    print(\"Outer exception caught:\", e)\n"
   ]
  },
  {
   "cell_type": "markdown",
   "id": "894ae409",
   "metadata": {},
   "source": [
    "## 5"
   ]
  },
  {
   "cell_type": "markdown",
   "id": "84a674b9",
   "metadata": {},
   "source": [
    "Custom exceptions in Python allow developers to define their own exception types, which helps in better error reporting, code clarity, and specific exception handling tailored to the application's needs. They are a powerful tool for making code more readable, maintainable, and robust when dealing with exceptional situations."
   ]
  },
  {
   "cell_type": "code",
   "execution_count": 39,
   "id": "bbf68c71",
   "metadata": {},
   "outputs": [
    {
     "name": "stdout",
     "output_type": "stream",
     "text": [
      "Enter age:4\n",
      "Error: Cannot Vote at 4 years\n"
     ]
    }
   ],
   "source": [
    "class AgeError(Exception):\n",
    "    def __init__(self, age):\n",
    "        self.age = age\n",
    "        message = f\"Cannot Vote at {age} years\"\n",
    "        super().__init__(message)\n",
    "\n",
    "def voting(age):\n",
    "    if age < 18:\n",
    "        raise AgeError(age)\n",
    "    return (\"You can vote\")\n",
    "\n",
    "\n",
    "\n",
    "try:\n",
    "    new_age = int(input(\"Enter age:\"))\n",
    "    x=voting(new_age)\n",
    "    print(x)\n",
    "except AgeError as e:\n",
    "    print(\"Error:\", e)\n"
   ]
  },
  {
   "cell_type": "markdown",
   "id": "8d1c0eee",
   "metadata": {},
   "source": [
    "## 6"
   ]
  },
  {
   "cell_type": "code",
   "execution_count": 41,
   "id": "750dc7ab",
   "metadata": {},
   "outputs": [
    {
     "name": "stdout",
     "output_type": "stream",
     "text": [
      "Result: 5.0\n",
      "Error: Negative values are not allowed for this operation.\n"
     ]
    }
   ],
   "source": [
    "class CustomError(Exception):\n",
    "    def __init__(self, message):\n",
    "        self.message = message\n",
    "        super().__init__(self.message)\n",
    "\n",
    "def root(value):\n",
    "    if value < 0:\n",
    "        raise CustomError(\"Negative values are not allowed for this operation.\")\n",
    "    return value ** (1/2)\n",
    "\n",
    "\n",
    "try:\n",
    "    result = root(25)\n",
    "    print(\"Result:\", result)\n",
    "    \n",
    "    result = root(-4)\n",
    "    print(\"Result:\", result)\n",
    "except CustomError as e:\n",
    "    print(\"Error:\", e)\n"
   ]
  },
  {
   "cell_type": "code",
   "execution_count": null,
   "id": "81a72140",
   "metadata": {},
   "outputs": [],
   "source": []
  }
 ],
 "metadata": {
  "kernelspec": {
   "display_name": "Python 3 (ipykernel)",
   "language": "python",
   "name": "python3"
  },
  "language_info": {
   "codemirror_mode": {
    "name": "ipython",
    "version": 3
   },
   "file_extension": ".py",
   "mimetype": "text/x-python",
   "name": "python",
   "nbconvert_exporter": "python",
   "pygments_lexer": "ipython3",
   "version": "3.11.3"
  }
 },
 "nbformat": 4,
 "nbformat_minor": 5
}
