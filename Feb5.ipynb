{
 "cells": [
  {
   "cell_type": "markdown",
   "id": "240d3b75",
   "metadata": {},
   "source": [
    "## 1"
   ]
  },
  {
   "cell_type": "markdown",
   "id": "cf06c3a0",
   "metadata": {},
   "source": [
    "Classes are user-defined data types that act as the blueprint for individual objects, attributes and methods.\n",
    "Classes provide a means of bundling data and functionality together. Creating a new class creates a new type of object, allowing new instances of that type to be made.\n",
    "Objects are instances of a class created with specifically defined data. Objects can correspond to real-world objects or an abstract entity. \n",
    "An object consists of:\n",
    "\n",
    "State: It is represented by the attributes of an object. It also reflects the properties of an object.\n",
    "Behavior: It is represented by the methods of an object. It also reflects the response of an object to other objects.\n",
    "Identity: It gives a unique name to an object and enables one object to interact with other objects."
   ]
  },
  {
   "cell_type": "code",
   "execution_count": 1,
   "id": "dccb0f08",
   "metadata": {},
   "outputs": [
    {
     "name": "stdout",
     "output_type": "stream",
     "text": [
      "Black\n",
      "Diesel\n"
     ]
    }
   ],
   "source": [
    "#class\n",
    "class Car:\n",
    "    Colour=\"Black\"\n",
    "    Fuel=\"Diesel\"\n",
    " \n",
    " \n",
    "#object\n",
    "Car1 = Car()\n",
    " \n",
    "#access class attribute using object\n",
    "print(Car1.Colour)\n",
    "print(Car1.Fuel)"
   ]
  },
  {
   "cell_type": "markdown",
   "id": "0daaa3c5",
   "metadata": {},
   "source": [
    "## 2"
   ]
  },
  {
   "cell_type": "markdown",
   "id": "71c86542",
   "metadata": {},
   "source": [
    "encapsulation, abstraction, inheritance, and polymorphism"
   ]
  },
  {
   "cell_type": "markdown",
   "id": "47f66df3",
   "metadata": {},
   "source": [
    "## 3"
   ]
  },
  {
   "cell_type": "markdown",
   "id": "5ddc7a57",
   "metadata": {},
   "source": [
    "The __init__ method is the Python is similiar to C++ and Java constructor in an object-oriented approach.Just like the task of constructors is to initialize(assign values) to the data members of the class when an object of the class is created,similarly the method is useful to do any initialization we want to do with our object.The __init__ method lets the class initialize the object’s attributes and serves no other purpose. It is only used within classes.  The __init__  function is called every time an object is created from a class. It is run as soon as an object of a class is instantiated. "
   ]
  },
  {
   "cell_type": "code",
   "execution_count": 2,
   "id": "1b193199",
   "metadata": {},
   "outputs": [
    {
     "name": "stdout",
     "output_type": "stream",
     "text": [
      "This car is yellow in colour\n",
      "This car runs on diesel\n"
     ]
    }
   ],
   "source": [
    "#class\n",
    "class Car:                   \n",
    "#__init__ method \n",
    "  def __init__(self,Colour,Fuel):\n",
    "#attributes  \n",
    "    self.carColour = Colour       \n",
    "    self.carFuel = Fuel\n",
    "#object\n",
    "Car1=Car('yellow','diesel')\n",
    "print(\"This car is\",Car1.carColour,\"in colour\")\n",
    "print(\"This car runs on\",Car1.carFuel)"
   ]
  },
  {
   "cell_type": "markdown",
   "id": "01e24021",
   "metadata": {},
   "source": [
    "## 4"
   ]
  },
  {
   "cell_type": "markdown",
   "id": "ad8dd713",
   "metadata": {},
   "source": [
    "The self variable is used to represent the instance of the class which is often used in object-oriented programming.It works as a reference to the object. Python uses the self parameter to refer to instance attributes and methods of the class. It binds the attributes with the given arguments.\n",
    "The reason we need to use self is because unlike other programming language Python does not use the @ syntax to refer to instance attributes. Python decided to do methods in a way that makes the instance to which the method belongs be passed automatically, but not received automatically: the first parameter of methods is the instance the method is called on.\n",
    "Self is always pointing to Current Object.\n",
    "Self is the first argument to be passed in Constructor and Instance Method.Self must be provided as a First parameter to the Instance method and constructor. If we don’t provide it, it will cause an error."
   ]
  },
  {
   "cell_type": "code",
   "execution_count": 3,
   "id": "c78b5485",
   "metadata": {},
   "outputs": [
    {
     "name": "stdout",
     "output_type": "stream",
     "text": [
      "Colour for BMW is  Black\n"
     ]
    }
   ],
   "source": [
    "class Car():\n",
    "    # Self is always required as the first argument\n",
    "    def __init__(self, color, fuel):\n",
    "        self.color = color\n",
    "        self.fuel = fuel\n",
    "        \n",
    "BMW = Car(\"Black\", \"diesel\")\n",
    "print(\"Colour for BMW is \",BMW.color)"
   ]
  },
  {
   "cell_type": "markdown",
   "id": "735b2991",
   "metadata": {},
   "source": [
    "## 5"
   ]
  },
  {
   "cell_type": "markdown",
   "id": "c1b3887a",
   "metadata": {},
   "source": [
    "Inheritance allows us to define a class that inherits all the methods and properties from another class.It provides the reusability of a code.\n",
    "Parent class is the class being inherited from, also called base class.\n",
    "Child class is the class that inherits from another class, also called derived class."
   ]
  },
  {
   "cell_type": "code",
   "execution_count": 4,
   "id": "ca01d184",
   "metadata": {},
   "outputs": [
    {
     "name": "stdout",
     "output_type": "stream",
     "text": [
      "Yellow Petrol\n"
     ]
    }
   ],
   "source": [
    "#Parent class\n",
    "class Car(object):\n",
    "\n",
    "    def __init__(self, color, fuel):\n",
    "        self.color=color\n",
    "        self.fuel=fuel\n",
    "\n",
    "\n",
    "    def Display(self):\n",
    "        print(self.color, self.fuel)\n",
    "\n",
    "\n",
    "# Driver code\n",
    "Car1 = Car(\"Yellow\",\"Petrol\") \n",
    "Car1.Display()\n"
   ]
  },
  {
   "cell_type": "code",
   "execution_count": 5,
   "id": "05d293ef",
   "metadata": {},
   "outputs": [
    {
     "name": "stdout",
     "output_type": "stream",
     "text": [
      "black Petrol\n"
     ]
    }
   ],
   "source": [
    "#child class\n",
    "class BMW(Car):\n",
    "    pass\n",
    "Car2=BMW(\"black\",\"Petrol\")\n",
    "Car2.Display()\n",
    "# here the child class inherits the functionality from parent class,when parent class passed as parameter.\n",
    "#We use the pass keyword when we do not want to add any other properties or methods to the class.\n"
   ]
  },
  {
   "cell_type": "markdown",
   "id": "c62d0efc",
   "metadata": {},
   "source": [
    "If We want to add the __init__() function to the child class (instead of the pass keyword),we need to invoke\n",
    "the __init__ of the parent class within child class else The child's __init__() function overrides the inheritance of the parent's __init__() function."
   ]
  },
  {
   "cell_type": "code",
   "execution_count": 6,
   "id": "738660b9",
   "metadata": {},
   "outputs": [
    {
     "ename": "AttributeError",
     "evalue": "'Audi' object has no attribute 'color'",
     "output_type": "error",
     "traceback": [
      "\u001b[1;31m---------------------------------------------------------------------------\u001b[0m",
      "\u001b[1;31mAttributeError\u001b[0m                            Traceback (most recent call last)",
      "Cell \u001b[1;32mIn[6], line 5\u001b[0m\n\u001b[0;32m      3\u001b[0m         \u001b[38;5;28mself\u001b[39m\u001b[38;5;241m.\u001b[39mmodel\u001b[38;5;241m=\u001b[39mmodel\n\u001b[0;32m      4\u001b[0m Car3\u001b[38;5;241m=\u001b[39mAudi(\u001b[38;5;124m\"\u001b[39m\u001b[38;5;124mblue\u001b[39m\u001b[38;5;124m\"\u001b[39m,\u001b[38;5;124m\"\u001b[39m\u001b[38;5;124mPetrol\u001b[39m\u001b[38;5;124m\"\u001b[39m,\u001b[38;5;124m\"\u001b[39m\u001b[38;5;124mAudi10\u001b[39m\u001b[38;5;124m\"\u001b[39m)\u001b[38;5;66;03m#here we are getting error because child class init method overrides the inheritance of parent init function hence it cannot access parent class atrribute\u001b[39;00m\n\u001b[1;32m----> 5\u001b[0m \u001b[43mCar3\u001b[49m\u001b[38;5;241;43m.\u001b[39;49m\u001b[43mDisplay\u001b[49m\u001b[43m(\u001b[49m\u001b[43m)\u001b[49m\n",
      "Cell \u001b[1;32mIn[4], line 10\u001b[0m, in \u001b[0;36mCar.Display\u001b[1;34m(self)\u001b[0m\n\u001b[0;32m      9\u001b[0m \u001b[38;5;28;01mdef\u001b[39;00m \u001b[38;5;21mDisplay\u001b[39m(\u001b[38;5;28mself\u001b[39m):\n\u001b[1;32m---> 10\u001b[0m     \u001b[38;5;28mprint\u001b[39m(\u001b[38;5;28;43mself\u001b[39;49m\u001b[38;5;241;43m.\u001b[39;49m\u001b[43mcolor\u001b[49m, \u001b[38;5;28mself\u001b[39m\u001b[38;5;241m.\u001b[39mfuel)\n",
      "\u001b[1;31mAttributeError\u001b[0m: 'Audi' object has no attribute 'color'"
     ]
    }
   ],
   "source": [
    "class Audi(Car):\n",
    "    def __init__(self,color,fuel,model):\n",
    "        self.model=model\n",
    "Car3=Audi(\"blue\",\"Petrol\",\"Audi10\")#here we are getting error because child class init method overrides the inheritance of parent init function hence it cannot access parent class atrribute\n",
    "Car3.Display()"
   ]
  },
  {
   "cell_type": "code",
   "execution_count": 7,
   "id": "6bc29dbe",
   "metadata": {},
   "outputs": [
    {
     "name": "stdout",
     "output_type": "stream",
     "text": [
      "blue Petrol\n",
      "blue Petrol Audi10\n"
     ]
    }
   ],
   "source": [
    "class Audi(Car):\n",
    "    def __init__(self,color,fuel,model):\n",
    "        self.model=model\n",
    "        super().__init__(color,fuel)# here super method is used to make the child class inherit all the methods and properties from its parent\n",
    "    def Alldisplay(self):\n",
    "        print(self.color, self.fuel,self.model)\n",
    "Car3=Audi(\"blue\",\"Petrol\",\"Audi10\")\n",
    "Car3.Display()\n",
    "Car3.Alldisplay()"
   ]
  },
  {
   "cell_type": "code",
   "execution_count": null,
   "id": "76f1577a",
   "metadata": {},
   "outputs": [],
   "source": []
  },
  {
   "cell_type": "code",
   "execution_count": null,
   "id": "acd90eb0",
   "metadata": {},
   "outputs": [],
   "source": []
  }
 ],
 "metadata": {
  "kernelspec": {
   "display_name": "Python 3 (ipykernel)",
   "language": "python",
   "name": "python3"
  },
  "language_info": {
   "codemirror_mode": {
    "name": "ipython",
    "version": 3
   },
   "file_extension": ".py",
   "mimetype": "text/x-python",
   "name": "python",
   "nbconvert_exporter": "python",
   "pygments_lexer": "ipython3",
   "version": "3.11.3"
  }
 },
 "nbformat": 4,
 "nbformat_minor": 5
}
