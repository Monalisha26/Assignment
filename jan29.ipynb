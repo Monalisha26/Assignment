{
 "cells": [
  {
   "cell_type": "markdown",
   "id": "d0f8c71d-8045-4c91-a903-67484fc62b61",
   "metadata": {},
   "source": [
    "1.Guido van Rossum developed python programming language."
   ]
  },
  {
   "cell_type": "markdown",
   "id": "ba592e06-ef11-4da5-9e3f-e457446d4c01",
   "metadata": {},
   "source": [
    "2.Python is an interpreted programming language, supporting object-oriented, structured, and functional programming."
   ]
  },
  {
   "cell_type": "markdown",
   "id": "505b7c93-a8e1-4906-ba67-d1a1c8b50cf2",
   "metadata": {},
   "source": [
    "3.Yes,python is case sensitive when dealing with identifiers."
   ]
  },
  {
   "cell_type": "markdown",
   "id": "0533c948-a4d8-4f4c-8e8b-d9bc57ca7b97",
   "metadata": {},
   "source": [
    "4.Correct extension of python file is .py "
   ]
  },
  {
   "cell_type": "markdown",
   "id": "d7ac46f1-2afe-4e7d-bb2a-5258d5de8454",
   "metadata": {},
   "source": [
    "5.Python code is interpreted."
   ]
  },
  {
   "cell_type": "markdown",
   "id": "09865161-afe0-4040-95a7-8bde74762557",
   "metadata": {},
   "source": [
    "6.Indentation is used to define a blocks of code in python."
   ]
  },
  {
   "cell_type": "markdown",
   "id": "dd11732e-bfe2-4927-8065-7087e2fbc4bd",
   "metadata": {},
   "source": [
    "7.Hash symbol-# is used to give single line comments in python."
   ]
  },
  {
   "cell_type": "markdown",
   "id": "54ed1488-47a2-44ec-a00b-93f88881117e",
   "metadata": {},
   "source": [
    "8.python_version function can help us find version of python we are working on.\n",
    "Also sys.version() method"
   ]
  },
  {
   "cell_type": "markdown",
   "id": "b29b9b30-e548-47c4-aa11-733c47d7b5e4",
   "metadata": {},
   "source": [
    "from platform import python_version\n",
    "python_version()"
   ]
  },
  {
   "cell_type": "code",
   "execution_count": 11,
   "id": "612461c6-92f6-4162-82d0-b687bb5ae90a",
   "metadata": {},
   "outputs": [
    {
     "name": "stdout",
     "output_type": "stream",
     "text": [
      "User Current Version:- 3.10.8 | packaged by conda-forge | (main, Nov 22 2022, 08:26:04) [GCC 10.4.0]\n"
     ]
    }
   ],
   "source": [
    "import sys\n",
    "print(\"User Current Version:-\", sys.version)"
   ]
  },
  {
   "cell_type": "markdown",
   "id": "524b8580-8bba-451e-b252-9448f310df02",
   "metadata": {},
   "source": [
    "9.Lambda"
   ]
  },
  {
   "cell_type": "markdown",
   "id": "fc7817d9-3241-46fe-a4ef-6eefb5b114a9",
   "metadata": {},
   "source": [
    "10.pip-Preferred Installer Program or PIP Installs Packages."
   ]
  },
  {
   "cell_type": "markdown",
   "id": "c7dc8c15-8420-4e81-92a4-80de68448991",
   "metadata": {},
   "source": [
    "11.\n",
    "a)bin()-Converts integer to binary string\n",
    "\n",
    "b)bool()-Returns or converts a value to a Boolean value i.e., True or False\n",
    "\n",
    "c)complex()-Creates Complex Number\n",
    "\n",
    "d)dict()-Creates a Python Dictionary\n",
    "\n",
    "e)delattr()-Delete the named attribute from the object\n",
    "\n",
    "f)iter()-Convert an iterable to iterator\n",
    "\n",
    "g)next()-Receives the next item from the iterator\n",
    "\n",
    "h)len()-Returns the length of the object\n",
    "\n",
    "i)list()-Creates a list in Python\n",
    "\n",
    "j)help()-Display the documentation of modules, functions, classes, keywords, etc"
   ]
  },
  {
   "cell_type": "markdown",
   "id": "aa9cd68e-66d1-40ca-a7fd-1fac48d7210c",
   "metadata": {},
   "source": [
    "12.79 characters"
   ]
  },
  {
   "cell_type": "markdown",
   "id": "4329a2f9-9d98-45a1-89b4-425f877f4cbe",
   "metadata": {},
   "source": [
    "13.a) Easy to read, learn and write\n",
    "\n",
    "b)High-level language\n",
    "\n",
    "c)Highly extensible(NumPy for numerical calculations, Pandas for data analytics, etc.) \n",
    "\n",
    "d)Open source and large active community base \n",
    "\n",
    "e)Interpreted Language\n",
    "\n",
    "f)Portable across Operating systems\n",
    "\n",
    "g)Object-Oriented and Procedural  Programming language"
   ]
  },
  {
   "cell_type": "markdown",
   "id": "94c572da-cea5-493c-a68a-3ad38ad49d81",
   "metadata": {},
   "source": [
    "14.Memory management in Python involves a private heap containing all Python objects and data structures. The management of this private heap is ensured internally by the Python memory manager."
   ]
  },
  {
   "cell_type": "markdown",
   "id": "dfd64a1e-c75d-47fb-a03e-0e19522ba2d2",
   "metadata": {},
   "source": [
    "15.\n",
    "## install python on windows\n",
    "To download Python, we need to visit www.python.org, which is the official Python website\n",
    "Click on the Downloads tab and then select the Windows option. \n",
    "This will take us to the page where the different Python releases for Windows can be found.Depending on 64 or 32 but system,we need to select req updated installer. \n",
    "Once the executable file download is complete,we can open it to install Python.\n",
    "Click on Run, which will start the installation process.\n",
    "## set path variables\n",
    "select the checkbox at the bottom to Add Python 3.7 to PATH.\n",
    "OR\n",
    "Right-clicking This PC and go to Properties.\n",
    "Click on the Advanced system settings in the menu on the left.\n",
    "Click on the Environment Variables button on the bottom right.\n",
    "In the System variables section, select the Path variable and click on Edit. The next screen will show all the directories that are currently a part of the PATH variable.\n",
    "Click on New and enter Python’s install directory."
   ]
  },
  {
   "cell_type": "markdown",
   "id": "0c71148c-1c3f-4d49-8286-d0d936f98898",
   "metadata": {},
   "source": [
    "16.yes"
   ]
  },
  {
   "cell_type": "code",
   "execution_count": null,
   "id": "abffd878-19e8-43f0-95ed-b3b0f90ed068",
   "metadata": {},
   "outputs": [],
   "source": []
  }
 ],
 "metadata": {
  "kernelspec": {
   "display_name": "Python 3 (ipykernel)",
   "language": "python",
   "name": "python3"
  },
  "language_info": {
   "codemirror_mode": {
    "name": "ipython",
    "version": 3
   },
   "file_extension": ".py",
   "mimetype": "text/x-python",
   "name": "python",
   "nbconvert_exporter": "python",
   "pygments_lexer": "ipython3",
   "version": "3.10.8"
  }
 },
 "nbformat": 4,
 "nbformat_minor": 5
}
