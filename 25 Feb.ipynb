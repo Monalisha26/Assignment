{
 "cells": [
  {
   "cell_type": "code",
   "execution_count": 2,
   "id": "323fbd7a",
   "metadata": {},
   "outputs": [],
   "source": [
    "import pandas as pd\n",
    "course_name = ['Data Science', 'Machine Learning', 'Big Data', 'Data Engineer']\n",
    "duration = [2,3,6,4]\n",
    "df = pd.DataFrame(data = {'course_name' : course_name, 'duration' : duration})"
   ]
  },
  {
   "cell_type": "markdown",
   "id": "6e2a6d78",
   "metadata": {},
   "source": [
    "## 1"
   ]
  },
  {
   "cell_type": "code",
   "execution_count": 7,
   "id": "bcd20d46",
   "metadata": {},
   "outputs": [
    {
     "data": {
      "text/plain": [
       "course_name    Machine Learning\n",
       "duration                      3\n",
       "Name: 1, dtype: object"
      ]
     },
     "execution_count": 7,
     "metadata": {},
     "output_type": "execute_result"
    }
   ],
   "source": [
    "df.iloc[1]"
   ]
  },
  {
   "cell_type": "markdown",
   "id": "016b7f88",
   "metadata": {},
   "source": [
    "## 2"
   ]
  },
  {
   "cell_type": "markdown",
   "id": "9f4acbf2",
   "metadata": {},
   "source": [
    "In pandas, both `loc` and `iloc` are used to access data in a DataFrame, but they have different ways of selecting data based on the row and column labels or integer indices. Here are the main differences between `loc` and `iloc`:\n",
    "\n",
    "1.Selection based on Label (loc):\n",
    "   loc is primarily label-based. It uses row and column labels to select data.\n",
    "   We can use row and column labels to specify the data we want to access.\n",
    "   It includes the ending label when slicing data, meaning the endpoint is inclusive.\n",
    "   Example: `df.loc[0, 'column_name']` selects the data in the first row and the column with the label 'column_name'.\n",
    "\n",
    "2.Selection based on Integer Position (iloc):\n",
    "   iloc is primarily integer-based. It uses integer indices to select data.\n",
    "   We can use integer indices to specify the data we want to access.\n",
    "   It does not include the ending integer index when slicing data, meaning the endpoint is exclusive.\n",
    "   Example: `df.iloc[0, 1]` selects the data in the first row and the second column (0-based indexing)."
   ]
  },
  {
   "cell_type": "code",
   "execution_count": 8,
   "id": "749a77e7",
   "metadata": {},
   "outputs": [
    {
     "data": {
      "text/html": [
       "<div>\n",
       "<style scoped>\n",
       "    .dataframe tbody tr th:only-of-type {\n",
       "        vertical-align: middle;\n",
       "    }\n",
       "\n",
       "    .dataframe tbody tr th {\n",
       "        vertical-align: top;\n",
       "    }\n",
       "\n",
       "    .dataframe thead th {\n",
       "        text-align: right;\n",
       "    }\n",
       "</style>\n",
       "<table border=\"1\" class=\"dataframe\">\n",
       "  <thead>\n",
       "    <tr style=\"text-align: right;\">\n",
       "      <th></th>\n",
       "      <th>course_name</th>\n",
       "      <th>duration</th>\n",
       "    </tr>\n",
       "  </thead>\n",
       "  <tbody>\n",
       "    <tr>\n",
       "      <th>0</th>\n",
       "      <td>Data Science</td>\n",
       "      <td>2</td>\n",
       "    </tr>\n",
       "    <tr>\n",
       "      <th>1</th>\n",
       "      <td>Machine Learning</td>\n",
       "      <td>3</td>\n",
       "    </tr>\n",
       "    <tr>\n",
       "      <th>2</th>\n",
       "      <td>Big Data</td>\n",
       "      <td>6</td>\n",
       "    </tr>\n",
       "    <tr>\n",
       "      <th>3</th>\n",
       "      <td>Data Engineer</td>\n",
       "      <td>4</td>\n",
       "    </tr>\n",
       "  </tbody>\n",
       "</table>\n",
       "</div>"
      ],
      "text/plain": [
       "        course_name  duration\n",
       "0      Data Science         2\n",
       "1  Machine Learning         3\n",
       "2          Big Data         6\n",
       "3     Data Engineer         4"
      ]
     },
     "execution_count": 8,
     "metadata": {},
     "output_type": "execute_result"
    }
   ],
   "source": [
    "df"
   ]
  },
  {
   "cell_type": "code",
   "execution_count": 10,
   "id": "aa3a73ea",
   "metadata": {},
   "outputs": [
    {
     "data": {
      "text/plain": [
       "'Data Science'"
      ]
     },
     "execution_count": 10,
     "metadata": {},
     "output_type": "execute_result"
    }
   ],
   "source": [
    "df.loc[0,'course_name']"
   ]
  },
  {
   "cell_type": "code",
   "execution_count": 11,
   "id": "44d1d09f",
   "metadata": {},
   "outputs": [
    {
     "data": {
      "text/plain": [
       "'Data Science'"
      ]
     },
     "execution_count": 11,
     "metadata": {},
     "output_type": "execute_result"
    }
   ],
   "source": [
    "df.iloc[0,0]"
   ]
  },
  {
   "cell_type": "markdown",
   "id": "d16a144f",
   "metadata": {},
   "source": [
    "## 3"
   ]
  },
  {
   "cell_type": "code",
   "execution_count": 14,
   "id": "c222ee6e",
   "metadata": {},
   "outputs": [
    {
     "name": "stdout",
     "output_type": "stream",
     "text": [
      "Output using loc:\n",
      "course_name    Big Data\n",
      "duration              6\n",
      "Name: 2, dtype: object\n",
      "\n",
      "Output using iloc:\n",
      "course_name    Machine Learning\n",
      "duration                      3\n",
      "Name: 1, dtype: object\n",
      "\n",
      "New df:\n",
      "        course_name  duration\n",
      "3     Data Engineer         4\n",
      "0      Data Science         2\n",
      "1  Machine Learning         3\n",
      "2          Big Data         6\n"
     ]
    }
   ],
   "source": [
    "reindex=[3, 0, 1, 2]\n",
    "new_df = df.reindex(reindex)\n",
    "output_loc = new_df.loc[2]\n",
    "output_iloc = new_df.iloc[2]\n",
    "\n",
    "print(\"Output using loc:\")\n",
    "print(output_loc)\n",
    "\n",
    "print(\"\\nOutput using iloc:\")\n",
    "print(output_iloc)\n",
    "\n",
    "print(\"\\nNew df:\")\n",
    "print(new_df)\n",
    "\n",
    "\n",
    "\n",
    "\n",
    "\n"
   ]
  },
  {
   "cell_type": "markdown",
   "id": "a16c4547",
   "metadata": {},
   "source": [
    "Yes,there is a difference in output because as mentioned loc selects data on label basis and after reindexing we are just changing the labels of indexes and that way using loc we are accessing changed label '2' position's value and using iloc we are accesing the index '2' position's value,which is same as original as we are not changing the index,rather just its label."
   ]
  },
  {
   "cell_type": "code",
   "execution_count": 15,
   "id": "2a3a0829",
   "metadata": {},
   "outputs": [],
   "source": [
    "import pandas as pd\n",
    "import numpy as np\n",
    "columns = ['column_1', 'column_2', 'column_3', 'column_4', 'column_5', 'column_6']\n",
    "indices = [1,2,3,4,5,6]\n",
    "#Creating a dataframe:\n",
    "df1 = pd.DataFrame(np.random.rand(6,6), columns = columns, index = indices)"
   ]
  },
  {
   "cell_type": "markdown",
   "id": "ede2883c",
   "metadata": {},
   "source": [
    "## 4"
   ]
  },
  {
   "cell_type": "code",
   "execution_count": 17,
   "id": "5a4ed9ef",
   "metadata": {},
   "outputs": [
    {
     "name": "stdout",
     "output_type": "stream",
     "text": [
      "Mean of each column:\n",
      "column_1    0.384726\n",
      "column_2    0.426985\n",
      "column_3    0.476340\n",
      "column_4    0.428479\n",
      "column_5    0.335917\n",
      "column_6    0.558165\n",
      "dtype: float64\n",
      "\n",
      "Standard deviation of 'column_2': 0.3382274374453892\n"
     ]
    }
   ],
   "source": [
    "column_means = df1.mean()\n",
    "print(\"Mean of each column:\")\n",
    "print(column_means)\n",
    "\n",
    "\n",
    "std_dev_column_2 = df1['column_2'].std()\n",
    "print(\"\\nStandard deviation of 'column_2':\", std_dev_column_2)"
   ]
  },
  {
   "cell_type": "markdown",
   "id": "12aababd",
   "metadata": {},
   "source": [
    "## 5"
   ]
  },
  {
   "cell_type": "code",
   "execution_count": 18,
   "id": "1ebfccf7",
   "metadata": {},
   "outputs": [
    {
     "name": "stderr",
     "output_type": "stream",
     "text": [
      "C:\\Users\\monal\\AppData\\Local\\Temp\\ipykernel_18308\\3285302069.py:2: FutureWarning: Setting an item of incompatible dtype is deprecated and will raise in a future error of pandas. Value 'Mona' has dtype incompatible with float64, please explicitly cast to a compatible dtype first.\n",
      "  df1.loc[2, 'column_2'] = 'Mona'\n"
     ]
    }
   ],
   "source": [
    "# Attempt to replace the data in the second row of 'column_2' with a string\n",
    "df1.loc[2, 'column_2'] = 'Mona'\n"
   ]
  },
  {
   "cell_type": "markdown",
   "id": "c9234be3",
   "metadata": {},
   "source": [
    "This error occurs because the 'column_2' of the DataFrame df1 is initially filled with random floating-point numbers, and we cannot replace them with strings without causing a data type conflict.\n",
    "\n",
    "If we want to replace the data with a string,we would need to change the data type of 'column_2' to be capable of holding strings. However, this would result in the entire column having strings, and we wouldn't be able to calculate the mean of it as it would no longer contain numerical data.\n",
    "\n",
    "To calculate the mean of 'column_2', we will need with numerical values. "
   ]
  },
  {
   "cell_type": "markdown",
   "id": "45dcc85e",
   "metadata": {},
   "source": [
    "## 6"
   ]
  },
  {
   "cell_type": "markdown",
   "id": "a2de91dd",
   "metadata": {},
   "source": [
    "In pandas, the \"window functions\" refer to a group of functions that are used to perform calculations on a set of data points within a specified window or moving interval. These functions are often used for time series data or any data where we want to compute aggregate statistics or apply operations over a rolling or expanding window of data. Window functions in pandas are typically applied using the rolling() or expanding() methods, which allow us to create a rolling or expanding view of our data.\n",
    "\n",
    "Here are some common types of window functions in pandas:\n",
    "\n",
    "1.Aggregation Functions:\n",
    "   - sum(): Calculate the sum of values in the window.\n",
    "   - mean(): Compute the mean (average) of values in the window.\n",
    "   - median(): Calculate the median of values in the window.\n",
    "   - min(): Find the minimum value in the window.\n",
    "   - max(): Find the maximum value in the window.\n",
    "   - count(): Count the number of non-null values in the window.\n",
    "   - std(): Compute the standard deviation of values in the window.\n",
    "   - var(): Calculate the variance of values in the window.\n",
    "\n",
    "2.Window Transformation Functions:\n",
    "   - shift(): Shift the values in the window forward or backward in time.\n",
    "   - diff(): Calculate the difference between the values in the window and the previous values.\n",
    "   - pct_change(): Compute the percentage change between the values in the window and the previous values.\n",
    "\n",
    "3.Window Apply Functions:\n",
    "   - apply(): Apply a custom function to the values in the window.\n",
    "\n",
    "4.Ranking Functions:\n",
    "   - rank(): Assign ranks to values in the window.\n",
    "\n",
    "5.Exponential Moving Functions:\n",
    "   - ewm(): Exponentially weighted moving functions such as mean(), var(), and std().\n",
    "\n",
    "6.Custom Functions:\n",
    "   - We can create and apply custom window functions by defining our own functions and using them with the apply() method."
   ]
  },
  {
   "cell_type": "code",
   "execution_count": 1,
   "id": "18566e6c",
   "metadata": {},
   "outputs": [
    {
     "name": "stdout",
     "output_type": "stream",
     "text": [
      "0    NaN\n",
      "1    NaN\n",
      "2    2.0\n",
      "3    3.0\n",
      "4    4.0\n",
      "5    5.0\n",
      "6    6.0\n",
      "7    7.0\n",
      "8    8.0\n",
      "Name: value, dtype: float64\n"
     ]
    }
   ],
   "source": [
    "import pandas as pd\n",
    "\n",
    "# Create a DataFrame with a time series\n",
    "data = {'value': [1, 2, 3, 4, 5, 6, 7, 8, 9]}\n",
    "df = pd.DataFrame(data)\n",
    "\n",
    "# Calculate the rolling mean over a window of size 3\n",
    "rolling_mean = df['value'].rolling(window=3).mean()\n",
    "\n",
    "print(rolling_mean)"
   ]
  },
  {
   "cell_type": "markdown",
   "id": "0451cc01",
   "metadata": {},
   "source": [
    "## 7"
   ]
  },
  {
   "cell_type": "code",
   "execution_count": 5,
   "id": "93ca2360",
   "metadata": {},
   "outputs": [
    {
     "name": "stdout",
     "output_type": "stream",
     "text": [
      "Current Month: September\n",
      "Current Year: 2023\n"
     ]
    }
   ],
   "source": [
    "from datetime import datetime\n",
    "\n",
    "# Get the current date and time\n",
    "current_date = datetime.now()\n",
    "\n",
    "# Extract the current month and year from the date\n",
    "current_month = current_date.strftime(\"%B\") \n",
    "current_year = current_date.strftime(\"%Y\")    \n",
    "\n",
    "# Print the current month and year\n",
    "print(f\"Current Month: {current_month}\")\n",
    "print(f\"Current Year: {current_year}\")"
   ]
  },
  {
   "cell_type": "markdown",
   "id": "e1888102",
   "metadata": {},
   "source": [
    "## 8"
   ]
  },
  {
   "cell_type": "code",
   "execution_count": 7,
   "id": "184ffe3b",
   "metadata": {},
   "outputs": [
    {
     "name": "stdout",
     "output_type": "stream",
     "text": [
      "Enter the first date (format: YYYY-MM-DD HH:MM:SS):\n",
      "Date 1: 2023-04-06\n",
      "Enter the second date (format: YYYY-MM-DD HH:MM:SS):\n",
      "Date 2: 2023-04-10\n",
      "Time difference: 4 days, 0 hours, 0 minutes.\n"
     ]
    }
   ],
   "source": [
    "import pandas as pd\n",
    "\n",
    "# Function to get a valid date input from the user\n",
    "def get_valid_date_input(prompt):\n",
    "    while True:\n",
    "        try:\n",
    "            date_str = input(prompt)\n",
    "            date = pd.to_datetime(date_str)\n",
    "            return date\n",
    "        except ValueError:\n",
    "            print(\"Invalid date format. Please use a valid date format (e.g., YYYY-MM-DD HH:MM:SS).\")\n",
    "\n",
    "# Get the first date from the user\n",
    "print(\"Enter the first date (format: YYYY-MM-DD HH:MM:SS):\")\n",
    "date1 = get_valid_date_input(\"Date 1: \")\n",
    "\n",
    "# Get the second date from the user\n",
    "print(\"Enter the second date (format: YYYY-MM-DD HH:MM:SS):\")\n",
    "date2 = get_valid_date_input(\"Date 2: \")\n",
    "\n",
    "# Calculate the time difference\n",
    "time_difference = date2 - date1\n",
    "\n",
    "# Extract days, hours, and minutes from the time difference\n",
    "days = time_difference.days\n",
    "hours, remainder = divmod(time_difference.seconds, 3600)\n",
    "minutes, _ = divmod(remainder, 60)\n",
    "\n",
    "# Display the result\n",
    "print(f\"Time difference: {days} days, {hours} hours, {minutes} minutes.\")\n"
   ]
  },
  {
   "cell_type": "markdown",
   "id": "eeb213b6",
   "metadata": {},
   "source": [
    "## 9"
   ]
  },
  {
   "cell_type": "code",
   "execution_count": 2,
   "id": "6ed03482",
   "metadata": {},
   "outputs": [
    {
     "name": "stdout",
     "output_type": "stream",
     "text": [
      "CSV Categorical Column Converter and Sorter\n",
      "Enter the CSV file path: test.csv\n",
      "Columns in the CSV file: test\n",
      "Enter the column name to convert to categorical: test\n",
      "Enter category order (comma-separated): one,two,three\n",
      "\n",
      "Sorted Data:\n",
      "    test\n",
      "0    one\n",
      "2    one\n",
      "4    one\n",
      "1    two\n",
      "3  three\n"
     ]
    }
   ],
   "source": [
    "import pandas as pd\n",
    "\n",
    "# Function to get a valid file path from the user\n",
    "def get_valid_file_path(prompt):\n",
    "    while True:\n",
    "        file_path = input(prompt)\n",
    "        try:\n",
    "            df = pd.read_csv(file_path)\n",
    "            return df, file_path\n",
    "        except FileNotFoundError:\n",
    "            print(\"File not found. Please enter a valid file path.\")\n",
    "        except pd.errors.EmptyDataError:\n",
    "            print(\"File is empty. Please enter a valid file path.\")\n",
    "\n",
    "# Function to get a valid column name from the user\n",
    "def get_valid_column_name(df, prompt):\n",
    "    while True:\n",
    "        column_name = input(prompt)\n",
    "        if column_name in df.columns:\n",
    "            return column_name\n",
    "        else:\n",
    "            print(\"Column not found. Please enter a valid column name.\")\n",
    "\n",
    "# Function to get category order from the user\n",
    "def get_category_order():\n",
    "    category_order_str = input(\"Enter category order (comma-separated): \")\n",
    "    category_order = [item.strip() for item in category_order_str.split(',')]\n",
    "    return category_order\n",
    "\n",
    "# Main program\n",
    "print(\"CSV Categorical Column Converter and Sorter\")\n",
    "\n",
    "df, file_path = get_valid_file_path(\"Enter the CSV file path: \")\n",
    "\n",
    "print(f\"Columns in the CSV file: {', '.join(df.columns)}\")\n",
    "\n",
    "column_name = get_valid_column_name(df, \"Enter the column name to convert to categorical: \")\n",
    "category_order = get_category_order()\n",
    "\n",
    "# Convert the specified column to categorical\n",
    "df[column_name] = pd.Categorical(df[column_name], categories=category_order, ordered=True)\n",
    "\n",
    "# Sort the DataFrame based on the categorical column\n",
    "df.sort_values(by=column_name, inplace=True)\n",
    "\n",
    "# Display the sorted DataFrame\n",
    "print(\"\\nSorted Data:\")\n",
    "print(df)\n"
   ]
  },
  {
   "cell_type": "markdown",
   "id": "c09fd3e7",
   "metadata": {},
   "source": [
    "## 10"
   ]
  },
  {
   "cell_type": "code",
   "execution_count": 16,
   "id": "4425d76b",
   "metadata": {},
   "outputs": [
    {
     "name": "stdout",
     "output_type": "stream",
     "text": [
      "Enter the file path of the CSV file: sales.csv\n"
     ]
    },
    {
     "data": {
      "text/plain": [
       "<Figure size 1200x600 with 0 Axes>"
      ]
     },
     "metadata": {},
     "output_type": "display_data"
    },
    {
     "data": {
      "image/png": "[encoded data removed]",
      "text/plain": [
       "<Figure size 640x480 with 1 Axes>"
      ]
     },
     "metadata": {},
     "output_type": "display_data"
    }
   ],
   "source": [
    "import pandas as pd\n",
    "import matplotlib.pyplot as plt\n",
    "\n",
    "# Function to read CSV file and visualize data\n",
    "def visualize_sales_data(file_path):\n",
    "    # Read the CSV file into a DataFrame\n",
    "    try:\n",
    "        df = pd.read_csv(file_path)\n",
    "    except FileNotFoundError:\n",
    "        print(\"File not found. Please provide a valid file path.\")\n",
    "        return\n",
    "    except Exception as e:\n",
    "        print(f\"An error occurred: {e}\")\n",
    "        return\n",
    "\n",
    "    expected_columns = ['Date', 'Category', 'Sales']\n",
    "    if not all(column in df.columns for column in expected_columns):\n",
    "        print(\"The CSV file does not contain the expected columns.\")\n",
    "        return\n",
    "\n",
    "    # Convert the 'Date' column to a datetime data type\n",
    "    df['Date'] = pd.to_datetime(df['Date'])\n",
    "\n",
    "    # Group data by 'Category' and 'Date', and calculate the sum of sales for each group\n",
    "    grouped_data = df.groupby(['Category', 'Date'])['Sales'].sum().unstack().fillna(0)\n",
    "\n",
    "    # Create a stacked bar chart\n",
    "    plt.figure(figsize=(12, 6))\n",
    "    stacked_data = grouped_data.T\n",
    "    stacked_data.plot(kind='bar', stacked=True)\n",
    "    \n",
    "    # Customize the plot\n",
    "    plt.title(\"Stacked Bar Chart of Sales Data by Category Over Time\")\n",
    "    plt.xlabel(\"Date\")\n",
    "    plt.ylabel(\"Sales\")\n",
    "    plt.xticks(rotation=45)\n",
    "    \n",
    "    # Show the legend\n",
    "    plt.legend(title=\"Category\", loc='upper left')\n",
    "    \n",
    "    # Show the chart\n",
    "    plt.show()\n",
    "\n",
    "if __name__ == \"__main__\":\n",
    "    file_path = input(\"Enter the file path of the CSV file: \")\n",
    "    \n",
    "    visualize_sales_data(file_path)\n"
   ]
  },
  {
   "cell_type": "markdown",
   "id": "b3c39fa1",
   "metadata": {},
   "source": [
    "## 11"
   ]
  },
  {
   "cell_type": "code",
   "execution_count": 13,
   "id": "b5dfc945",
   "metadata": {},
   "outputs": [
    {
     "name": "stdout",
     "output_type": "stream",
     "text": [
      "Enter the file path of the CSV file: student_data.csv\n",
      "+-----------+--------+\n",
      "| Statistic | Value  |\n",
      "+-----------+--------+\n",
      "| Mean      | 72.9   |\n",
      "| Median    | 80.0   |\n",
      "| Mode      | 50 |\n",
      "+-----------+--------+\n"
     ]
    }
   ],
   "source": [
    "import pandas as pd\n",
    "\n",
    "\n",
    "def calculate_stats(file_path):\n",
    "    # Read the CSV file into a DataFrame\n",
    "    try:\n",
    "        df = pd.read_csv(file_path)\n",
    "    except FileNotFoundError:\n",
    "        print(\"File not found. Please provide a valid file path.\")\n",
    "        return\n",
    "    except Exception as e:\n",
    "        print(f\"An error occurred: {e}\")\n",
    "        return\n",
    "\n",
    "    # Check if the DataFrame contains the expected columns ('Student ID' and 'Test Score')\n",
    "    expected_columns = ['Student ID', 'Test Score']\n",
    "    if not all(column in df.columns for column in expected_columns):\n",
    "        print(\"The CSV file does not contain the expected columns.\")\n",
    "        return\n",
    "\n",
    "    # Calculate mean, median, and mode\n",
    "    mean_score = df['Test Score'].mean()\n",
    "    median_score = df['Test Score'].median()\n",
    "    mode_score = df['Test Score'].mode()\n",
    "\n",
    "    # Display the results in a manual table format\n",
    "    print(\"+-----------+--------+\")\n",
    "    print(\"| Statistic | Value  |\")\n",
    "    print(\"+-----------+--------+\")\n",
    "    print(f\"| Mean      | {mean_score:.1f}   |\")\n",
    "    print(f\"| Median    | {median_score:.1f}   |\")\n",
    "    mode_str = ', '.join(map(str, mode_score.tolist())) if not mode_score.empty else 'N/A'\n",
    "    print(f\"| Mode      | {mode_str} |\")\n",
    "    print(\"+-----------+--------+\")\n",
    "\n",
    "if __name__ == \"__main__\":\n",
    "    file_path = input(\"Enter the file path of the CSV file: \")\n",
    "    calculate_stats(file_path)\n"
   ]
  },
  {
   "cell_type": "code",
   "execution_count": null,
   "id": "9ef0aa8a",
   "metadata": {},
   "outputs": [],
   "source": []
  }
 ],
 "metadata": {
  "kernelspec": {
   "display_name": "Python 3 (ipykernel)",
   "language": "python",
   "name": "python3"
  },
  "language_info": {
   "codemirror_mode": {
    "name": "ipython",
    "version": 3
   },
   "file_extension": ".py",
   "mimetype": "text/x-python",
   "name": "python",
   "nbconvert_exporter": "python",
   "pygments_lexer": "ipython3",
   "version": "3.11.3"
  }
 },
 "nbformat": 4,
 "nbformat_minor": 5
}
