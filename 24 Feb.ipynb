{
 "cells": [
  {
   "cell_type": "markdown",
   "id": "b4ed76c5",
   "metadata": {},
   "source": [
    "## 1"
   ]
  },
  {
   "cell_type": "markdown",
   "id": "e7b155a2",
   "metadata": {},
   "source": [
    "Five common functions of the pandas library along with their execution are:\n",
    "\n",
    "1.pd.read_csv(): This function is used to read data from a CSV (Comma Separated Values) file and create a DataFrame. \n",
    "\n",
    "   import pandas as pd\n",
    "   \n",
    "   df = pd.read_csv('example.csv')\n",
    "   \n",
    "\n",
    "2.df.head(): This function is used to display the first few rows of a DataFrame. It helps in quickly inspecting the data.\n",
    "   df.head()\n",
    "   \n",
    "\n",
    "3.df.info(): This function provides a summary of the DataFrame, including data types, non-null counts, and memory usage.\n",
    "   df.info()\n",
    "   \n",
    "\n",
    "4.df.groupby(): This function is used for grouping and aggregating data based on one or more columns.\n",
    "\n",
    "   grouped_data = df.groupby('Category')['Price'].mean()\n",
    "   \n",
    "\n",
    "5.df.describe(): This function generates various summary statistics of numeric columns in the DataFrame, such as mean, standard deviation, and quartiles.\n",
    "   df.describe()"
   ]
  },
  {
   "cell_type": "code",
   "execution_count": 14,
   "id": "c9da7902",
   "metadata": {},
   "outputs": [
    {
     "name": "stdout",
     "output_type": "stream",
     "text": [
      "       Name  Age           City\n",
      "0     Alice   25       New York\n",
      "1       Bob   30  San Francisco\n",
      "2   Charlie   35    Los Angeles\n",
      "3     David   40        Chicago\n",
      "4      Mona   25       New York\n",
      "5  Chandler   40  San Francisco\n",
      "6      Joey   50       New York\n",
      "7    Monica   40        Chicago\n",
      "8    Rachel   30       New York\n"
     ]
    }
   ],
   "source": [
    "import pandas as pd\n",
    "data = {'Name': ['Alice', 'Bob', 'Charlie', 'David','Mona','Chandler','Joey','Monica','Rachel'],\n",
    "        'Age': [25, 30, 35, 40,25,40,50,40,30],\n",
    "        'City': ['New York', 'San Francisco', 'Los Angeles', 'Chicago','New York', 'San Francisco', 'New York', 'Chicago','New York']}\n",
    "\n",
    "df = pd.DataFrame(data)\n",
    "\n",
    "print(df)\n"
   ]
  },
  {
   "cell_type": "code",
   "execution_count": 15,
   "id": "6149871f",
   "metadata": {},
   "outputs": [
    {
     "data": {
      "text/html": [
       "<div>\n",
       "<style scoped>\n",
       "    .dataframe tbody tr th:only-of-type {\n",
       "        vertical-align: middle;\n",
       "    }\n",
       "\n",
       "    .dataframe tbody tr th {\n",
       "        vertical-align: top;\n",
       "    }\n",
       "\n",
       "    .dataframe thead th {\n",
       "        text-align: right;\n",
       "    }\n",
       "</style>\n",
       "<table border=\"1\" class=\"dataframe\">\n",
       "  <thead>\n",
       "    <tr style=\"text-align: right;\">\n",
       "      <th></th>\n",
       "      <th>Name</th>\n",
       "      <th>Age</th>\n",
       "      <th>City</th>\n",
       "    </tr>\n",
       "  </thead>\n",
       "  <tbody>\n",
       "    <tr>\n",
       "      <th>0</th>\n",
       "      <td>Alice</td>\n",
       "      <td>25</td>\n",
       "      <td>New York</td>\n",
       "    </tr>\n",
       "    <tr>\n",
       "      <th>1</th>\n",
       "      <td>Bob</td>\n",
       "      <td>30</td>\n",
       "      <td>San Francisco</td>\n",
       "    </tr>\n",
       "    <tr>\n",
       "      <th>2</th>\n",
       "      <td>Charlie</td>\n",
       "      <td>35</td>\n",
       "      <td>Los Angeles</td>\n",
       "    </tr>\n",
       "    <tr>\n",
       "      <th>3</th>\n",
       "      <td>David</td>\n",
       "      <td>40</td>\n",
       "      <td>Chicago</td>\n",
       "    </tr>\n",
       "    <tr>\n",
       "      <th>4</th>\n",
       "      <td>Mona</td>\n",
       "      <td>25</td>\n",
       "      <td>New York</td>\n",
       "    </tr>\n",
       "  </tbody>\n",
       "</table>\n",
       "</div>"
      ],
      "text/plain": [
       "      Name  Age           City\n",
       "0    Alice   25       New York\n",
       "1      Bob   30  San Francisco\n",
       "2  Charlie   35    Los Angeles\n",
       "3    David   40        Chicago\n",
       "4     Mona   25       New York"
      ]
     },
     "execution_count": 15,
     "metadata": {},
     "output_type": "execute_result"
    }
   ],
   "source": [
    "df.head()"
   ]
  },
  {
   "cell_type": "code",
   "execution_count": 16,
   "id": "a26dbc77",
   "metadata": {},
   "outputs": [
    {
     "data": {
      "text/html": [
       "<div>\n",
       "<style scoped>\n",
       "    .dataframe tbody tr th:only-of-type {\n",
       "        vertical-align: middle;\n",
       "    }\n",
       "\n",
       "    .dataframe tbody tr th {\n",
       "        vertical-align: top;\n",
       "    }\n",
       "\n",
       "    .dataframe thead th {\n",
       "        text-align: right;\n",
       "    }\n",
       "</style>\n",
       "<table border=\"1\" class=\"dataframe\">\n",
       "  <thead>\n",
       "    <tr style=\"text-align: right;\">\n",
       "      <th></th>\n",
       "      <th>Age</th>\n",
       "    </tr>\n",
       "  </thead>\n",
       "  <tbody>\n",
       "    <tr>\n",
       "      <th>count</th>\n",
       "      <td>9.000000</td>\n",
       "    </tr>\n",
       "    <tr>\n",
       "      <th>mean</th>\n",
       "      <td>35.000000</td>\n",
       "    </tr>\n",
       "    <tr>\n",
       "      <th>std</th>\n",
       "      <td>8.291562</td>\n",
       "    </tr>\n",
       "    <tr>\n",
       "      <th>min</th>\n",
       "      <td>25.000000</td>\n",
       "    </tr>\n",
       "    <tr>\n",
       "      <th>25%</th>\n",
       "      <td>30.000000</td>\n",
       "    </tr>\n",
       "    <tr>\n",
       "      <th>50%</th>\n",
       "      <td>35.000000</td>\n",
       "    </tr>\n",
       "    <tr>\n",
       "      <th>75%</th>\n",
       "      <td>40.000000</td>\n",
       "    </tr>\n",
       "    <tr>\n",
       "      <th>max</th>\n",
       "      <td>50.000000</td>\n",
       "    </tr>\n",
       "  </tbody>\n",
       "</table>\n",
       "</div>"
      ],
      "text/plain": [
       "             Age\n",
       "count   9.000000\n",
       "mean   35.000000\n",
       "std     8.291562\n",
       "min    25.000000\n",
       "25%    30.000000\n",
       "50%    35.000000\n",
       "75%    40.000000\n",
       "max    50.000000"
      ]
     },
     "execution_count": 16,
     "metadata": {},
     "output_type": "execute_result"
    }
   ],
   "source": [
    "df.describe()"
   ]
  },
  {
   "cell_type": "code",
   "execution_count": 17,
   "id": "055bd952",
   "metadata": {},
   "outputs": [
    {
     "name": "stdout",
     "output_type": "stream",
     "text": [
      "<class 'pandas.core.frame.DataFrame'>\n",
      "RangeIndex: 9 entries, 0 to 8\n",
      "Data columns (total 3 columns):\n",
      " #   Column  Non-Null Count  Dtype \n",
      "---  ------  --------------  ----- \n",
      " 0   Name    9 non-null      object\n",
      " 1   Age     9 non-null      int64 \n",
      " 2   City    9 non-null      object\n",
      "dtypes: int64(1), object(2)\n",
      "memory usage: 348.0+ bytes\n"
     ]
    }
   ],
   "source": [
    "df.info()"
   ]
  },
  {
   "cell_type": "code",
   "execution_count": 18,
   "id": "dd88b673",
   "metadata": {},
   "outputs": [
    {
     "data": {
      "text/html": [
       "<div>\n",
       "<style scoped>\n",
       "    .dataframe tbody tr th:only-of-type {\n",
       "        vertical-align: middle;\n",
       "    }\n",
       "\n",
       "    .dataframe tbody tr th {\n",
       "        vertical-align: top;\n",
       "    }\n",
       "\n",
       "    .dataframe thead th {\n",
       "        text-align: right;\n",
       "    }\n",
       "</style>\n",
       "<table border=\"1\" class=\"dataframe\">\n",
       "  <thead>\n",
       "    <tr style=\"text-align: right;\">\n",
       "      <th></th>\n",
       "      <th>Name</th>\n",
       "      <th>Age</th>\n",
       "    </tr>\n",
       "    <tr>\n",
       "      <th>City</th>\n",
       "      <th></th>\n",
       "      <th></th>\n",
       "    </tr>\n",
       "  </thead>\n",
       "  <tbody>\n",
       "    <tr>\n",
       "      <th>Chicago</th>\n",
       "      <td>2</td>\n",
       "      <td>2</td>\n",
       "    </tr>\n",
       "    <tr>\n",
       "      <th>Los Angeles</th>\n",
       "      <td>1</td>\n",
       "      <td>1</td>\n",
       "    </tr>\n",
       "    <tr>\n",
       "      <th>New York</th>\n",
       "      <td>4</td>\n",
       "      <td>4</td>\n",
       "    </tr>\n",
       "    <tr>\n",
       "      <th>San Francisco</th>\n",
       "      <td>2</td>\n",
       "      <td>2</td>\n",
       "    </tr>\n",
       "  </tbody>\n",
       "</table>\n",
       "</div>"
      ],
      "text/plain": [
       "               Name  Age\n",
       "City                    \n",
       "Chicago           2    2\n",
       "Los Angeles       1    1\n",
       "New York          4    4\n",
       "San Francisco     2    2"
      ]
     },
     "execution_count": 18,
     "metadata": {},
     "output_type": "execute_result"
    }
   ],
   "source": [
    "df.groupby('City').count()"
   ]
  },
  {
   "cell_type": "code",
   "execution_count": 19,
   "id": "88cbca82",
   "metadata": {},
   "outputs": [
    {
     "data": {
      "text/plain": [
       "Name    object\n",
       "Age      int64\n",
       "City    object\n",
       "dtype: object"
      ]
     },
     "execution_count": 19,
     "metadata": {},
     "output_type": "execute_result"
    }
   ],
   "source": [
    "df.dtypes"
   ]
  },
  {
   "cell_type": "markdown",
   "id": "7f30e377",
   "metadata": {},
   "source": [
    "## 2"
   ]
  },
  {
   "cell_type": "markdown",
   "id": "7250c700",
   "metadata": {},
   "source": [
    "We can re-index a Pandas DataFrame with a new index that starts from 1 and increments by 2 for each row using the `reindex` method along with a custom index array. Here's a Python function to achieve this:"
   ]
  },
  {
   "cell_type": "code",
   "execution_count": 27,
   "id": "b0b2b357",
   "metadata": {},
   "outputs": [
    {
     "name": "stdout",
     "output_type": "stream",
     "text": [
      "Before Reindexing:\n",
      "     A   B   C\n",
      "0  10  40  70\n",
      "1  20  50  80\n",
      "2  30  60  90\n",
      "After Reindexing:\n",
      "       A     B     C\n",
      "1  20.0  50.0  80.0\n",
      "3   NaN   NaN   NaN\n",
      "5   NaN   NaN   NaN\n"
     ]
    }
   ],
   "source": [
    "import pandas as pd\n",
    "\n",
    "def reindex_dataframe(df):\n",
    "    # Create a new index array starting from 1 and incrementing by 2\n",
    "    new_index = range(1, len(df) * 2, 2)\n",
    "    \n",
    "    df = df.reindex(new_index)\n",
    "\n",
    "    return df\n",
    "\n",
    "# Example DataFrame\n",
    "data = {'A': [10, 20, 30],\n",
    "        'B': [40, 50, 60],\n",
    "        'C': [70, 80, 90]}\n",
    "\n",
    "df = pd.DataFrame(data)\n",
    "print(\"Before Reindexing:\\n\",df)\n",
    "\n",
    "# Re-index the DataFrame\n",
    "df = reindex_dataframe(df)\n",
    "\n",
    "# Display the re-indexed DataFrame\n",
    "print(\"After Reindexing:\\n\",df)\n"
   ]
  },
  {
   "cell_type": "markdown",
   "id": "aba94627",
   "metadata": {},
   "source": [
    "In this example:\n",
    "The reindex_dataframe function takes a DataFrame df as input.\n",
    "It generates a new index array starting from 1 and incrementing by 2 using the range function.\n",
    "Then, it reindexes the DataFrame df with the new index using the reindex method.\n",
    "Finally, it returns the re-indexed DataFrame."
   ]
  },
  {
   "cell_type": "markdown",
   "id": "e1b3d295",
   "metadata": {},
   "source": [
    "## 3"
   ]
  },
  {
   "cell_type": "code",
   "execution_count": 28,
   "id": "2e7e02c0",
   "metadata": {},
   "outputs": [
    {
     "name": "stdout",
     "output_type": "stream",
     "text": [
      "The sum of the first three values in the 'Values' column is: 60\n"
     ]
    }
   ],
   "source": [
    "import pandas as pd\n",
    "\n",
    "def calculate_sum_of_first_three_values(df):\n",
    "\n",
    "    # Extract the 'Values' column and calculate the sum of the first three values\n",
    "    values_column = df['Values']\n",
    "    first_three_values_sum = values_column.head(3).sum()\n",
    "\n",
    "    # Print the sum to the console\n",
    "    print(f\"The sum of the first three values in the 'Values' column is: {first_three_values_sum}\")\n",
    "\n",
    "data = {'Values': [10, 20, 30, 40, 50]}\n",
    "df = pd.DataFrame(data)\n",
    "\n",
    "# Call the function to calculate and print the sum of the first three values\n",
    "calculate_sum_of_first_three_values(df)\n"
   ]
  },
  {
   "cell_type": "markdown",
   "id": "cb1b6cf3",
   "metadata": {},
   "source": [
    "The calculate_sum_of_first_three_values function takes a DataFrame df as input.\n",
    "It  extracts the 'Values' column using df['Values'] and calculates the sum of the first three values using .head(3).sum().\n",
    "Finally, it prints the calculated sum to the console."
   ]
  },
  {
   "cell_type": "markdown",
   "id": "dda731a7",
   "metadata": {},
   "source": [
    "## 4"
   ]
  },
  {
   "cell_type": "code",
   "execution_count": 30,
   "id": "469deff9",
   "metadata": {},
   "outputs": [
    {
     "name": "stdout",
     "output_type": "stream",
     "text": [
      "                         Text  Word_Count\n",
      "0  This is a sample sentence.           5\n",
      "1                   Test case           2\n",
      "2               Words count !           3\n"
     ]
    }
   ],
   "source": [
    "import pandas as pd\n",
    "\n",
    "def add_word_count_column(df):\n",
    "\n",
    "    # Count the number of words in each row and create a new 'Word_Count' column\n",
    "    df['Word_Count'] = df['Text'].str.split().apply(len)\n",
    "\n",
    "\n",
    "data = {'Text': ['This is a sample sentence.', 'Test case', 'Words count !']}\n",
    "\n",
    "df = pd.DataFrame(data)\n",
    "\n",
    "# Call the function to add the 'Word_Count' column\n",
    "add_word_count_column(df)\n",
    "\n",
    "# Display the DataFrame with the new 'Word_Count' column\n",
    "print(df)\n"
   ]
  },
  {
   "cell_type": "markdown",
   "id": "46bb7d9c",
   "metadata": {},
   "source": [
    "The add_word_count_column function takes a DataFrame df as input.\n",
    "It uses .str.split().apply(len) to count the number of words in each row of the 'Text' column and creates a new 'Word_Count' column.\n",
    "Finally, it displays the DataFrame with the new 'Word_Count' column."
   ]
  },
  {
   "cell_type": "markdown",
   "id": "749e270f",
   "metadata": {},
   "source": [
    "## 5"
   ]
  },
  {
   "cell_type": "markdown",
   "id": "d6713448",
   "metadata": {},
   "source": [
    "In pandas, `DataFrame.size` and `DataFrame.shape` are attributes that provide information about the dimensions of a DataFrame, but they serve slightly different purposes:\n",
    "\n",
    "1. DataFrame.size:\n",
    "\n",
    "   - `DataFrame.size` returns the total number of elements in the DataFrame, which is equivalent to the product of the number of rows and the number of columns.\n",
    "   - It returns a single integer representing the total size of the DataFrame.\n",
    "\n",
    "\n",
    "2. DataFrame.shape:\n",
    "\n",
    "   - `DataFrame.shape` returns a tuple representing the dimensions of the DataFrame. The tuple contains two values: the number of rows and the number of columns.\n",
    "   - It provides a more detailed view of the DataFrame's structure by separating the row and column counts."
   ]
  },
  {
   "cell_type": "code",
   "execution_count": 34,
   "id": "88e08a09",
   "metadata": {},
   "outputs": [
    {
     "name": "stdout",
     "output_type": "stream",
     "text": [
      "Size: 6\n",
      "Shape: (3, 2)\n"
     ]
    }
   ],
   "source": [
    "import pandas as pd\n",
    "data = {'A': [1, 2, 3], 'B': [4, 5, 6]}\n",
    "df = pd.DataFrame(data)\n",
    "   \n",
    "size = df.size  # Returns 6 (3 rows x 2 columns = 6 elements)\n",
    "print(\"Size:\",size)\n",
    "shape = df.shape\n",
    "print(\"Shape:\",shape)"
   ]
  },
  {
   "cell_type": "markdown",
   "id": "57f54e99",
   "metadata": {},
   "source": [
    "## 6"
   ]
  },
  {
   "cell_type": "markdown",
   "id": "2527a9f9",
   "metadata": {},
   "source": [
    "To read an Excel file in pandas, we can use the `pandas.read_excel()` function. This function is specifically designed to read data from Excel files. Here's how we can use it:\n",
    "\n",
    "\n",
    "import pandas as pd\n",
    "\n",
    "\n",
    "df = pd.read_excel('your_excel_file.xlsx')\n",
    "\n",
    "df"
   ]
  },
  {
   "cell_type": "markdown",
   "id": "2d1e5218",
   "metadata": {},
   "source": [
    "## 7"
   ]
  },
  {
   "cell_type": "code",
   "execution_count": 7,
   "id": "8c8a2888",
   "metadata": {},
   "outputs": [
    {
     "name": "stdout",
     "output_type": "stream",
     "text": [
      "                 Email   Username\n",
      "0  monalisha@gmail.com  monalisha\n",
      "1      xyz@example.com        xyz\n",
      "2      abc@example.com        abc\n"
     ]
    }
   ],
   "source": [
    "import pandas as pd\n",
    "\n",
    "data = {'Email': ['monalisha@gmail.com', 'xyz@example.com', 'abc@example.com']}\n",
    "df = pd.DataFrame(data)\n",
    "\n",
    "\n",
    "def extract_username(df):\n",
    "    df['Username'] = df['Email'].str.split('@').str[0]\n",
    "    return df\n",
    "\n",
    "df = extract_username(df)\n",
    "\n",
    "print(df)\n"
   ]
  },
  {
   "cell_type": "markdown",
   "id": "4d545c8e",
   "metadata": {},
   "source": [
    "## 8"
   ]
  },
  {
   "cell_type": "code",
   "execution_count": 17,
   "id": "0b333f92",
   "metadata": {},
   "outputs": [
    {
     "name": "stdout",
     "output_type": "stream",
     "text": [
      "   A  B  C\n",
      "0  8  2  7\n",
      "1  6  9  4\n",
      "2  9  1  2\n",
      "3  8  2  7\n",
      "4  9  1  2\n"
     ]
    }
   ],
   "source": [
    "import pandas as pd\n",
    "\n",
    "data1={ 'A':[3,8,6,2,9,8,9]\n",
    "      ,'B':[5,2,9,3,1,2,1],\n",
    "      'C':[1,7,4,5,2,7,2]}\n",
    "\n",
    "df=pd.DataFrame(data1)\n",
    "\n",
    "def new_dataframe(df):\n",
    "    df1=df[(df['A'] > 5) & (df['B'] < 10)]\n",
    "    return df1\n",
    "\n",
    "df1=new_dataframe(df).reset_index(drop=True)\n",
    "print(df1)"
   ]
  },
  {
   "cell_type": "markdown",
   "id": "db8010d0",
   "metadata": {},
   "source": [
    "## 9"
   ]
  },
  {
   "cell_type": "code",
   "execution_count": 26,
   "id": "0c9c7146",
   "metadata": {},
   "outputs": [
    {
     "name": "stdout",
     "output_type": "stream",
     "text": [
      "Mean: 20.0\n",
      "Median: 20.0\n",
      "Standard Deviation: 10.0\n"
     ]
    }
   ],
   "source": [
    "import pandas as pd\n",
    "\n",
    "data={'Values':[10,20,30,30,10]}\n",
    "df=pd.DataFrame(data)\n",
    "\n",
    "def calculate(df):\n",
    "    mean=df['Values'].mean()\n",
    "    median=df['Values'].median()\n",
    "    standard_deviation=df['Values'].std()\n",
    "    return mean,median,standard_deviation\n",
    "mean, median, std=calculate(df)\n",
    "print(f\"Mean: {mean}\")\n",
    "print(f\"Median: {median}\")\n",
    "print(f\"Standard Deviation: {std}\")"
   ]
  },
  {
   "cell_type": "markdown",
   "id": "bfe349ed",
   "metadata": {},
   "source": [
    "## 10"
   ]
  },
  {
   "cell_type": "code",
   "execution_count": 32,
   "id": "6e908f66",
   "metadata": {},
   "outputs": [
    {
     "name": "stdout",
     "output_type": "stream",
     "text": [
      "        Date  Sales  MovingAverage\n",
      "0 2023-09-01    100     100.000000\n",
      "1 2023-09-02    120     110.000000\n",
      "2 2023-09-03    130     116.666667\n",
      "3 2023-09-04    140     122.500000\n",
      "4 2023-09-05    150     128.000000\n",
      "5 2023-09-06    160     133.333333\n",
      "6 2023-09-07    170     138.571429\n",
      "7 2023-09-08    180     150.000000\n",
      "8 2023-09-09    190     160.000000\n",
      "9 2023-09-10    200     170.000000\n"
     ]
    }
   ],
   "source": [
    "import pandas as pd\n",
    "\n",
    "\n",
    "data = {'Date': pd.date_range(start='2023-09-01', periods=10, freq='D'),\n",
    "        'Sales': [100, 120, 130, 140, 150, 160, 170, 180, 190, 200]}\n",
    "\n",
    "df = pd.DataFrame(data)\n",
    "\n",
    "def calculate_moving_average(df, window_size=7):\n",
    "    df = df.sort_values(by='Date')\n",
    "    df['MovingAverage'] = df['Sales'].rolling(window=window_size, min_periods=1).mean()  \n",
    "    #min_periods=1 to include the current day even if there are fewer than 7 days of data.\n",
    "    \n",
    "    return df\n",
    "\n",
    "df = calculate_moving_average(df)\n",
    "\n",
    "\n",
    "print(df)\n"
   ]
  },
  {
   "cell_type": "markdown",
   "id": "229c7f8b",
   "metadata": {},
   "source": [
    "## 11"
   ]
  },
  {
   "cell_type": "code",
   "execution_count": 33,
   "id": "813933ad",
   "metadata": {},
   "outputs": [
    {
     "name": "stdout",
     "output_type": "stream",
     "text": [
      "        Date    Weekday\n",
      "0 2023-01-01     Sunday\n",
      "1 2023-01-02     Monday\n",
      "2 2023-01-03    Tuesday\n",
      "3 2023-01-04  Wednesday\n",
      "4 2023-01-05   Thursday\n"
     ]
    }
   ],
   "source": [
    "import pandas as pd\n",
    "\n",
    "\n",
    "data = {'Date': pd.to_datetime(['2023-01-01', '2023-01-02', '2023-01-03', '2023-01-04', '2023-01-05'])}\n",
    "df = pd.DataFrame(data)\n",
    "\n",
    "def add_weekday_column(df):\n",
    "    \n",
    "    df['Date'] = pd.to_datetime(df['Date'])\n",
    "    df['Weekday'] = df['Date'].dt.strftime('%A')\n",
    "    \n",
    "    return df\n",
    "\n",
    "df = add_weekday_column(df)\n",
    "\n",
    "\n",
    "print(df)\n"
   ]
  },
  {
   "cell_type": "markdown",
   "id": "946c3d8b",
   "metadata": {},
   "source": [
    "## 12"
   ]
  },
  {
   "cell_type": "code",
   "execution_count": 35,
   "id": "c49e738f",
   "metadata": {},
   "outputs": [
    {
     "name": "stdout",
     "output_type": "stream",
     "text": [
      "        Date\n",
      "0 2023-01-03\n",
      "3 2023-01-04\n",
      "4 2023-01-09\n",
      "5 2023-01-01\n",
      "6 2023-01-07\n",
      "7 2023-01-18\n",
      "8 2023-01-13\n",
      "9 2023-01-11\n"
     ]
    }
   ],
   "source": [
    "import pandas as pd\n",
    "\n",
    "data = {'Date': ['2023-01-03','2023-03-03','2023-04-08','2023-01-04','2023-01-09','2023-01-01','2023-01-07','2023-01-18','2023-01-13','2023-01-11',]}\n",
    "\n",
    "df = pd.DataFrame(data)\n",
    "\n",
    "def select_rows_between_dates(df, start_date, end_date):\n",
    "\n",
    "    df['Date'] = pd.to_datetime(df['Date'])\n",
    "    \n",
    "    \n",
    "    selected_rows = df[(df['Date'] >= start_date) & (df['Date'] <= end_date)]\n",
    "    \n",
    "    return selected_rows\n",
    "\n",
    "\n",
    "start_date = pd.to_datetime('2023-01-01')\n",
    "end_date = pd.to_datetime('2023-01-31')\n",
    "selected_df = select_rows_between_dates(df, start_date, end_date)\n",
    "\n",
    "print(selected_df)\n"
   ]
  },
  {
   "cell_type": "markdown",
   "id": "099bd9c3",
   "metadata": {},
   "source": [
    "## 13"
   ]
  },
  {
   "cell_type": "markdown",
   "id": "f8bfe039",
   "metadata": {},
   "source": [
    "To use the basic functions of pandas in Python, we need to import the pandas library. \n",
    "\n",
    "import pandas as pd"
   ]
  }
 ],
 "metadata": {
  "kernelspec": {
   "display_name": "Python 3 (ipykernel)",
   "language": "python",
   "name": "python3"
  },
  "language_info": {
   "codemirror_mode": {
    "name": "ipython",
    "version": 3
   },
   "file_extension": ".py",
   "mimetype": "text/x-python",
   "name": "python",
   "nbconvert_exporter": "python",
   "pygments_lexer": "ipython3",
   "version": "3.11.3"
  }
 },
 "nbformat": 4,
 "nbformat_minor": 5
}
