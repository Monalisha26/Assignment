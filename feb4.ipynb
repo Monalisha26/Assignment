{
 "cells": [
  {
   "cell_type": "markdown",
   "id": "12f52ba2-82e1-4f46-91f5-fad5f5afcd96",
   "metadata": {},
   "source": [
    "## 1"
   ]
  },
  {
   "cell_type": "code",
   "execution_count": 1,
   "id": "95032b7c-9ef5-4121-870d-12e165b158a7",
   "metadata": {},
   "outputs": [
    {
     "data": {
      "text/plain": [
       "[('Virat Kohli', 24936),\n",
       " ('Jack Kallis', 25534),\n",
       " ('Ricky Ponting', 27483),\n",
       " ('Sachin Tendulkar', 34357)]"
      ]
     },
     "execution_count": 1,
     "metadata": {},
     "output_type": "execute_result"
    }
   ],
   "source": [
    "l=[('Sachin Tendulkar', 34357), ('Ricky Ponting', 27483), ('Jack Kallis', 25534), ('Virat Kohli', 24936)]\n",
    "l.sort(key=lambda i:i[1])\n",
    "l"
   ]
  },
  {
   "cell_type": "markdown",
   "id": "983cd129-b199-4617-be72-48bb2b3a7dd6",
   "metadata": {},
   "source": [
    "## 2"
   ]
  },
  {
   "cell_type": "code",
   "execution_count": 2,
   "id": "a81b16fa-c1b0-4064-87d0-d90e8947f975",
   "metadata": {},
   "outputs": [
    {
     "data": {
      "text/plain": [
       "[1, 4, 9, 16, 25, 36, 49, 64, 81, 100]"
      ]
     },
     "execution_count": 2,
     "metadata": {},
     "output_type": "execute_result"
    }
   ],
   "source": [
    "l1=[1, 2, 3, 4, 5, 6, 7, 8, 9, 10]\n",
    "l2=list(map(lambda x:x**2,l1))\n",
    "l2"
   ]
  },
  {
   "cell_type": "markdown",
   "id": "33061fea-96f4-4e4f-9a4a-fa7d00a0aa53",
   "metadata": {},
   "source": [
    "## 3"
   ]
  },
  {
   "cell_type": "code",
   "execution_count": 3,
   "id": "cd99ee27-2338-4bb0-a1cc-29301aad52cd",
   "metadata": {},
   "outputs": [
    {
     "data": {
      "text/plain": [
       "('1', '2', '3', '4', '5', '6', '7', '8', '9', '10')"
      ]
     },
     "execution_count": 3,
     "metadata": {},
     "output_type": "execute_result"
    }
   ],
   "source": [
    "l2=[1, 2, 3, 4, 5, 6, 7, 8, 9, 10]\n",
    "t1=tuple(map(lambda x: str(x),l2))\n",
    "t1"
   ]
  },
  {
   "cell_type": "markdown",
   "id": "2a55d962-82ed-4b70-b1ee-64ae74e93c56",
   "metadata": {},
   "source": [
    "## 4"
   ]
  },
  {
   "cell_type": "code",
   "execution_count": 4,
   "id": "d9b02b2a-1589-435e-91a1-7695138a818d",
   "metadata": {},
   "outputs": [
    {
     "data": {
      "text/plain": [
       "15511210043330985984000000"
      ]
     },
     "execution_count": 4,
     "metadata": {},
     "output_type": "execute_result"
    }
   ],
   "source": [
    "import functools\n",
    "l1=[ x for x in range(1,26)]\n",
    "l2= functools.reduce(lambda x,y:x*y,l1)\n",
    "l2"
   ]
  },
  {
   "cell_type": "markdown",
   "id": "6c1d6a23-f6dd-4b31-afb8-c58e3f4c9ee1",
   "metadata": {},
   "source": [
    "## 5"
   ]
  },
  {
   "cell_type": "code",
   "execution_count": 5,
   "id": "7c80e117-ccb5-48a6-9fcf-8d36b43fa17e",
   "metadata": {},
   "outputs": [
    {
     "data": {
      "text/plain": [
       "[2, 6, 60, 90, 120, 46]"
      ]
     },
     "execution_count": 5,
     "metadata": {},
     "output_type": "execute_result"
    }
   ],
   "source": [
    "l1=[2, 3, 6, 9, 27, 60, 90, 120, 55, 46]\n",
    "l2= list(filter( lambda x:x%2==0 & x%3==0,l1))\n",
    "l2"
   ]
  },
  {
   "cell_type": "markdown",
   "id": "bcc4784c-8c17-4d2d-8b47-04b5ed0c59a5",
   "metadata": {},
   "source": [
    "## 6"
   ]
  },
  {
   "cell_type": "code",
   "execution_count": 6,
   "id": "da607c09-bba2-4eb3-9bae-7381ec0542dd",
   "metadata": {},
   "outputs": [
    {
     "data": {
      "text/plain": [
       "['php', 'aba', 'radar', 'level']"
      ]
     },
     "execution_count": 6,
     "metadata": {},
     "output_type": "execute_result"
    }
   ],
   "source": [
    "l1= ['python', 'php', 'aba', 'radar', 'level']\n",
    "l2=list(filter(lambda x:x==x[::-1],l1))\n",
    "l2"
   ]
  },
  {
   "cell_type": "code",
   "execution_count": null,
   "id": "bdec2af3-c579-4269-a969-2c38d7e8342a",
   "metadata": {},
   "outputs": [],
   "source": []
  }
 ],
 "metadata": {
  "kernelspec": {
   "display_name": "Python 3 (ipykernel)",
   "language": "python",
   "name": "python3"
  },
  "language_info": {
   "codemirror_mode": {
    "name": "ipython",
    "version": 3
   },
   "file_extension": ".py",
   "mimetype": "text/x-python",
   "name": "python",
   "nbconvert_exporter": "python",
   "pygments_lexer": "ipython3",
   "version": "3.10.8"
  }
 },
 "nbformat": 4,
 "nbformat_minor": 5
}
