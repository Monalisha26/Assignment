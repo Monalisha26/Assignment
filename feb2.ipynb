{
 "cells": [
  {
   "cell_type": "markdown",
   "id": "f9c4277e-4ecc-45c7-8b61-79eab59727db",
   "metadata": {},
   "source": [
    "## 1"
   ]
  },
  {
   "cell_type": "code",
   "execution_count": 1,
   "id": "243b4f5b-4f91-45cf-96cd-905d512019bd",
   "metadata": {},
   "outputs": [
    {
     "name": "stdout",
     "output_type": "stream",
     "text": [
      "1\n",
      "2\n",
      "3\n",
      "4\n"
     ]
    }
   ],
   "source": [
    "#1.For loop is used when number of iterations is known and while loop is used when no of iterations is unknown\n",
    "l1=[1,2,3,4]\n",
    "for i in l1:\n",
    "    print(i) #here we know that the loop will run for 4 times (i.e-the length of the list)"
   ]
  },
  {
   "cell_type": "code",
   "execution_count": 2,
   "id": "db20e6d5-b82c-427c-abde-527b9a15bdc6",
   "metadata": {},
   "outputs": [
    {
     "name": "stdout",
     "output_type": "stream",
     "text": [
      "10\n",
      "9\n",
      "8\n",
      "7\n",
      "6\n",
      "5\n",
      "4\n",
      "3\n",
      "2\n"
     ]
    }
   ],
   "source": [
    "i=10\n",
    "while i!=1:\n",
    "    print(i)\n",
    "    i=i-1  #here no of iterations is unknown,loop will keep on running until i is not equal to 1"
   ]
  },
  {
   "cell_type": "markdown",
   "id": "ac508e3a-fc95-43b0-8839-5002221dc699",
   "metadata": {},
   "source": [
    "## 2"
   ]
  },
  {
   "cell_type": "code",
   "execution_count": 3,
   "id": "bc010ded-4d9a-4c7d-8b55-8271961e4ad4",
   "metadata": {},
   "outputs": [
    {
     "name": "stdout",
     "output_type": "stream",
     "text": [
      "55\n"
     ]
    }
   ],
   "source": [
    "#For loop\n",
    "s1=0\n",
    "for i in range(1,11):\n",
    "    s1=s1+i\n",
    "print(s1)"
   ]
  },
  {
   "cell_type": "code",
   "execution_count": 4,
   "id": "56919691-adbc-4a0f-8b2c-b37b204f992f",
   "metadata": {},
   "outputs": [
    {
     "name": "stdout",
     "output_type": "stream",
     "text": [
      "55\n"
     ]
    }
   ],
   "source": [
    "#while loop\n",
    "s2=0\n",
    "i=1\n",
    "while i!=11:\n",
    "    s2=s2+i\n",
    "    i=i+1\n",
    "print(s2)"
   ]
  },
  {
   "cell_type": "markdown",
   "id": "2961a7cb-27e7-4327-a2f7-477506c87cad",
   "metadata": {},
   "source": [
    "## 3"
   ]
  },
  {
   "cell_type": "code",
   "execution_count": 5,
   "id": "0d6754d0-9ac2-43fc-85e3-819727f15787",
   "metadata": {},
   "outputs": [
    {
     "name": "stdout",
     "output_type": "stream",
     "text": [
      "2250.0\n"
     ]
    }
   ],
   "source": [
    "elec_units=310\n",
    "cost=0\n",
    "if elec_units<=100:\n",
    "    cost=elec_units*4.5\n",
    "elif elec_units<=200:\n",
    "    cost=100*4.5+(elec_units-100)*6\n",
    "elif elec_units<=300:\n",
    "    cost=100*4.5+100*6+(elec_units-200)*10\n",
    "else:\n",
    "    cost=100*4.5+100*6+100*10+(elec_units-300)*20\n",
    "print(cost)"
   ]
  },
  {
   "cell_type": "markdown",
   "id": "9df353b2-635d-4085-be06-14ff457053ff",
   "metadata": {},
   "source": [
    "## 4"
   ]
  },
  {
   "cell_type": "code",
   "execution_count": 7,
   "id": "6868343f-5f11-4380-acf1-360760cd064d",
   "metadata": {},
   "outputs": [
    {
     "name": "stdout",
     "output_type": "stream",
     "text": [
      "[1, 2, 3, 4, 5, 6, 7, 8, 9, 10, 11, 12, 13, 14, 15, 16, 17, 18, 19, 20, 21, 22, 23, 24, 25, 26, 27, 28, 29, 30, 31, 32, 33, 34, 35, 36, 37, 38, 39, 40, 41, 42, 43, 44, 45, 46, 47, 48, 49, 50, 51, 52, 53, 54, 55, 56, 57, 58, 59, 60, 61, 62, 63, 64, 65, 66, 67, 68, 69, 70, 71, 72, 73, 74, 75, 76, 77, 78, 79, 80, 81, 82, 83, 84, 85, 86, 87, 88, 89, 90, 91, 92, 93, 94, 95, 96, 97, 98, 99, 100]\n"
     ]
    }
   ],
   "source": [
    "l2=[]\n",
    "for i in range(1,101):\n",
    "    l2.append(i)\n",
    "print(l2)"
   ]
  },
  {
   "cell_type": "code",
   "execution_count": 8,
   "id": "207b97e7-fb13-469b-9c42-66e1736bb9bb",
   "metadata": {},
   "outputs": [
    {
     "name": "stdout",
     "output_type": "stream",
     "text": [
      "[0, 2, 4, 5, 6, 8, 10, 12, 14, 15, 16, 18, 20, 22, 24, 25, 26, 28, 30, 32, 34, 35, 36, 38, 40, 42, 44, 45, 46, 48, 50, 52, 54, 55, 56, 58, 60, 62, 64, 65, 66, 68, 70, 72, 74, 75, 76, 78, 80, 82, 84, 85, 86, 88, 90, 92, 94, 95, 96, 98]\n"
     ]
    }
   ],
   "source": [
    "l3=[]\n",
    "i=0\n",
    "while i<len(l2):\n",
    "    if(((i**3)%4==0)or((i**3)%5==0)):\n",
    "        l3.append(i)\n",
    "    i=i+1\n",
    "print(l3)"
   ]
  },
  {
   "cell_type": "markdown",
   "id": "eac680d0-f31b-4914-932a-4f61697f887a",
   "metadata": {},
   "source": [
    "## 5"
   ]
  },
  {
   "cell_type": "code",
   "execution_count": 9,
   "id": "1cccef04-4d46-412e-a890-19dbf5f7c942",
   "metadata": {},
   "outputs": [
    {
     "name": "stdout",
     "output_type": "stream",
     "text": [
      "12\n"
     ]
    }
   ],
   "source": [
    "string = \"I want to become a data scientist\"\n",
    "count=0\n",
    "for i in string:\n",
    "    if((i=='a')or (i=='e')or (i=='o') or (i=='u') or (i=='i')or(i=='A') or (i=='E') or (i=='I') or (i=='U')or(i=='O')):\n",
    "        count=count+1\n",
    "print(count)"
   ]
  },
  {
   "cell_type": "code",
   "execution_count": null,
   "id": "0ec81286-7ea8-4887-b957-f703315c7291",
   "metadata": {},
   "outputs": [],
   "source": []
  },
  {
   "cell_type": "code",
   "execution_count": null,
   "id": "8c6d7968-f371-490b-afc0-ba8ff1314c18",
   "metadata": {},
   "outputs": [],
   "source": []
  }
 ],
 "metadata": {
  "kernelspec": {
   "display_name": "Python 3 (ipykernel)",
   "language": "python",
   "name": "python3"
  },
  "language_info": {
   "codemirror_mode": {
    "name": "ipython",
    "version": 3
   },
   "file_extension": ".py",
   "mimetype": "text/x-python",
   "name": "python",
   "nbconvert_exporter": "python",
   "pygments_lexer": "ipython3",
   "version": "3.10.8"
  }
 },
 "nbformat": 4,
 "nbformat_minor": 5
}
