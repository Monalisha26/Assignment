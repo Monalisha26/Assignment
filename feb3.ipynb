{
 "cells": [
  {
   "cell_type": "markdown",
   "id": "fd55da31-cebe-4cb3-8ab7-544a0dc1c86d",
   "metadata": {},
   "source": [
    "## 1"
   ]
  },
  {
   "cell_type": "code",
   "execution_count": 1,
   "id": "da542fbc-862d-4c83-adda-48b9cd780ccf",
   "metadata": {},
   "outputs": [
    {
     "data": {
      "text/plain": [
       "[1, 3, 5, 7, 9, 11, 13, 15, 17, 19, 21, 23, 25]"
      ]
     },
     "execution_count": 1,
     "metadata": {},
     "output_type": "execute_result"
    }
   ],
   "source": [
    "#def keyword is used to create a function\n",
    "l1=[]\n",
    "for i in range(1,26):\n",
    "    if i%2!=0:\n",
    "        l1.append(i)\n",
    "l1"
   ]
  },
  {
   "cell_type": "markdown",
   "id": "e1c72962-8a69-48d2-9192-d8f5e2cc3ea4",
   "metadata": {},
   "source": [
    "## 2"
   ]
  },
  {
   "cell_type": "code",
   "execution_count": 2,
   "id": "47cbeb59-f52c-452a-a746-f4aff3dd6845",
   "metadata": {},
   "outputs": [],
   "source": [
    "'''*args and **kwargs are used as argument in some function when we are unsure about the \n",
    "number of arguments to pass in the function.'''\n",
    "def sum(*args):\n",
    "    s=0\n",
    "    for i in args:\n",
    "        s=s+i\n",
    "    print(\"sum:\", s)\n"
   ]
  },
  {
   "cell_type": "code",
   "execution_count": 3,
   "id": "b6905d25-cc85-4f7c-9cf5-5c61c2d43a4a",
   "metadata": {},
   "outputs": [
    {
     "name": "stdout",
     "output_type": "stream",
     "text": [
      "sum: 9\n",
      "sum: 17\n",
      "sum: 16\n"
     ]
    },
    {
     "data": {
      "text/plain": [
       "'here we are unaware of how many numbers needs to be added so we can pass *args to take any no of arguments\\n *args allows us to pass  variable number of non keyword arguments to function'"
      ]
     },
     "execution_count": 3,
     "metadata": {},
     "output_type": "execute_result"
    }
   ],
   "source": [
    "sum(4,5)\n",
    "sum(4,7,6)\n",
    "sum(2,8,5,1)\n",
    "'''here we are unaware of how many numbers needs to be added so we can pass *args to take any no of arguments\n",
    " *args allows us to pass  variable number of non keyword arguments to function'''"
   ]
  },
  {
   "cell_type": "code",
   "execution_count": 4,
   "id": "330743bb-19cb-4245-a558-5c0623c9fc18",
   "metadata": {},
   "outputs": [],
   "source": [
    "def totalcost(**kwargs):\n",
    "    s=0\n",
    "    for i in kwargs.values():\n",
    "        s=s+i\n",
    "    print(\"Total cost of items is:\",s)"
   ]
  },
  {
   "cell_type": "code",
   "execution_count": 5,
   "id": "bbbbe1b7-625f-49d4-bb46-735ce661a344",
   "metadata": {},
   "outputs": [
    {
     "name": "stdout",
     "output_type": "stream",
     "text": [
      "Total cost of items is: 580\n",
      "Total cost of items is: 140\n"
     ]
    },
    {
     "data": {
      "text/plain": [
       "'Here we are unaware of how many items will be bought and their price,since it is a dictionary we are using **kwards to pass\\nkeyword arguments.**kwargs allows us to pass variable length of keyword arguments to function'"
      ]
     },
     "execution_count": 5,
     "metadata": {},
     "output_type": "execute_result"
    }
   ],
   "source": [
    "totalcost(butter=40,cake=500,sugar=40)\n",
    "totalcost(X=10,Y=30,Z=80,M=20)\n",
    "'''Here we are unaware of how many items will be bought and their price,since it is a dictionary we are using **kwards to pass\n",
    "keyword arguments.**kwargs allows us to pass variable length of keyword arguments to function'''"
   ]
  },
  {
   "cell_type": "code",
   "execution_count": 6,
   "id": "aa4e44a9-bd76-4a7d-a87a-7264704b4095",
   "metadata": {},
   "outputs": [],
   "source": [
    "def itemsbought(**things):\n",
    "    s=''\n",
    "    for i in things.keys():\n",
    "        s=s+' '+i\n",
    "    print(\"items bought are:\",s)"
   ]
  },
  {
   "cell_type": "code",
   "execution_count": 7,
   "id": "e4998757-4271-46a0-894f-881f465f2e91",
   "metadata": {},
   "outputs": [
    {
     "name": "stdout",
     "output_type": "stream",
     "text": [
      "items bought are:  butter cake sugar\n",
      "items bought are:  X Y Z M\n"
     ]
    },
    {
     "data": {
      "text/plain": [
       "\"Here we can see we can put any other name also in place of kwargs to pass keyword agrumens what matters is '**' in the beginning of the name\\nAlso here we have accessed dictionary keys using kwargs\""
      ]
     },
     "execution_count": 7,
     "metadata": {},
     "output_type": "execute_result"
    }
   ],
   "source": [
    "itemsbought(butter=40,cake=500,sugar=40)\n",
    "itemsbought(X=10,Y=30,Z=80,M=20)\n",
    "'''Here we can see we can put any other name also in place of kwargs to pass keyword agrumens what matters is '**' in the beginning of the name\n",
    "Also here we have accessed dictionary keys using kwargs'''"
   ]
  },
  {
   "cell_type": "markdown",
   "id": "1f712073-04ff-4076-9a89-c286ec72d1a3",
   "metadata": {},
   "source": [
    "## 3"
   ]
  },
  {
   "cell_type": "code",
   "execution_count": 8,
   "id": "a69d3405-5f52-4837-ad8e-f5fccd7c5dd6",
   "metadata": {},
   "outputs": [
    {
     "name": "stdout",
     "output_type": "stream",
     "text": [
      "2\n",
      "4\n",
      "6\n",
      "8\n",
      "10\n"
     ]
    }
   ],
   "source": [
    "#Iterator in Python is an object that is used to iterate over iterable objects like lists, tuples, dicts, and sets. \n",
    "#iter() method is used to initialise the iterator object and next() method is used for iteration.\n",
    "l1=[2, 4, 6, 8, 10, 12, 14,16, 18, 20]\n",
    "l=iter(l1)\n",
    "for i in range(5):\n",
    "    print(next(l))"
   ]
  },
  {
   "cell_type": "markdown",
   "id": "3332d31a-6136-48a3-87c9-6211770fe8a5",
   "metadata": {},
   "source": [
    "## 4"
   ]
  },
  {
   "cell_type": "code",
   "execution_count": 9,
   "id": "80e0e07d-2918-45b9-9dda-75b2666b97f1",
   "metadata": {},
   "outputs": [
    {
     "name": "stdout",
     "output_type": "stream",
     "text": [
      "<generator object even at 0x7f24cee5d9a0>\n",
      "2\n",
      "4\n"
     ]
    }
   ],
   "source": [
    "'''In Python, a generator is a function that returns an iterator that produces a sequence of values when iterated over.\n",
    "The yield keyword is used to produce a value from the generator \n",
    "and pause the generator function's execution until the next value is requested.'''\n",
    "def even(n):\n",
    "    for i in range(1,n):\n",
    "        if(i%2==0):\n",
    "            yield i\n",
    "x=even(5)\n",
    "print(x)\n",
    "print(next(x))\n",
    "print(next(x)) \n",
    "#here generator functions returns even numbers from 1 to 5,here yeild gives the req values and pauses \n",
    "#the generator function's execution until we are requested next value"
   ]
  },
  {
   "cell_type": "markdown",
   "id": "208aeb21-68ac-4efe-887c-d42992215514",
   "metadata": {},
   "source": [
    "## 5"
   ]
  },
  {
   "cell_type": "code",
   "execution_count": 10,
   "id": "c3ee5942-9647-4b0e-9f89-2313595cbca4",
   "metadata": {},
   "outputs": [],
   "source": [
    "def prime(n):\n",
    "    i = 2\n",
    "    while i < n :\n",
    "        flag=1\n",
    "        for j in range(2, i):\n",
    "            if i%j == 0:\n",
    "                flag=0\n",
    "                break\n",
    "        if (flag==1):    \n",
    "            yield i\n",
    "        i += 1 \n",
    "    "
   ]
  },
  {
   "cell_type": "code",
   "execution_count": 11,
   "id": "db809f81-276f-449f-a6f6-89ef4240b1b9",
   "metadata": {},
   "outputs": [
    {
     "name": "stdout",
     "output_type": "stream",
     "text": [
      "2\n",
      "3\n",
      "5\n",
      "7\n",
      "11\n",
      "13\n",
      "17\n",
      "19\n",
      "23\n",
      "29\n",
      "31\n",
      "37\n",
      "41\n",
      "43\n",
      "47\n",
      "53\n",
      "59\n",
      "61\n",
      "67\n",
      "71\n"
     ]
    }
   ],
   "source": [
    "p=prime(999)\n",
    "for i in range(20):\n",
    "    print(next(p))"
   ]
  },
  {
   "cell_type": "markdown",
   "id": "f26a1bf4-e184-44cd-9142-638eebe038aa",
   "metadata": {},
   "source": [
    "## 6"
   ]
  },
  {
   "cell_type": "code",
   "execution_count": 12,
   "id": "8a84edfb-2486-468b-b214-4c084c9e510c",
   "metadata": {},
   "outputs": [
    {
     "name": "stdout",
     "output_type": "stream",
     "text": [
      "0\n",
      "1\n",
      "1\n",
      "2\n",
      "3\n",
      "5\n",
      "8\n",
      "13\n",
      "21\n",
      "34\n"
     ]
    }
   ],
   "source": [
    "a,b=0,1\n",
    "n=10\n",
    "i=0\n",
    "\n",
    "while i<n:\n",
    "    print(a)\n",
    "    c=a+b\n",
    "    a=b\n",
    "    b=c\n",
    "    i=i+1"
   ]
  },
  {
   "cell_type": "markdown",
   "id": "0a16d364-7482-415d-aedd-ed7804520c5e",
   "metadata": {},
   "source": [
    "## 7"
   ]
  },
  {
   "cell_type": "code",
   "execution_count": 13,
   "id": "c3f1eee7-a4e1-4b54-9578-c1d02426b283",
   "metadata": {},
   "outputs": [
    {
     "data": {
      "text/plain": [
       "['p', 'w', 's', 'k', 'i', 'l', 'l', 's']"
      ]
     },
     "execution_count": 13,
     "metadata": {},
     "output_type": "execute_result"
    }
   ],
   "source": [
    "x='pwskills'\n",
    "l2=[i for i in x]\n",
    "l2"
   ]
  },
  {
   "cell_type": "markdown",
   "id": "d0cc8937-49bc-4256-a161-402a276f343a",
   "metadata": {},
   "source": [
    "## 8"
   ]
  },
  {
   "cell_type": "code",
   "execution_count": 14,
   "id": "ad400127-5354-46e1-b8da-a1474e0952fb",
   "metadata": {},
   "outputs": [],
   "source": [
    "def palindrome(n):\n",
    "    opp=0\n",
    "    x=n\n",
    "    while(x>0):\n",
    "        rem=int(x%10)\n",
    "        opp=opp*10+rem\n",
    "        x= int(x/10)\n",
    "    if(opp==n):\n",
    "        print(\"Yes \",n,\" is a palindrome\")\n",
    "    else:\n",
    "        print(\"No \",n,\" is not a palindrome\")"
   ]
  },
  {
   "cell_type": "code",
   "execution_count": 15,
   "id": "22f34075-0cc9-406b-bb1c-dc3d17b9a3bb",
   "metadata": {},
   "outputs": [
    {
     "name": "stdout",
     "output_type": "stream",
     "text": [
      "Yes  1221  is a palindrome\n",
      "No  456  is not a palindrome\n",
      "Yes  67899876  is a palindrome\n",
      "No  79096  is not a palindrome\n"
     ]
    }
   ],
   "source": [
    "palindrome(1221)\n",
    "palindrome(456)\n",
    "palindrome(67899876)\n",
    "palindrome(79096)"
   ]
  },
  {
   "cell_type": "markdown",
   "id": "ceb511e7-2c00-4897-bb73-1088a9820d40",
   "metadata": {},
   "source": [
    "## 9"
   ]
  },
  {
   "cell_type": "code",
   "execution_count": 16,
   "id": "989848fb-dc6f-49a3-a47e-1df1af96089f",
   "metadata": {},
   "outputs": [
    {
     "data": {
      "text/plain": [
       "[1,\n",
       " 2,\n",
       " 3,\n",
       " 4,\n",
       " 5,\n",
       " 6,\n",
       " 7,\n",
       " 8,\n",
       " 9,\n",
       " 10,\n",
       " 11,\n",
       " 12,\n",
       " 13,\n",
       " 14,\n",
       " 15,\n",
       " 16,\n",
       " 17,\n",
       " 18,\n",
       " 19,\n",
       " 20,\n",
       " 21,\n",
       " 22,\n",
       " 23,\n",
       " 24,\n",
       " 25,\n",
       " 26,\n",
       " 27,\n",
       " 28,\n",
       " 29,\n",
       " 30,\n",
       " 31,\n",
       " 32,\n",
       " 33,\n",
       " 34,\n",
       " 35,\n",
       " 36,\n",
       " 37,\n",
       " 38,\n",
       " 39,\n",
       " 40,\n",
       " 41,\n",
       " 42,\n",
       " 43,\n",
       " 44,\n",
       " 45,\n",
       " 46,\n",
       " 47,\n",
       " 48,\n",
       " 49,\n",
       " 50,\n",
       " 51,\n",
       " 52,\n",
       " 53,\n",
       " 54,\n",
       " 55,\n",
       " 56,\n",
       " 57,\n",
       " 58,\n",
       " 59,\n",
       " 60,\n",
       " 61,\n",
       " 62,\n",
       " 63,\n",
       " 64,\n",
       " 65,\n",
       " 66,\n",
       " 67,\n",
       " 68,\n",
       " 69,\n",
       " 70,\n",
       " 71,\n",
       " 72,\n",
       " 73,\n",
       " 74,\n",
       " 75,\n",
       " 76,\n",
       " 77,\n",
       " 78,\n",
       " 79,\n",
       " 80,\n",
       " 81,\n",
       " 82,\n",
       " 83,\n",
       " 84,\n",
       " 85,\n",
       " 86,\n",
       " 87,\n",
       " 88,\n",
       " 89,\n",
       " 90,\n",
       " 91,\n",
       " 92,\n",
       " 93,\n",
       " 94,\n",
       " 95,\n",
       " 96,\n",
       " 97,\n",
       " 98,\n",
       " 99,\n",
       " 100]"
      ]
     },
     "execution_count": 16,
     "metadata": {},
     "output_type": "execute_result"
    }
   ],
   "source": [
    "l1=[i for i in range(1,101)]\n",
    "l1"
   ]
  },
  {
   "cell_type": "code",
   "execution_count": 17,
   "id": "bacd4482-c57b-4f7b-8cb8-d2dd93bdccc5",
   "metadata": {},
   "outputs": [
    {
     "data": {
      "text/plain": [
       "[1,\n",
       " 3,\n",
       " 5,\n",
       " 7,\n",
       " 9,\n",
       " 11,\n",
       " 13,\n",
       " 15,\n",
       " 17,\n",
       " 19,\n",
       " 21,\n",
       " 23,\n",
       " 25,\n",
       " 27,\n",
       " 29,\n",
       " 31,\n",
       " 33,\n",
       " 35,\n",
       " 37,\n",
       " 39,\n",
       " 41,\n",
       " 43,\n",
       " 45,\n",
       " 47,\n",
       " 49,\n",
       " 51,\n",
       " 53,\n",
       " 55,\n",
       " 57,\n",
       " 59,\n",
       " 61,\n",
       " 63,\n",
       " 65,\n",
       " 67,\n",
       " 69,\n",
       " 71,\n",
       " 73,\n",
       " 75,\n",
       " 77,\n",
       " 79,\n",
       " 81,\n",
       " 83,\n",
       " 85,\n",
       " 87,\n",
       " 89,\n",
       " 91,\n",
       " 93,\n",
       " 95,\n",
       " 97,\n",
       " 99]"
      ]
     },
     "execution_count": 17,
     "metadata": {},
     "output_type": "execute_result"
    }
   ],
   "source": [
    "l2=[i for i in l1 if i%2!=0]\n",
    "l2"
   ]
  },
  {
   "cell_type": "code",
   "execution_count": null,
   "id": "bbfaeb5b-4306-43c3-84e5-0cfff348579c",
   "metadata": {},
   "outputs": [],
   "source": []
  }
 ],
 "metadata": {
  "kernelspec": {
   "display_name": "Python 3 (ipykernel)",
   "language": "python",
   "name": "python3"
  },
  "language_info": {
   "codemirror_mode": {
    "name": "ipython",
    "version": 3
   },
   "file_extension": ".py",
   "mimetype": "text/x-python",
   "name": "python",
   "nbconvert_exporter": "python",
   "pygments_lexer": "ipython3",
   "version": "3.10.8"
  }
 },
 "nbformat": 4,
 "nbformat_minor": 5
}
