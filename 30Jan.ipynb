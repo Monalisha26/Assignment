{
 "cells": [
  {
   "cell_type": "markdown",
   "id": "3f5b76f4",
   "metadata": {},
   "source": [
    "## 1"
   ]
  },
  {
   "cell_type": "code",
   "execution_count": 1,
   "id": "b9653362",
   "metadata": {},
   "outputs": [
    {
     "name": "stdout",
     "output_type": "stream",
     "text": [
      "Enter your marks:56\n",
      "Your grade is D\n"
     ]
    }
   ],
   "source": [
    "def grade(num):\n",
    "    if(num>90):\n",
    "        return \"A\"\n",
    "    elif(num>80 and num<=90):\n",
    "        return \"B\"\n",
    "    elif(num>60 and num<=80):\n",
    "        return \"C\"\n",
    "    else:\n",
    "        return \"D\"\n",
    "num=int(input(\"Enter your marks:\"))\n",
    "print(\"Your grade is\",grade(num))"
   ]
  },
  {
   "cell_type": "markdown",
   "id": "f906cdb3",
   "metadata": {},
   "source": [
    "## 2"
   ]
  },
  {
   "cell_type": "code",
   "execution_count": 2,
   "id": "4951db5b",
   "metadata": {},
   "outputs": [
    {
     "name": "stdout",
     "output_type": "stream",
     "text": [
      "Enter cost price of bike:560000\n",
      "Road Tax to be paid is 15%\n"
     ]
    }
   ],
   "source": [
    "def tax(price):\n",
    "    if(price>100000):\n",
    "        return \"15%\"\n",
    "    elif(price>50000 and price<=100000):\n",
    "        return \"10%\"\n",
    "    else:\n",
    "        return \"5%\"\n",
    "price=int(input(\"Enter cost price of bike:\"))\n",
    "print(\"Road Tax to be paid is\",tax(price))"
   ]
  },
  {
   "cell_type": "code",
   "execution_count": 3,
   "id": "bdfab5d5",
   "metadata": {},
   "outputs": [
    {
     "name": "stdout",
     "output_type": "stream",
     "text": [
      "Enter city:Delhi\n",
      "Monument in Delhi is Red Fort\n"
     ]
    }
   ],
   "source": [
    "def monument(city):\n",
    "    if city==\"Delhi\":\n",
    "        return \"Red Fort\"\n",
    "    elif city==\"Agra\":\n",
    "        return \"Taj Mahal\"\n",
    "    elif city==\"Jaipur\":\n",
    "        return \"Jal Mahal\"\n",
    "city=input(\"Enter city:\")\n",
    "print(\"Monument in\",city,\"is\",monument(city))"
   ]
  },
  {
   "cell_type": "code",
   "execution_count": 4,
   "id": "eb328950",
   "metadata": {},
   "outputs": [
    {
     "name": "stdout",
     "output_type": "stream",
     "text": [
      "Enter number:60\n",
      "2\n"
     ]
    }
   ],
   "source": [
    "def count(n):\n",
    "    n1=n\n",
    "    c=0\n",
    "    while(n1>10):\n",
    "        n1=n1/3\n",
    "        c=c+1\n",
    "    return c\n",
    "num=int(input(\"Enter number:\"))\n",
    "print(count(num))"
   ]
  },
  {
   "cell_type": "markdown",
   "id": "7353f9e6",
   "metadata": {},
   "source": [
    "## 5"
   ]
  },
  {
   "cell_type": "markdown",
   "id": "cdeab0f4",
   "metadata": {},
   "source": [
    "A while loop statement in Python programming language repeatedly executes a target statement as long as a given condition is true.We can use while loop to run the same task multiple times.It will keep on executing given set of statement(s) until the given condition becomes false.It can be used when we are not sure how many times we want the loop to run (numerically) rather we know when need to stop,when a given condition is no longer true. Also it is useful in infinite loop where infinite loop might be useful in client/server programming where the server needs to run continuously so that client programs can communicate with it as and when required."
   ]
  },
  {
   "cell_type": "code",
   "execution_count": 5,
   "id": "bcab66e5",
   "metadata": {},
   "outputs": [
    {
     "name": "stdout",
     "output_type": "stream",
     "text": [
      "100\n",
      "10\n",
      "1\n"
     ]
    },
    {
     "data": {
      "text/plain": [
       "'here we were not sure how many times we wanted the loop to run so we just provided the condition and loop kept on \\nrunning until condition was no longer satisfied'"
      ]
     },
     "execution_count": 5,
     "metadata": {},
     "output_type": "execute_result"
    }
   ],
   "source": [
    "def check(x):\n",
    "    while(x!=0): \n",
    "        print(x)\n",
    "        x=int(x/10)\n",
    "check(100)\n",
    "'''here we were not sure how many times we wanted the loop to run so we just provided the condition and loop kept on \n",
    "running until condition was no longer satisfied'''"
   ]
  },
  {
   "cell_type": "markdown",
   "id": "71a1bb03",
   "metadata": {},
   "source": [
    "## 6"
   ]
  },
  {
   "cell_type": "code",
   "execution_count": 6,
   "id": "11073f79",
   "metadata": {},
   "outputs": [
    {
     "name": "stdout",
     "output_type": "stream",
     "text": [
      "1 \n",
      "1 2 \n",
      "1 2 3 \n",
      "1 2 3 4 \n",
      "1 2 3 4 5 \n"
     ]
    }
   ],
   "source": [
    "i=1\n",
    "while i<=5:\n",
    "    j=1\n",
    "    while j<=i:\n",
    "        print(j,end=\" \")\n",
    "        j=j+1\n",
    "    print(\"\")\n",
    "    i=i+1"
   ]
  },
  {
   "cell_type": "code",
   "execution_count": 19,
   "id": "8aec8fad",
   "metadata": {},
   "outputs": [
    {
     "name": "stdout",
     "output_type": "stream",
     "text": [
      "* * * * *  \n",
      "* * * *  \n",
      "* * *  \n",
      "* *  \n",
      "*  \n"
     ]
    }
   ],
   "source": [
    "n= 5\n",
    "i=n\n",
    "j=0\n",
    "while(i!=0):\n",
    "    while(j!=int(i)):\n",
    "        print(\"*\", end=' ')\n",
    "        j=j+1\n",
    "    print(\" \")\n",
    "    i=i-1\n",
    "    j=0\n",
    "   "
   ]
  },
  {
   "cell_type": "code",
   "execution_count": 24,
   "id": "e3f30752",
   "metadata": {},
   "outputs": [
    {
     "name": "stdout",
     "output_type": "stream",
     "text": [
      "P\n",
      "Py\n",
      "Pyt\n",
      "Pyth\n",
      "Pytho\n",
      "Python\n"
     ]
    }
   ],
   "source": [
    "word = \"Python\"\n",
    "x = \"\"\n",
    "i=0\n",
    "while (i!=len(word)):\n",
    "    print(word[0:i+1])\n",
    "    i=i+1"
   ]
  },
  {
   "cell_type": "markdown",
   "id": "b234b1e1",
   "metadata": {},
   "source": [
    "## 7"
   ]
  },
  {
   "cell_type": "code",
   "execution_count": null,
   "id": "29419216",
   "metadata": {},
   "outputs": [],
   "source": [
    "n=10\n",
    "while(n>0):\n",
    "    print(n)\n",
    "    n=n-1"
   ]
  },
  {
   "cell_type": "markdown",
   "id": "8e2dcf35",
   "metadata": {},
   "source": [
    "## 8"
   ]
  },
  {
   "cell_type": "code",
   "execution_count": null,
   "id": "a6f502af",
   "metadata": {},
   "outputs": [],
   "source": [
    "n=10\n",
    "while(n>0):\n",
    "    print(n)\n",
    "    n=n-1"
   ]
  },
  {
   "cell_type": "code",
   "execution_count": null,
   "id": "e62631ae",
   "metadata": {},
   "outputs": [],
   "source": []
  }
 ],
 "metadata": {
  "kernelspec": {
   "display_name": "Python 3 (ipykernel)",
   "language": "python",
   "name": "python3"
  },
  "language_info": {
   "codemirror_mode": {
    "name": "ipython",
    "version": 3
   },
   "file_extension": ".py",
   "mimetype": "text/x-python",
   "name": "python",
   "nbconvert_exporter": "python",
   "pygments_lexer": "ipython3",
   "version": "3.11.3"
  }
 },
 "nbformat": 4,
 "nbformat_minor": 5
}
