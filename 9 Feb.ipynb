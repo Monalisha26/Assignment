{
 "cells": [
  {
   "cell_type": "markdown",
   "id": "f67d457f",
   "metadata": {},
   "source": [
    "## 1"
   ]
  },
  {
   "cell_type": "code",
   "execution_count": 1,
   "id": "0504c35a",
   "metadata": {},
   "outputs": [],
   "source": [
    "class Vehicle:\n",
    "    def __init__(self, name_of_vehicle, max_speed, average_of_vehicle):\n",
    "        self.name_of_vehicle = name_of_vehicle\n",
    "        self.max_speed = max_speed\n",
    "        self.average_of_vehicle = average_of_vehicle\n"
   ]
  },
  {
   "cell_type": "code",
   "execution_count": 2,
   "id": "edd2734d",
   "metadata": {},
   "outputs": [
    {
     "name": "stdout",
     "output_type": "stream",
     "text": [
      "Audi\n",
      "370\n",
      "30\n"
     ]
    }
   ],
   "source": [
    "car1 = Vehicle(\"Audi\", 370, 30)\n",
    "print(car1.name_of_vehicle)         \n",
    "print(car1.max_speed)               \n",
    "print(car1.average_of_vehicle) "
   ]
  },
  {
   "cell_type": "markdown",
   "id": "5215609f",
   "metadata": {},
   "source": [
    "## 2"
   ]
  },
  {
   "cell_type": "code",
   "execution_count": 5,
   "id": "78485b64",
   "metadata": {},
   "outputs": [],
   "source": [
    "class Car(Vehicle):\n",
    "    def seating_capacity(self, capacity):\n",
    "        return f\"{self.name_of_vehicle} - Seating Capacity: {capacity}\""
   ]
  },
  {
   "cell_type": "code",
   "execution_count": 7,
   "id": "804d36b0",
   "metadata": {},
   "outputs": [
    {
     "name": "stdout",
     "output_type": "stream",
     "text": [
      "Audi - Seating Capacity: 3\n"
     ]
    }
   ],
   "source": [
    "car2 = Car(\"Audi\", 370, 30)\n",
    "print(car2.seating_capacity(3))"
   ]
  },
  {
   "cell_type": "markdown",
   "id": "c6a44d61",
   "metadata": {},
   "source": [
    "## 3"
   ]
  },
  {
   "cell_type": "markdown",
   "id": "892a4e44",
   "metadata": {},
   "source": [
    "When a class is derived from more than one base class it is called multiple Inheritance. The derived class inherits all the features of the base case."
   ]
  },
  {
   "cell_type": "code",
   "execution_count": 8,
   "id": "ba6a23c8",
   "metadata": {},
   "outputs": [
    {
     "name": "stdout",
     "output_type": "stream",
     "text": [
      "Car speed is 20\n",
      "Car colour is yellow\n"
     ]
    }
   ],
   "source": [
    "class Speed:\n",
    "    def speed_info(self,speed):\n",
    "        print(\"Car speed is\",speed)\n",
    "\n",
    "class Colour:\n",
    "    def colour_info(self,colour):\n",
    "        print(\"Car colour is\",colour)\n",
    "\n",
    "class Car(Speed, Colour): # here car is deriving features of both speed and colour class\n",
    "    pass\n",
    "\n",
    "\n",
    "C3 = Car() \n",
    "\n",
    "C3.speed_info(20)\n",
    "C3.colour_info(\"yellow\")"
   ]
  },
  {
   "cell_type": "markdown",
   "id": "181e8a0e",
   "metadata": {},
   "source": [
    "## 4"
   ]
  },
  {
   "cell_type": "markdown",
   "id": "a09825fa",
   "metadata": {},
   "source": [
    "The main purpose of using getters and setters in python is to ensure data encapsulation.Private variables in python are not actually hidden fields like in other object oriented languages so to avoid direct access of a class field i.e. private variables cannot be accessed directly or modified by external user.\n",
    "Getter is a method that allows us to access an attribute in a given class and setter is s method that allows us to set or mutate the value of an attribute in a class in such cases."
   ]
  },
  {
   "cell_type": "code",
   "execution_count": 7,
   "id": "67682805",
   "metadata": {},
   "outputs": [],
   "source": [
    "class Car:\n",
    "    def __init__(self,colour):\n",
    "          self._colour = \"Black\"\n",
    "    def get_colour(self):\n",
    "         print(\"getter method called\")\n",
    "         return self._colour\n",
    "    def set_colour(self, a):\n",
    "         print(\"setter method called\")\n",
    "         self._colour = a\n",
    "  \n",
    "       "
   ]
  },
  {
   "cell_type": "code",
   "execution_count": 8,
   "id": "efd708ff",
   "metadata": {},
   "outputs": [
    {
     "name": "stdout",
     "output_type": "stream",
     "text": [
      "getter method called\n",
      "Black\n",
      "setter method called\n",
      "getter method called\n",
      "Blue\n"
     ]
    }
   ],
   "source": [
    "car2=Car(\"Yellow\")\n",
    "print(car2.get_colour())\n",
    "car2.set_colour(\"Blue\")\n",
    "print(car2.get_colour())"
   ]
  },
  {
   "cell_type": "markdown",
   "id": "8319efbd",
   "metadata": {},
   "source": [
    "Using getter and setter methods allows us to control access to the attributes and implement any validation or logic if necessary. It also follows the principle of encapsulation, where the internal representation of the class remains hidden from the outside world, and access to it is controlled through methods."
   ]
  },
  {
   "cell_type": "markdown",
   "id": "28bb4257",
   "metadata": {},
   "source": [
    "## 5"
   ]
  },
  {
   "cell_type": "markdown",
   "id": "93dd9250",
   "metadata": {},
   "source": [
    "Method overriding is an ability of any object-oriented programming language that allows a subclass or child class to provide a specific implementation of a method that is already provided by one of its super-classes or parent classes. When a method in a subclass has the same name, same parameters or signature and same return type(or sub-type) as a method in its super-class, then the method in the subclass is said to override the method in the super-class."
   ]
  },
  {
   "cell_type": "code",
   "execution_count": 11,
   "id": "a6363bbd",
   "metadata": {},
   "outputs": [
    {
     "name": "stdout",
     "output_type": "stream",
     "text": [
      "Not defined yet\n",
      "0 sides\n",
      "4 sides\n"
     ]
    }
   ],
   "source": [
    "class Shape:\n",
    "    def side(self):\n",
    "        return \"Not defined yet\"\n",
    "\n",
    "class circle(Shape):\n",
    "    def side(self):\n",
    "        return \"0 sides\"\n",
    "class Square(Shape):\n",
    "    def side(self):\n",
    "        return \"4 sides\"\n",
    "\n",
    "shape = Shape()\n",
    "circle = circle()\n",
    "square=Square()\n",
    "print(shape.side()) \n",
    "print(circle.side())\n",
    "print(square.side())\n"
   ]
  },
  {
   "cell_type": "code",
   "execution_count": null,
   "id": "a9c39815",
   "metadata": {},
   "outputs": [],
   "source": []
  }
 ],
 "metadata": {
  "kernelspec": {
   "display_name": "Python 3 (ipykernel)",
   "language": "python",
   "name": "python3"
  },
  "language_info": {
   "codemirror_mode": {
    "name": "ipython",
    "version": 3
   },
   "file_extension": ".py",
   "mimetype": "text/x-python",
   "name": "python",
   "nbconvert_exporter": "python",
   "pygments_lexer": "ipython3",
   "version": "3.11.3"
  }
 },
 "nbformat": 4,
 "nbformat_minor": 5
}
