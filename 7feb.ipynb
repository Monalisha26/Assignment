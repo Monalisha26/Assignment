{
 "cells": [
  {
   "cell_type": "markdown",
   "id": "9285ba22",
   "metadata": {},
   "source": [
    "## 1"
   ]
  },
  {
   "cell_type": "code",
   "execution_count": 19,
   "id": "f9d0ff22",
   "metadata": {},
   "outputs": [
    {
     "name": "stdout",
     "output_type": "stream",
     "text": [
      "Enter password:HeWOe#@!67\n",
      "Valid Password\n"
     ]
    }
   ],
   "source": [
    "def check(password):\n",
    "    l=0\n",
    "    u=0\n",
    "    s=0\n",
    "    n=0\n",
    "    if(len(password)==10):\n",
    "        for i in password:\n",
    "            if(i==i.lower()):\n",
    "                l=l+1\n",
    "            elif(i==i.upper()):\n",
    "                u=u+1\n",
    "            if(i.isnumeric()):\n",
    "                n=n+1\n",
    "            elif(i=='@'or i=='#' or i=='$' or i=='%' or i=='^' or i=='&' or i=='_' or i=='~' or i=='!'):\n",
    "                s=s+1\n",
    "        if(l>=2 and u>=2 and n>=1 and s>=3):\n",
    "            return \"Valid Password\"  \n",
    "        else:\n",
    "            return \"Invalid Password\"\n",
    "    \n",
    "    \n",
    "    else:\n",
    "        return \"Invalid Password\"\n",
    "\n",
    "password1=input(\"Enter password:\")\n",
    "print(check(password1))"
   ]
  },
  {
   "cell_type": "markdown",
   "id": "e24fba88",
   "metadata": {},
   "source": [
    "## 2"
   ]
  },
  {
   "cell_type": "code",
   "execution_count": 13,
   "id": "96e88cb2",
   "metadata": {},
   "outputs": [
    {
     "name": "stdout",
     "output_type": "stream",
     "text": [
      "True\n",
      "False\n"
     ]
    }
   ],
   "source": [
    "#lambda function-check if string starts with a particular letter\n",
    "starts_with = lambda x: True if x.startswith('A') else False\n",
    "print(starts_with('Apple'))\n",
    "starts_with = lambda x: True if x.startswith('b') else False\n",
    "print(starts_with('Xyz'))"
   ]
  },
  {
   "cell_type": "code",
   "execution_count": 24,
   "id": "1266aa9b",
   "metadata": {},
   "outputs": [
    {
     "name": "stdout",
     "output_type": "stream",
     "text": [
      "True\n",
      "False\n"
     ]
    }
   ],
   "source": [
    "#lambda function-Check if the string is numeric\n",
    "is_numeric=lambda x:True if x.isnumeric() else False\n",
    "print(is_numeric(\"23\"))\n",
    "is_numeric=lambda x:True if x.isnumeric() else False\n",
    "print(is_numeric(\"56r4\"))"
   ]
  },
  {
   "cell_type": "code",
   "execution_count": 26,
   "id": "577f6de4",
   "metadata": {},
   "outputs": [
    {
     "data": {
      "text/plain": [
       "[('grapes', 1000), ('mango', 99), ('orange', 80)]"
      ]
     },
     "execution_count": 26,
     "metadata": {},
     "output_type": "execute_result"
    }
   ],
   "source": [
    "#lambda function-Sort a list of tuples having fruit names and their quantity\n",
    "def sort_list(list1):\n",
    "    return(sorted(list1, key = lambda x: x[0]))# sorted on basis of name\n",
    "list1=[(\"mango\",99),(\"orange\",80), (\"grapes\", 1000)]\n",
    "sort_list(list1)"
   ]
  },
  {
   "cell_type": "code",
   "execution_count": 33,
   "id": "3522d758",
   "metadata": {},
   "outputs": [
    {
     "name": "stdout",
     "output_type": "stream",
     "text": [
      "[1, 4, 9, 16, 25, 36, 49, 64, 81, 100]\n"
     ]
    }
   ],
   "source": [
    "#Find the squares of numbers from 1 to 10\n",
    "l=[x for x in range(1,11)] #list comprehension\n",
    "l1=map(lambda x: x**2,l)  # map and lambda used \n",
    "print(list(l1))"
   ]
  },
  {
   "cell_type": "code",
   "execution_count": 34,
   "id": "83650d42",
   "metadata": {},
   "outputs": [
    {
     "name": "stdout",
     "output_type": "stream",
     "text": [
      "[1, 8, 27, 64, 125, 216, 343, 512, 729, 1000]\n"
     ]
    }
   ],
   "source": [
    "#Find the cube root of numbers from 1 to 10\n",
    "l=[x for x in range(1,11)] #list comprehension\n",
    "l1=map(lambda x: x**3,l)  # map and lambda used \n",
    "print(list(l1))"
   ]
  },
  {
   "cell_type": "code",
   "execution_count": 37,
   "id": "51a94ac6",
   "metadata": {},
   "outputs": [
    {
     "name": "stdout",
     "output_type": "stream",
     "text": [
      "True\n",
      "False\n"
     ]
    }
   ],
   "source": [
    "#Lambda function-Check if a given number is even\n",
    "is_even=lambda x:True if x%2==0 else False\n",
    "print(is_even(4))\n",
    "is_even=lambda x:True if x%2==0 else False\n",
    "print(is_even(5))"
   ]
  },
  {
   "cell_type": "code",
   "execution_count": 42,
   "id": "9cb773d6",
   "metadata": {},
   "outputs": [
    {
     "name": "stdout",
     "output_type": "stream",
     "text": [
      "[1, 3, 5, 7, 9]\n"
     ]
    }
   ],
   "source": [
    "#Filter odd numbers from the given list.\n",
    "l1=[1,2,3,4,5,6,7,8,9,10]\n",
    "l2=filter(lambda x:x%2!=0,l1) # filter and lambda used\n",
    "print(list(l2))"
   ]
  },
  {
   "cell_type": "code",
   "execution_count": 46,
   "id": "c43f154e",
   "metadata": {},
   "outputs": [
    {
     "name": "stdout",
     "output_type": "stream",
     "text": [
      "[1, 2, 3, 4, 6, 7]\n",
      "[-5, -4, -3, -2, -1]\n"
     ]
    }
   ],
   "source": [
    "#Sort a list of integers into positive and negative integers lists.\n",
    "l1=[1,2,3,4,7,6,-1,-2,-3,-4,-5,0]\n",
    "l2=sorted(filter(lambda x:x>0,l1)) # filter,lambda,list comphrehension used\n",
    "l3=sorted(filter(lambda x:x<0,l1))\n",
    "print(list(l2))\n",
    "print(list(l3))"
   ]
  },
  {
   "cell_type": "code",
   "execution_count": null,
   "id": "b69c4326",
   "metadata": {},
   "outputs": [],
   "source": []
  }
 ],
 "metadata": {
  "kernelspec": {
   "display_name": "Python 3 (ipykernel)",
   "language": "python",
   "name": "python3"
  },
  "language_info": {
   "codemirror_mode": {
    "name": "ipython",
    "version": 3
   },
   "file_extension": ".py",
   "mimetype": "text/x-python",
   "name": "python",
   "nbconvert_exporter": "python",
   "pygments_lexer": "ipython3",
   "version": "3.11.3"
  }
 },
 "nbformat": 4,
 "nbformat_minor": 5
}
