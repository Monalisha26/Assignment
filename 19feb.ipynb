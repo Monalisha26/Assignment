{
 "cells": [
  {
   "cell_type": "markdown",
   "id": "747d9037",
   "metadata": {},
   "source": [
    "## 1"
   ]
  },
  {
   "cell_type": "markdown",
   "id": "3a9495b1",
   "metadata": {},
   "source": [
    "Flask is a micro web framework for Python. It is designed to be lightweight, flexible, and easy to use, making it a popular choice for developing web applications, APIs, and other web-related projects. While it is considered \"micro,\" it doesn't mean it lacks functionality; instead, it focuses on providing the core features needed for web development and leaves the rest open for customization and extension.\n",
    "\n",
    "Advantages of the Flask Framework:\n",
    "\n",
    "1.Simplicity: Flask follows a minimalistic approach, which means it provides only the essentials for web development. This simplicity makes it easy for developers to learn and use, especially for small to medium-sized projects.\n",
    "\n",
    "2.Flexibility: Flask doesn't enforce a rigid structure on our project, allowing us to organize our code and project components the way you prefer. This makes it suitable for various types of projects and architectures.\n",
    "\n",
    "3.Extensibility: Flask is designed to be modular and allows us to easily add extensions for features you need, such as database integration, authentication, and more. This keeps the core framework lightweight while enabling us to customize our project's functionality.\n",
    "\n",
    "4.Minimal Abstractions: Flask doesn't add many layers of abstraction, which means we have more control over how things work. This can be beneficial for experienced developers who want to understand and manage every aspect of their application.\n",
    "\n",
    "5.Built-in Development Server: Flask includes a built-in development server, making it convenient to test and debug our application during development without requiring additional setup.\n",
    "\n",
    "6.Widely Used: Flask is widely adopted within the Python community, which means we can find a lot of resources, tutorials, and libraries that can help us during development.\n",
    "\n",
    "7.Well-documented: Flask has comprehensive documentation that covers various aspects of the framework, making it easier for developers, both beginners and experienced, to understand its features and capabilities.\n",
    "\n",
    "8.RESTful Support: Flask provides the tools and flexibility to build RESTful APIs easily, making it a great choice for creating web services.\n",
    "\n",
    "9.Community and Ecosystem: Flask has a strong and active community that continually contributes extensions, libraries, and tools, which can enhance our development process and speed up your project's progress.\n",
    "\n",
    "10.Minimal Overhead: Since Flask is lightweight, it doesn't impose unnecessary overhead on our application. This can result in faster response times and efficient resource usage."
   ]
  },
  {
   "cell_type": "markdown",
   "id": "4201776a",
   "metadata": {},
   "source": [
    "## 2"
   ]
  },
  {
   "cell_type": "code",
   "execution_count": 4,
   "id": "53e7658d",
   "metadata": {},
   "outputs": [
    {
     "name": "stdout",
     "output_type": "stream",
     "text": [
      " * Serving Flask app '__main__'\n",
      " * Debug mode: off\n"
     ]
    },
    {
     "name": "stderr",
     "output_type": "stream",
     "text": [
      "WARNING: This is a development server. Do not use it in a production deployment. Use a production WSGI server instead.\n",
      " * Running on all addresses (0.0.0.0)\n",
      " * Running on http://127.0.0.1:5000\n",
      " * Running on http://192.168.29.234:5000\n",
      "Press CTRL+C to quit\n"
     ]
    }
   ],
   "source": [
    "from flask import Flask\n",
    "app = Flask(__name__)\n",
    "\n",
    "@app.route(\"/\")\n",
    "def hello_world():\n",
    "    return \"Hello World!!\"\n",
    "\n",
    "if __name__==\"__main__\":\n",
    "    app.run(host=\"0.0.0.0\")\n"
   ]
  },
  {
   "cell_type": "code",
   "execution_count": 1,
   "id": "cab41972",
   "metadata": {},
   "outputs": [
    {
     "data": {
      "image/png": "[encoded data removed]",
      "text/plain": [
       "<IPython.core.display.Image object>"
      ]
     },
     "execution_count": 1,
     "metadata": {},
     "output_type": "execute_result"
    }
   ],
   "source": [
    "from IPython.display import Image\n",
    "img_path = 'screenshot.png'\n",
    "\n",
    "Image(filename=img_path)\n"
   ]
  },
  {
   "cell_type": "markdown",
   "id": "1eb31d8f",
   "metadata": {},
   "source": [
    "## 3"
   ]
  },
  {
   "cell_type": "markdown",
   "id": "974a9afc",
   "metadata": {},
   "source": [
    "In Flask, app routing refers to the process of mapping URLs (Uniform Resource Locators) to specific Python functions that handle requests for those URLs. This mapping is established using decorators provided by Flask, specifically the `@app.route` decorator. The `@app.route` decorator allows us to associate a URL with a Python function, which will be executed when a user accesses that URL in their web browser or sends a request to that URL.\n",
    "\n",
    "Here's a basic example of using app routing in Flask:"
   ]
  },
  {
   "cell_type": "code",
   "execution_count": 2,
   "id": "9870ae0c",
   "metadata": {},
   "outputs": [
    {
     "name": "stdout",
     "output_type": "stream",
     "text": [
      " * Serving Flask app '__main__'\n",
      " * Debug mode: off\n"
     ]
    },
    {
     "name": "stderr",
     "output_type": "stream",
     "text": [
      "WARNING: This is a development server. Do not use it in a production deployment. Use a production WSGI server instead.\n",
      " * Running on http://127.0.0.1:5000\n",
      "Press CTRL+C to quit\n",
      "127.0.0.1 - - [26/Aug/2023 22:04:34] \"GET / HTTP/1.1\" 200 -\n"
     ]
    }
   ],
   "source": [
    "from flask import Flask\n",
    "\n",
    "app = Flask(__name__)\n",
    "\n",
    "@app.route('/')\n",
    "def home():\n",
    "    return 'Welcome to the homepage!'\n",
    "\n",
    "@app.route('/about')\n",
    "def about():\n",
    "    return 'This is the about page.'\n",
    "\n",
    "@app.route('/contact')\n",
    "def contact():\n",
    "    return 'You can contact us here.'\n",
    "\n",
    "if __name__ == '__main__':\n",
    "    app.run()"
   ]
  },
  {
   "cell_type": "markdown",
   "id": "fb0704b9",
   "metadata": {},
   "source": [
    "In this example, we've defined three different routes using the @app.route decorator. The routes are '/', '/about', and '/contact', and each one is associated with a specific function (home(), about(), and contact()). When a user accesses one of these URLs in their browser, Flask calls the corresponding function and returns the result as the response.\n",
    "\n",
    "App routing is a fundamental concept in web development and serves several purposes:\n",
    "\n",
    "1.URL Structure: App routing allows us to define a structured URL scheme for our application. This makes our application's URLs meaningful and user-friendly.\n",
    "\n",
    "2.Resource Mapping: Each URL can map to a specific resource or functionality in our application. For example, we might have routes for different pages, API endpoints, or actions.\n",
    "\n",
    "3.Dynamic Content: We can use variable parts in URLs to create dynamic routes that handle different data or parameters. For instance, /user/123 could map to a function that displays user information for the user with ID 123.\n",
    "\n",
    "4.Separation of Concerns: Routing allows us to separate different parts of our application's functionality into distinct functions. This promotes clean and organized code.\n",
    "\n",
    "5.RESTful APIs: For applications that provide APIs, app routing helps define routes for different API endpoints, making it easy for clients to interact with our application.\n",
    "\n",
    "6.Request Handling: The route functions we define can process incoming requests, interact with databases, perform business logic, and generate responses to be sent back to the client.\n",
    "\n",
    "7.URL Building: Flask provides tools to generate URLs for specific routes, making it easier to create links within our application."
   ]
  },
  {
   "cell_type": "markdown",
   "id": "9cba50f8",
   "metadata": {},
   "source": [
    "## 4"
   ]
  },
  {
   "cell_type": "code",
   "execution_count": 10,
   "id": "d483b296",
   "metadata": {},
   "outputs": [
    {
     "name": "stdout",
     "output_type": "stream",
     "text": [
      " * Serving Flask app '__main__'\n",
      " * Debug mode: off\n"
     ]
    },
    {
     "name": "stderr",
     "output_type": "stream",
     "text": [
      "WARNING: This is a development server. Do not use it in a production deployment. Use a production WSGI server instead.\n",
      " * Running on http://127.0.0.1:5000\n",
      "Press CTRL+C to quit\n",
      "127.0.0.1 - - [26/Aug/2023 22:15:29] \"GET / HTTP/1.1\" 200 -\n",
      "127.0.0.1 - - [26/Aug/2023 22:15:55] \"GET /welcome HTTP/1.1\" 200 -\n"
     ]
    }
   ],
   "source": [
    "from flask import Flask\n",
    "\n",
    "app = Flask(__name__)\n",
    "\n",
    "@app.route('/')\n",
    "def home():\n",
    "    return '<p>Company Name: ABC Corporation<br>Location: India<br>Contact Detail: 999-999-9999</p>'\n",
    "\n",
    "@app.route('/welcome')\n",
    "def about():\n",
    "    return 'Welcome to ABC Corporation'\n",
    "    \n",
    "\n",
    "if __name__ == '__main__':\n",
    "    app.run()"
   ]
  },
  {
   "cell_type": "code",
   "execution_count": 11,
   "id": "0f8b4f61",
   "metadata": {},
   "outputs": [
    {
     "data": {
      "image/png": "[encoded data removed]",
      "text/plain": [
       "<IPython.core.display.Image object>"
      ]
     },
     "execution_count": 11,
     "metadata": {},
     "output_type": "execute_result"
    }
   ],
   "source": [
    "Image(filename='welcome.png')"
   ]
  },
  {
   "cell_type": "code",
   "execution_count": 12,
   "id": "53fd3192",
   "metadata": {},
   "outputs": [
    {
     "data": {
      "image/png": "[encoded data removed]",
      "text/plain": [
       "<IPython.core.display.Image object>"
      ]
     },
     "execution_count": 12,
     "metadata": {},
     "output_type": "execute_result"
    }
   ],
   "source": [
    "Image(filename='test.png')"
   ]
  },
  {
   "cell_type": "markdown",
   "id": "35e7db7b",
   "metadata": {},
   "source": [
    "## 5"
   ]
  },
  {
   "cell_type": "markdown",
   "id": "454e21ad",
   "metadata": {},
   "source": [
    "In Flask, the `url_for()` function is used for URL building. It generates a URL for a given view function based on the name of the function. This function is especially useful when we want to create links within our application that are insulated from changes in the actual URL structure. It allows us to generate URLs dynamically without hardcoding them.\n",
    "\n",
    "Here's an example Python code that demonstrates the usage of the `url_for()` function in Flask:"
   ]
  },
  {
   "cell_type": "code",
   "execution_count": 16,
   "id": "9d11b721",
   "metadata": {},
   "outputs": [
    {
     "name": "stdout",
     "output_type": "stream",
     "text": [
      "Generated URLs:\n",
      "Home URL: /\n",
      "About URL: /about\n",
      "Contact URL: /contact\n",
      " * Serving Flask app '__main__'\n",
      " * Debug mode: off\n"
     ]
    },
    {
     "name": "stderr",
     "output_type": "stream",
     "text": [
      "WARNING: This is a development server. Do not use it in a production deployment. Use a production WSGI server instead.\n",
      " * Running on http://127.0.0.1:5000\n",
      "Press CTRL+C to quit\n",
      "127.0.0.1 - - [26/Aug/2023 22:22:26] \"GET / HTTP/1.1\" 200 -\n",
      "127.0.0.1 - - [26/Aug/2023 22:22:31] \"GET /home HTTP/1.1\" 404 -\n",
      "127.0.0.1 - - [26/Aug/2023 22:22:47] \"GET /about HTTP/1.1\" 200 -\n",
      "127.0.0.1 - - [26/Aug/2023 22:22:52] \"GET /contact HTTP/1.1\" 200 -\n"
     ]
    }
   ],
   "source": [
    "from flask import Flask, url_for\n",
    "\n",
    "app = Flask(__name__)\n",
    "\n",
    "@app.route(home_url)\n",
    "def home():\n",
    "    return 'Welcome to the homepage.'\n",
    "\n",
    "@app.route(about_url)\n",
    "def about():\n",
    "    return 'This is the about page.'\n",
    "\n",
    "@app.route(contact_url)\n",
    "def contact():\n",
    "    return 'You can contact us here.'\n",
    "\n",
    "if __name__ == '__main__':\n",
    "    with app.test_request_context():\n",
    "        # Generating URLs using url_for() function\n",
    "        home_url = url_for('home')\n",
    "        about_url = url_for('about')\n",
    "        contact_url = url_for('contact')\n",
    "\n",
    "        print(\"Generated URLs:\")\n",
    "        print(\"Home URL:\", home_url)\n",
    "        print(\"About URL:\", about_url)\n",
    "        print(\"Contact URL:\", contact_url)\n",
    "        app.run()"
   ]
  },
  {
   "cell_type": "markdown",
   "id": "41fe9426",
   "metadata": {},
   "source": [
    "In this example, the `url_for()` function is used within the `test_request_context()` block to demonstrate how we can generate URLs for different routes. The function takes the name of the view function as an argument and returns the corresponding URL.\n",
    "\n",
    "The `url_for()` function is particularly useful when we need to change the URLs in our application. We won't have to update each individual link in our code; instead, we can update the routing logic and the `url_for()` calls will generate the correct URLs for us."
   ]
  },
  {
   "cell_type": "code",
   "execution_count": null,
   "id": "65506b31",
   "metadata": {},
   "outputs": [],
   "source": []
  }
 ],
 "metadata": {
  "kernelspec": {
   "display_name": "Python 3 (ipykernel)",
   "language": "python",
   "name": "python3"
  },
  "language_info": {
   "codemirror_mode": {
    "name": "ipython",
    "version": 3
   },
   "file_extension": ".py",
   "mimetype": "text/x-python",
   "name": "python",
   "nbconvert_exporter": "python",
   "pygments_lexer": "ipython3",
   "version": "3.11.3"
  }
 },
 "nbformat": 4,
 "nbformat_minor": 5
}
